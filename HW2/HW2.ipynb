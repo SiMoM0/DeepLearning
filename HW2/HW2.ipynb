{
  "cells": [
    {
      "cell_type": "markdown",
      "metadata": {
        "id": "raUKrVPW0SO1"
      },
      "source": [
        "#**Deep Learning Homework 2: *Optimize and Train Deep Models***\n",
        "### MSc Computer Science, Data Science, Cybersecurity @UniPD\n",
        "### 2nd semester - 6 ECTS\n",
        "### Prof. Nicolò Navarin & Prof. Alessandro Sperduti\n",
        "---"
      ]
    },
    {
      "cell_type": "markdown",
      "metadata": {
        "id": "QUc9frYnVBI_"
      },
      "source": [
        "In this homework, we will explore how to develop a simple Deep Neural Network for a classification problem. We will explore two common libraries: TensorFlow and Keras.\n",
        "Then we will explore how to face a well known problem that is common to encounter during the training phase: the Overfitting.\n",
        "Finally, we will study how to perform a fair model selection.\n",
        "Hint: Before starting the exercise take a look at how Tensorflow and Keras are designed.  https://keras.io/"
      ]
    },
    {
      "cell_type": "markdown",
      "metadata": {
        "id": "e-Nc7mFSVEiU"
      },
      "source": [
        "## Exercise 2.1: Text Classficiation with Tensorflow and Keras\n",
        "\n",
        "In this first exercise we will develop a 3 layers Neural Network to perfrom classification.\n",
        "\n",
        "Let's start importing the libraries we will need and setting a couple of environmental variables.\n"
      ]
    },
    {
      "cell_type": "code",
      "execution_count": 14,
      "metadata": {
        "id": "bWn9FzneVqJo"
      },
      "outputs": [],
      "source": [
        "import matplotlib as mpl\n",
        "import matplotlib.pyplot as plt\n",
        "import numpy as np\n",
        "import os\n",
        "import pandas as pd\n",
        "import sklearn\n",
        "import sys\n",
        "import tensorflow as tf\n",
        "from tensorflow import keras  # tf.keras\n",
        "import tensorflow_datasets as tfds\n",
        "import time\n",
        "\n",
        "import logging\n",
        "logging.disable(logging.WARNING)\n",
        "os.environ[\"TF_CPP_MIN_LOG_LEVEL\"] = \"3\" \n",
        "\n",
        "tf.random.set_seed(42)\n",
        "# os.environ['TF_DETERMINISTIC_OPS']='1'"
      ]
    },
    {
      "cell_type": "markdown",
      "metadata": {
        "id": "LT2HMYDEXcx0"
      },
      "source": [
        "### Load Data: AG News Subset\n",
        "\n",
        "In this HW, we use the AG News Subset that is available in Tensorflow Dataset. The AG's news topic classification dataset is constructed by choosing the 4 largest topic classes from a larger news corups. The total number of training samples is 120,000 and testing 7,600. Each class contains 30,000 training samples and 1,900 testing samples. Each sample contains both the title and an excerpt of the article, but in this exercise we will use only the excerpt as input.\n",
        "\n",
        "We will split the training set into two 90%-10% splits in order to have a validation set."
      ]
    },
    {
      "cell_type": "code",
      "execution_count": 15,
      "metadata": {
        "id": "d8xZASzs26zD"
      },
      "outputs": [],
      "source": [
        "### NOTE ### \n",
        "# running this cell might yield download-related errors.\n",
        "# just repeating the execution a couple of times should solve the error.\n",
        "\n",
        "train_ds, valid_ds, test_ds = tfds.load('ag_news_subset',\n",
        "                                        as_supervised=True, # return a set of (text, label) tuples \n",
        "                                        split=['train[:90%]', 'train[-10%:]', 'test'],\n",
        "                                        batch_size=-1)  \n",
        "                                        # ^ using batch_size=-1 returns Tensors instead of Dataset objects"
      ]
    },
    {
      "cell_type": "code",
      "execution_count": 16,
      "metadata": {
        "id": "BYkXCTv3NrvC"
      },
      "outputs": [],
      "source": [
        "# Tensors have two elements, data and labels; let's split them\n",
        "# so we can transform the data\n",
        "X_train, y_train = train_ds\n",
        "X_valid, y_valid = valid_ds\n",
        "X_test, y_test = test_ds"
      ]
    },
    {
      "cell_type": "markdown",
      "metadata": {
        "id": "8prUBtqq8JW7"
      },
      "source": [
        "The AG News Subset dataset consists in news articles, each one composed by a sequence of words. In order to encode each article in a single tensor with a fixed number of elements, we will use multi-hot encoding. For testing purposes, we will only consider the first 10,000  most common words. Multi-hot-encoding our lists means turning them into vectors of 0s and 1s. Concretely, this would mean for instance turning the sequence [3, 5] into a 10,000-dimensional vector that would be all-zeros except for indices 3 and 5, which would be ones. The obtained input representation indicates which words are present (at least one time) in the sentence."
      ]
    },
    {
      "cell_type": "code",
      "execution_count": 17,
      "metadata": {
        "id": "Brt087tDIDpe"
      },
      "outputs": [],
      "source": [
        "num_words = 1000\n",
        "vectorize_layer = tf.keras.layers.TextVectorization(\n",
        " max_tokens=num_words,\n",
        " standardize=\"lower_and_strip_punctuation\",\n",
        " split=\"whitespace\",\n",
        " output_mode='multi_hot',\n",
        " pad_to_max_tokens=True)\n",
        "\n",
        "vectorize_layer.adapt(X_train)"
      ]
    },
    {
      "cell_type": "code",
      "execution_count": 18,
      "metadata": {
        "id": "seuFLH2lNiDT"
      },
      "outputs": [],
      "source": [
        "X_train = vectorize_layer(X_train)\n",
        "X_valid = vectorize_layer(X_valid)\n",
        "X_test  = vectorize_layer(X_test)"
      ]
    },
    {
      "cell_type": "markdown",
      "metadata": {
        "id": "jGUg8TexZMNf"
      },
      "source": [
        "### Define the model:\n",
        "\n",
        "Let's build a Sequential model (`keras.models.Sequential`) and add four layers to it by calling its `add()` method:\n",
        "\n",
        "\n",
        "*   a input layer (`tf.keras.Input`) that is the first layer in your model. With this layer you should specify the `input_shape` argument, leaving out the batch size: `(num_words,)`;\n",
        "*  a Dense layer (`keras.layers.Dense`) with 16 neurons, and the \"relu\" activation function;\n",
        "* another Dense layer with 16 neurons, also with the \"relu\" activation function;\n",
        "* a final Dense layer with 4 output neurons, and with the \"softmax\" activation (since we considering a classification task with four classes)."
      ]
    },
    {
      "cell_type": "code",
      "execution_count": 19,
      "metadata": {
        "id": "OaoEISyaZL56"
      },
      "outputs": [],
      "source": [
        "model = keras.models.Sequential()\n",
        "model.add(tf.keras.Input(shape=(num_words,)))\n",
        "model.add(keras.layers.Dense(16, activation=\"relu\"))\n",
        "model.add(keras.layers.Dense(16, activation=\"relu\"))\n",
        "model.add(keras.layers.Dense(4, activation=\"softmax\"))"
      ]
    },
    {
      "cell_type": "markdown",
      "metadata": {
        "id": "fYfxUOQVZljh"
      },
      "source": [
        "Call the model's `summary()` method to check if the model has been built correctly. Also, try using `keras.utils.plot_model()` to save an image of your model's architecture."
      ]
    },
    {
      "cell_type": "code",
      "execution_count": 20,
      "metadata": {
        "colab": {
          "base_uri": "https://localhost:8080/"
        },
        "id": "IpGkQl5dZoWq",
        "outputId": "aac310b4-6e58-4f4a-a503-82f0b3308f5d"
      },
      "outputs": [
        {
          "name": "stdout",
          "output_type": "stream",
          "text": [
            "Model: \"sequential_4\"\n",
            "_________________________________________________________________\n",
            " Layer (type)                Output Shape              Param #   \n",
            "=================================================================\n",
            " dense_12 (Dense)            (None, 16)                16016     \n",
            "                                                                 \n",
            " dense_13 (Dense)            (None, 16)                272       \n",
            "                                                                 \n",
            " dense_14 (Dense)            (None, 4)                 68        \n",
            "                                                                 \n",
            "=================================================================\n",
            "Total params: 16,356\n",
            "Trainable params: 16,356\n",
            "Non-trainable params: 0\n",
            "_________________________________________________________________\n"
          ]
        }
      ],
      "source": [
        "model.summary()"
      ]
    },
    {
      "cell_type": "code",
      "execution_count": 21,
      "metadata": {
        "colab": {
          "base_uri": "https://localhost:8080/",
          "height": 422
        },
        "id": "b1NbkrXRZwOA",
        "outputId": "17ef2bc8-1a02-4529-cb6f-ef777c81f4c7"
      },
      "outputs": [
        {
          "data": {
            "image/png": "[encoded data removed]",
            "text/plain": [
              "<IPython.core.display.Image object>"
            ]
          },
          "execution_count": 21,
          "metadata": {},
          "output_type": "execute_result"
        }
      ],
      "source": [
        "keras.utils.plot_model(model, \"my_model.png\", show_shapes=True)"
      ]
    },
    {
      "cell_type": "markdown",
      "metadata": {
        "id": "Mc3xzuA-33WH"
      },
      "source": [
        "As you can see, the first dimension of each layer is not defined (`None`), indeed this dimension in each layer is variable and depends on the batch size."
      ]
    },
    {
      "cell_type": "markdown",
      "metadata": {
        "id": "6FAjFixuHSA_"
      },
      "source": [
        "Instaed of using `add()` method it is also possibile to define the model using the following syntax"
      ]
    },
    {
      "cell_type": "code",
      "execution_count": 22,
      "metadata": {
        "colab": {
          "base_uri": "https://localhost:8080/",
          "height": 683
        },
        "id": "yOhr57M9GPHy",
        "outputId": "d4c6c44b-0410-46e5-ee5a-13bad8ac432f"
      },
      "outputs": [
        {
          "name": "stdout",
          "output_type": "stream",
          "text": [
            "Model: \"sequential_5\"\n",
            "_________________________________________________________________\n",
            " Layer (type)                Output Shape              Param #   \n",
            "=================================================================\n",
            " dense_15 (Dense)            (None, 16)                16016     \n",
            "                                                                 \n",
            " dense_16 (Dense)            (None, 16)                272       \n",
            "                                                                 \n",
            " dense_17 (Dense)            (None, 4)                 68        \n",
            "                                                                 \n",
            "=================================================================\n",
            "Total params: 16,356\n",
            "Trainable params: 16,356\n",
            "Non-trainable params: 0\n",
            "_________________________________________________________________\n"
          ]
        },
        {
          "data": {
            "image/png": "[encoded data removed]",
            "text/plain": [
              "<IPython.core.display.Image object>"
            ]
          },
          "execution_count": 22,
          "metadata": {},
          "output_type": "execute_result"
        }
      ],
      "source": [
        "model = keras.models.Sequential([\n",
        "    tf.keras.Input(shape=(num_words,)),\n",
        "    keras.layers.Dense(16, activation=\"relu\"),\n",
        "    keras.layers.Dense(16, activation=\"relu\"),\n",
        "    keras.layers.Dense(4, activation=\"softmax\")\n",
        "])\n",
        "model.summary()\n",
        "keras.utils.plot_model(model, \"my_model.png\", show_shapes=True)"
      ]
    },
    {
      "cell_type": "markdown",
      "metadata": {
        "id": "2ySdJmzxaSuz"
      },
      "source": [
        "### Optimize the model:\n",
        "\n",
        "After the model has been created, you must call its `compile()` method to specify the loss function and the optimizer to use.\n",
        "\n",
        "Since the model performs a classification task, and we have labels encoded as integers, we use the sparse categorical cross-entropy loss. As optimizer we use Adam.\n",
        "\n",
        "Moreover, you can optionally specify a list of additional metrics that should be measured during training. In this case we specify `metrics=[\"accuracy\"]`."
      ]
    },
    {
      "cell_type": "code",
      "execution_count": 23,
      "metadata": {
        "id": "x3bbsY3uaeh5"
      },
      "outputs": [],
      "source": [
        "model.compile(loss=\"sparse_categorical_crossentropy\",\n",
        "              optimizer=keras.optimizers.Adam(learning_rate=1e-4),\n",
        "              metrics=[\"accuracy\"])"
      ]
    },
    {
      "cell_type": "markdown",
      "metadata": {
        "id": "NB9SV0MpaeTg"
      },
      "source": [
        "Now our model is ready to be trained. Call its `fit()` method, passing to it the input features (`X_train`) and the target classes (`y_train`). Set the number of epochs to 20. \n",
        "In order to validate our model we will also pass the validation data by setting `validation_data=(X_valid, y_valid)`. Keras will compute the loss and the additional metrics (the accuracy in this case) on the validation set at the end of each epoch. If the loss on the training set is much lower than the one on the validation set, your model is probably overfitting the training set. Note: the `fit()` method will return a `History` object containing training stats."
      ]
    },
    {
      "cell_type": "code",
      "execution_count": 24,
      "metadata": {
        "colab": {
          "base_uri": "https://localhost:8080/"
        },
        "id": "5whx-LU3aoKn",
        "outputId": "967cbef7-dac2-4714-ac29-875023d77ae2"
      },
      "outputs": [
        {
          "name": "stdout",
          "output_type": "stream",
          "text": [
            "Epoch 1/20\n",
            "3375/3375 [==============================] - 5s 1ms/step - loss: 0.8503 - accuracy: 0.6761 - val_loss: 0.5107 - val_accuracy: 0.8314\n",
            "Epoch 2/20\n",
            "3375/3375 [==============================] - 5s 1ms/step - loss: 0.4583 - accuracy: 0.8449 - val_loss: 0.4452 - val_accuracy: 0.8475\n",
            "Epoch 3/20\n",
            "3375/3375 [==============================] - 4s 1ms/step - loss: 0.4222 - accuracy: 0.8546 - val_loss: 0.4318 - val_accuracy: 0.8507\n",
            "Epoch 4/20\n",
            "3375/3375 [==============================] - 5s 1ms/step - loss: 0.4089 - accuracy: 0.8573 - val_loss: 0.4241 - val_accuracy: 0.8509\n",
            "Epoch 5/20\n",
            "3375/3375 [==============================] - 5s 1ms/step - loss: 0.4012 - accuracy: 0.8590 - val_loss: 0.4210 - val_accuracy: 0.8525\n",
            "Epoch 6/20\n",
            "3375/3375 [==============================] - 5s 1ms/step - loss: 0.3959 - accuracy: 0.8601 - val_loss: 0.4175 - val_accuracy: 0.8531\n",
            "Epoch 7/20\n",
            "3375/3375 [==============================] - 5s 1ms/step - loss: 0.3917 - accuracy: 0.8615 - val_loss: 0.4149 - val_accuracy: 0.8535\n",
            "Epoch 8/20\n",
            "3375/3375 [==============================] - 5s 1ms/step - loss: 0.3882 - accuracy: 0.8617 - val_loss: 0.4132 - val_accuracy: 0.8550\n",
            "Epoch 9/20\n",
            "3375/3375 [==============================] - 5s 1ms/step - loss: 0.3851 - accuracy: 0.8627 - val_loss: 0.4109 - val_accuracy: 0.8540\n",
            "Epoch 10/20\n",
            "3375/3375 [==============================] - 5s 1ms/step - loss: 0.3825 - accuracy: 0.8629 - val_loss: 0.4096 - val_accuracy: 0.8534\n",
            "Epoch 11/20\n",
            "3375/3375 [==============================] - 5s 1ms/step - loss: 0.3799 - accuracy: 0.8637 - val_loss: 0.4081 - val_accuracy: 0.8539\n",
            "Epoch 12/20\n",
            "3375/3375 [==============================] - 5s 1ms/step - loss: 0.3775 - accuracy: 0.8638 - val_loss: 0.4064 - val_accuracy: 0.8543\n",
            "Epoch 13/20\n",
            "3375/3375 [==============================] - 5s 1ms/step - loss: 0.3753 - accuracy: 0.8645 - val_loss: 0.4051 - val_accuracy: 0.8538\n",
            "Epoch 14/20\n",
            "3375/3375 [==============================] - 5s 1ms/step - loss: 0.3731 - accuracy: 0.8649 - val_loss: 0.4053 - val_accuracy: 0.8543\n",
            "Epoch 15/20\n",
            "3375/3375 [==============================] - 5s 1ms/step - loss: 0.3709 - accuracy: 0.8660 - val_loss: 0.4035 - val_accuracy: 0.8553\n",
            "Epoch 16/20\n",
            "3375/3375 [==============================] - 5s 1ms/step - loss: 0.3689 - accuracy: 0.8661 - val_loss: 0.4027 - val_accuracy: 0.8553\n",
            "Epoch 17/20\n",
            "3375/3375 [==============================] - 5s 1ms/step - loss: 0.3669 - accuracy: 0.8668 - val_loss: 0.4011 - val_accuracy: 0.8565\n",
            "Epoch 18/20\n",
            "3375/3375 [==============================] - 5s 1ms/step - loss: 0.3649 - accuracy: 0.8672 - val_loss: 0.4003 - val_accuracy: 0.8554\n",
            "Epoch 19/20\n",
            "3375/3375 [==============================] - 5s 1ms/step - loss: 0.3630 - accuracy: 0.8679 - val_loss: 0.3992 - val_accuracy: 0.8558\n",
            "Epoch 20/20\n",
            "3375/3375 [==============================] - 5s 1ms/step - loss: 0.3612 - accuracy: 0.8684 - val_loss: 0.3993 - val_accuracy: 0.8564\n"
          ]
        }
      ],
      "source": [
        "history = model.fit(X_train, y_train, epochs=20,\n",
        "                    validation_data=(X_valid, y_valid))"
      ]
    },
    {
      "cell_type": "markdown",
      "metadata": {
        "id": "EPxiw8iCADr-"
      },
      "source": [
        "Let's plot the loss and the accuracy trends on both training and validation sets. We define the `plot_learning_acc_and_loss` function because we will reuse it in the next steps."
      ]
    },
    {
      "cell_type": "code",
      "execution_count": 25,
      "metadata": {
        "colab": {
          "base_uri": "https://localhost:8080/",
          "height": 320
        },
        "id": "AJg-F7mUa7st",
        "outputId": "b732a36d-6ded-44bc-c98d-05bc69f5a613"
      },
      "outputs": [
        {
          "data": {
            "image/png": "[encoded data removed]",
            "text/plain": [
              "<Figure size 576x360 with 1 Axes>"
            ]
          },
          "metadata": {
            "needs_background": "light"
          },
          "output_type": "display_data"
        }
      ],
      "source": [
        "def plot_learning_acc_and_loss(history):\n",
        "    pd.DataFrame(history.history).plot(figsize=(8, 5))\n",
        "    plt.grid(True)\n",
        "    plt.show()\n",
        "plot_learning_acc_and_loss(history)"
      ]
    },
    {
      "cell_type": "markdown",
      "metadata": {
        "id": "9O3-sLmxansJ"
      },
      "source": [
        "### [TO COMPLETE] Evaluate the model:\n",
        "\n",
        "Now, our model has been optimized on the training set, and as you can see the performance on the validation set in quite similar (so it does not overfit the training data). Let's now evaluate the performance of our model using the test set."
      ]
    },
    {
      "cell_type": "code",
      "execution_count": 26,
      "metadata": {
        "colab": {
          "base_uri": "https://localhost:8080/"
        },
        "id": "q-ZvJEcObdyB",
        "outputId": "845dd2cd-6fdf-4560-e37d-410b28687f89"
      },
      "outputs": [
        {
          "name": "stdout",
          "output_type": "stream",
          "text": [
            "238/238 [==============================] - 0s 1ms/step - loss: 0.4093 - accuracy: 0.8520\n"
          ]
        },
        {
          "data": {
            "text/plain": [
              "[0.4092514216899872, 0.8519737124443054]"
            ]
          },
          "execution_count": 26,
          "metadata": {},
          "output_type": "execute_result"
        }
      ],
      "source": [
        "model.evaluate(X_test, y_test)"
      ]
    },
    {
      "cell_type": "markdown",
      "metadata": {
        "id": "KTSxlnwrII-n"
      },
      "source": [
        "[TO COMPLETE] Explain why it is important to use test and validation, and why it is important to evaluate the model on the test set instead of the validation set. Finally, explain what is the usefulness of the validation set. Insert the discussion in this cell.\n",
        "\n",
        "### Answer\n",
        "\n",
        "When we apply machine learning techniques, we have to choose a model suitable for the data used and we must set some parameters called **hyperparameters** in order to get the best possible results. These choices usually depends on the data we are dealing with and it can be hard to find them.\n",
        "\n",
        "The **Validation** set can be used to solve this problem, in fact it is useful in order to select what can be the 'best' model for the current task and to tune it with the correct hyperparameters. While training the model, we evaluate it on the Validation set, composed of new samples, not used during the fit operations, to keep track of the loss and the accuracy at each epoch, looking at the trend of both values.\n",
        "\n",
        "The **Test** set, instead, contains new fresh data, not seen yet in the training and validation tasks, used to generalize the accuracy and loss of the model. Indeed, we must look at the performances on the Test set\n",
        "only at the end of the training, since it is used to have a more reliable accurancy of the model on previously unseen data and to obtain an estimation of the **generalization error**.\n",
        "\n",
        "Since the Validation set in usually smaller than the Test one, it is not sure it will produce great or correct result in general. Moreover, the Validation set is used at each iterations to determine the trend of both loss and accurracy, while the Test set will be involved only at the end of the training. Indeed, the Test set is used to obtained the 'real' or 'more correct' values of error and accuracy, on which we establish the reliability of the model and correctness of the algorithm."
      ]
    },
    {
      "cell_type": "markdown",
      "metadata": {
        "id": "aeGlzKe864Gq"
      },
      "source": [
        "## [TO COMPLETE] Exercise 2.2: Overfiting\n",
        "\n",
        "A common problem that occurs when you train a deep neural network is overfittig. Overfitting occurs when you achieve a good fit of your model on the training data, while it does not generalize well on new, unseen data. In other words, the model learned patterns specific to the training data, which are irrelevant in other data.\n",
        "As we have seen in the previous exercise, our model does not overfit the training data. In this exercise, we try to modify the training parameters in order to have a model that overfits.\n",
        "Overfitting can have many causes and usually is a combination of some of them, for instance: too many parameters/ layers, too few training samples, wrong learning rate (usualy too high), etc..\n",
        "\n",
        "[TO COMPLETE] In the next cell define a new model (similar to the previuos one) that overfits the training data; then plot the trend of the loss in training and validation set."
      ]
    },
    {
      "cell_type": "code",
      "execution_count": 27,
      "metadata": {
        "colab": {
          "base_uri": "https://localhost:8080/"
        },
        "id": "T2B2DFEC8f88",
        "outputId": "7ac17448-8fd0-41ba-a900-b8ee251c7ba9"
      },
      "outputs": [
        {
          "name": "stdout",
          "output_type": "stream",
          "text": [
            "Epoch 1/30\n",
            "3375/3375 [==============================] - 6s 2ms/step - loss: 0.4643 - accuracy: 0.8322 - val_loss: 0.4293 - val_accuracy: 0.8462\n",
            "Epoch 2/30\n",
            "3375/3375 [==============================] - 6s 2ms/step - loss: 0.3972 - accuracy: 0.8575 - val_loss: 0.4172 - val_accuracy: 0.8503\n",
            "Epoch 3/30\n",
            "3375/3375 [==============================] - 5s 2ms/step - loss: 0.3574 - accuracy: 0.8719 - val_loss: 0.4156 - val_accuracy: 0.8550\n",
            "Epoch 4/30\n",
            "3375/3375 [==============================] - 5s 2ms/step - loss: 0.3217 - accuracy: 0.8851 - val_loss: 0.4413 - val_accuracy: 0.8512\n",
            "Epoch 5/30\n",
            "3375/3375 [==============================] - 5s 2ms/step - loss: 0.2918 - accuracy: 0.8961 - val_loss: 0.4506 - val_accuracy: 0.8472\n",
            "Epoch 6/30\n",
            "3375/3375 [==============================] - 6s 2ms/step - loss: 0.2671 - accuracy: 0.9045 - val_loss: 0.4827 - val_accuracy: 0.8447\n",
            "Epoch 7/30\n",
            "3375/3375 [==============================] - 5s 2ms/step - loss: 0.2470 - accuracy: 0.9119 - val_loss: 0.5260 - val_accuracy: 0.8448\n",
            "Epoch 8/30\n",
            "3375/3375 [==============================] - 5s 2ms/step - loss: 0.2289 - accuracy: 0.9194 - val_loss: 0.5136 - val_accuracy: 0.8436\n",
            "Epoch 9/30\n",
            "3375/3375 [==============================] - 5s 2ms/step - loss: 0.2151 - accuracy: 0.9229 - val_loss: 0.5590 - val_accuracy: 0.8356\n",
            "Epoch 10/30\n",
            "3375/3375 [==============================] - 5s 2ms/step - loss: 0.2020 - accuracy: 0.9275 - val_loss: 0.5976 - val_accuracy: 0.8400\n",
            "Epoch 11/30\n",
            "3375/3375 [==============================] - 5s 2ms/step - loss: 0.1902 - accuracy: 0.9320 - val_loss: 0.6344 - val_accuracy: 0.8399\n",
            "Epoch 12/30\n",
            "3375/3375 [==============================] - 5s 2ms/step - loss: 0.1795 - accuracy: 0.9355 - val_loss: 0.6610 - val_accuracy: 0.8345\n",
            "Epoch 13/30\n",
            "3375/3375 [==============================] - 5s 2ms/step - loss: 0.1725 - accuracy: 0.9381 - val_loss: 0.7452 - val_accuracy: 0.8360\n",
            "Epoch 14/30\n",
            "3375/3375 [==============================] - 5s 2ms/step - loss: 0.1660 - accuracy: 0.9403 - val_loss: 0.7035 - val_accuracy: 0.8343\n",
            "Epoch 15/30\n",
            "3375/3375 [==============================] - 5s 2ms/step - loss: 0.1574 - accuracy: 0.9438 - val_loss: 0.7860 - val_accuracy: 0.8360\n",
            "Epoch 16/30\n",
            "3375/3375 [==============================] - 6s 2ms/step - loss: 0.1532 - accuracy: 0.9448 - val_loss: 0.8577 - val_accuracy: 0.8293\n",
            "Epoch 17/30\n",
            "3375/3375 [==============================] - 6s 2ms/step - loss: 0.1482 - accuracy: 0.9473 - val_loss: 0.8683 - val_accuracy: 0.8313\n",
            "Epoch 18/30\n",
            "3375/3375 [==============================] - 6s 2ms/step - loss: 0.1437 - accuracy: 0.9489 - val_loss: 0.8404 - val_accuracy: 0.8236\n",
            "Epoch 19/30\n",
            "3375/3375 [==============================] - 6s 2ms/step - loss: 0.1383 - accuracy: 0.9505 - val_loss: 0.9514 - val_accuracy: 0.8279\n",
            "Epoch 20/30\n",
            "3375/3375 [==============================] - 5s 2ms/step - loss: 0.1336 - accuracy: 0.9526 - val_loss: 0.8627 - val_accuracy: 0.8251\n",
            "Epoch 21/30\n",
            "3375/3375 [==============================] - 6s 2ms/step - loss: 0.1286 - accuracy: 0.9536 - val_loss: 1.0104 - val_accuracy: 0.8289\n",
            "Epoch 22/30\n",
            "3375/3375 [==============================] - 6s 2ms/step - loss: 0.1265 - accuracy: 0.9544 - val_loss: 1.0474 - val_accuracy: 0.8265\n",
            "Epoch 23/30\n",
            "3375/3375 [==============================] - 6s 2ms/step - loss: 0.1215 - accuracy: 0.9562 - val_loss: 1.0939 - val_accuracy: 0.8273\n",
            "Epoch 24/30\n",
            "3375/3375 [==============================] - 5s 2ms/step - loss: 0.1177 - accuracy: 0.9576 - val_loss: 1.1132 - val_accuracy: 0.8303\n",
            "Epoch 25/30\n",
            "3375/3375 [==============================] - 5s 2ms/step - loss: 0.1155 - accuracy: 0.9586 - val_loss: 1.1751 - val_accuracy: 0.8270\n",
            "Epoch 26/30\n",
            "3375/3375 [==============================] - 6s 2ms/step - loss: 0.1153 - accuracy: 0.9592 - val_loss: 1.1717 - val_accuracy: 0.8217\n",
            "Epoch 27/30\n",
            "3375/3375 [==============================] - 5s 2ms/step - loss: 0.1098 - accuracy: 0.9606 - val_loss: 1.3061 - val_accuracy: 0.8251\n",
            "Epoch 28/30\n",
            "3375/3375 [==============================] - 5s 2ms/step - loss: 0.1090 - accuracy: 0.9611 - val_loss: 1.2240 - val_accuracy: 0.8275\n",
            "Epoch 29/30\n",
            "3375/3375 [==============================] - 5s 2ms/step - loss: 0.1072 - accuracy: 0.9613 - val_loss: 1.3506 - val_accuracy: 0.8239\n",
            "Epoch 30/30\n",
            "3375/3375 [==============================] - 5s 2ms/step - loss: 0.1057 - accuracy: 0.9623 - val_loss: 1.3917 - val_accuracy: 0.8257\n",
            "Model Evaluation\n",
            "238/238 [==============================] - 0s 1ms/step - loss: 1.4317 - accuracy: 0.8217\n"
          ]
        },
        {
          "data": {
            "text/plain": [
              "[1.4317035675048828, 0.8217105269432068]"
            ]
          },
          "execution_count": 27,
          "metadata": {},
          "output_type": "execute_result"
        }
      ],
      "source": [
        "model = keras.models.Sequential()\n",
        "#[TO COMPLETE] modify the previuos model in order to obtain a new model that overfits the training data\n",
        "model.add(tf.keras.Input(shape=(num_words,)))\n",
        "model.add(keras.layers.Dense(64, activation='relu'))\n",
        "model.add(keras.layers.Dense(32, activation='relu'))\n",
        "model.add(keras.layers.Dense(4, activation='softmax'))\n",
        "\n",
        "#[TO COMPLETE] learning rate\n",
        "model.compile(loss=\"sparse_categorical_crossentropy\",\n",
        "              optimizer=keras.optimizers.Adam(learning_rate=1e-2),\n",
        "              metrics=[\"accuracy\"])\n",
        "\n",
        "#[TO COMPLETE] epochs\n",
        "history = model.fit(X_train, y_train, epochs=30,\n",
        "                    validation_data=(X_valid, y_valid))\n",
        "\n",
        "print(\"Model Evaluation\")\n",
        "model.evaluate(X_test, y_test)"
      ]
    },
    {
      "cell_type": "markdown",
      "metadata": {
        "id": "MS0fujEqh_m3"
      },
      "source": [
        "Define the `plot_learning_curves` function that plots only the losses (not the accuracy)."
      ]
    },
    {
      "cell_type": "code",
      "execution_count": 28,
      "metadata": {
        "colab": {
          "base_uri": "https://localhost:8080/",
          "height": 336
        },
        "id": "q5EsklC0DZYH",
        "outputId": "ce5a94ce-5a42-4761-87bb-833829f2c405"
      },
      "outputs": [
        {
          "data": {
            "image/png": "[encoded data removed]",
            "text/plain": [
              "<Figure size 576x360 with 1 Axes>"
            ]
          },
          "metadata": {
            "needs_background": "light"
          },
          "output_type": "display_data"
        }
      ],
      "source": [
        "def plot_learning_curves(history):\n",
        "    plt.figure(figsize=(8, 5))\n",
        "    plt.plot(history.epoch,history.history['loss'], label='train loss')\n",
        "    plt.plot(history.epoch,history.history['val_loss'], label='valid loss')\n",
        "    plt.legend()\n",
        "    plt.title('loss')\n",
        "    plt.grid(True)\n",
        "    plt.show()\n",
        "plot_learning_curves(history)"
      ]
    },
    {
      "cell_type": "markdown",
      "metadata": {
        "id": "OW4Kf4fgDfOs"
      },
      "source": [
        "### [TO COMPLETE] L1 norm\n",
        "\n",
        "One possible way to solve the overitting issue is by using regularization methods. The two most common regularization methods in Deep Learning are the L1-norm regularization and the L2-norm regularization. Both These techniques are based on limiting the capacity of models, by adding a parameter norm penalty to the objective function $\\mathcal{J}$:\n",
        "$$\n",
        "\\hat{\\mathcal{J}}(\\theta,\\mathbf{X},\\mathbf{y}) = \\mathcal{J}(\\theta,\\mathbf{X},\\mathbf{y}) + \\alpha \\Omega(\\theta)\n",
        "$$\n",
        "where $\\alpha$ is a hyperparameter that weighs the relative contribution of the norm penalty $\\Omega$.\n",
        "Lets start by considering the L1-norm regularization where the regularization term is defined as:\n",
        "$$\n",
        " \\Omega(\\theta)=||\\mathbf{W}||_1=\\sum_i |\\mathbf{w}|\n",
        "$$\n",
        "Let's find the values for the $\\alpha$ parameters that allow to remove the overfitting effect."
      ]
    },
    {
      "cell_type": "code",
      "execution_count": 29,
      "metadata": {
        "colab": {
          "base_uri": "https://localhost:8080/",
          "height": 1000
        },
        "id": "QzD8520dDgw3",
        "outputId": "8405c392-403b-4c61-f88d-c425f0df59d1"
      },
      "outputs": [
        {
          "name": "stdout",
          "output_type": "stream",
          "text": [
            "Epoch 1/30\n",
            "3375/3375 [==============================] - 7s 2ms/step - loss: 0.7029 - accuracy: 0.8213 - val_loss: 0.6263 - val_accuracy: 0.8394\n",
            "Epoch 2/30\n",
            "3375/3375 [==============================] - 7s 2ms/step - loss: 0.6098 - accuracy: 0.8367 - val_loss: 0.5947 - val_accuracy: 0.8438\n",
            "Epoch 3/30\n",
            "3375/3375 [==============================] - 6s 2ms/step - loss: 0.5873 - accuracy: 0.8404 - val_loss: 0.5843 - val_accuracy: 0.8397\n",
            "Epoch 4/30\n",
            "3375/3375 [==============================] - 7s 2ms/step - loss: 0.5821 - accuracy: 0.8410 - val_loss: 0.5873 - val_accuracy: 0.8400\n",
            "Epoch 5/30\n",
            "3375/3375 [==============================] - 7s 2ms/step - loss: 0.5789 - accuracy: 0.8416 - val_loss: 0.5846 - val_accuracy: 0.8386\n",
            "Epoch 6/30\n",
            "3375/3375 [==============================] - 6s 2ms/step - loss: 0.5786 - accuracy: 0.8412 - val_loss: 0.5743 - val_accuracy: 0.8420\n",
            "Epoch 7/30\n",
            "3375/3375 [==============================] - 6s 2ms/step - loss: 0.5786 - accuracy: 0.8418 - val_loss: 0.5839 - val_accuracy: 0.8438\n",
            "Epoch 8/30\n",
            "3375/3375 [==============================] - 7s 2ms/step - loss: 0.5775 - accuracy: 0.8411 - val_loss: 0.5790 - val_accuracy: 0.8445\n",
            "Epoch 9/30\n",
            "3375/3375 [==============================] - 6s 2ms/step - loss: 0.5733 - accuracy: 0.8412 - val_loss: 0.5779 - val_accuracy: 0.8414\n",
            "Epoch 10/30\n",
            "3375/3375 [==============================] - 6s 2ms/step - loss: 0.5760 - accuracy: 0.8420 - val_loss: 0.5935 - val_accuracy: 0.8389\n",
            "Epoch 11/30\n",
            "3375/3375 [==============================] - 7s 2ms/step - loss: 0.5735 - accuracy: 0.8417 - val_loss: 0.5743 - val_accuracy: 0.8397\n",
            "Epoch 12/30\n",
            "3375/3375 [==============================] - 7s 2ms/step - loss: 0.5715 - accuracy: 0.8424 - val_loss: 0.5801 - val_accuracy: 0.8424\n",
            "Epoch 13/30\n",
            "3375/3375 [==============================] - 7s 2ms/step - loss: 0.5693 - accuracy: 0.8422 - val_loss: 0.5512 - val_accuracy: 0.8477\n",
            "Epoch 14/30\n",
            "3375/3375 [==============================] - 6s 2ms/step - loss: 0.5660 - accuracy: 0.8430 - val_loss: 0.5892 - val_accuracy: 0.8332\n",
            "Epoch 15/30\n",
            "3375/3375 [==============================] - 6s 2ms/step - loss: 0.5662 - accuracy: 0.8422 - val_loss: 0.5631 - val_accuracy: 0.8452\n",
            "Epoch 16/30\n",
            "3375/3375 [==============================] - 6s 2ms/step - loss: 0.5645 - accuracy: 0.8425 - val_loss: 0.5761 - val_accuracy: 0.8403\n",
            "Epoch 17/30\n",
            "3375/3375 [==============================] - 7s 2ms/step - loss: 0.5656 - accuracy: 0.8426 - val_loss: 0.5610 - val_accuracy: 0.8477\n",
            "Epoch 18/30\n",
            "3375/3375 [==============================] - 6s 2ms/step - loss: 0.5663 - accuracy: 0.8436 - val_loss: 0.5676 - val_accuracy: 0.8417\n",
            "Epoch 19/30\n",
            "3375/3375 [==============================] - 6s 2ms/step - loss: 0.5656 - accuracy: 0.8419 - val_loss: 0.5543 - val_accuracy: 0.8463\n",
            "Epoch 20/30\n",
            "3375/3375 [==============================] - 6s 2ms/step - loss: 0.5654 - accuracy: 0.8426 - val_loss: 0.5701 - val_accuracy: 0.8454\n",
            "Epoch 21/30\n",
            "3375/3375 [==============================] - 7s 2ms/step - loss: 0.5645 - accuracy: 0.8437 - val_loss: 0.5668 - val_accuracy: 0.8438\n",
            "Epoch 22/30\n",
            "3375/3375 [==============================] - 6s 2ms/step - loss: 0.5649 - accuracy: 0.8434 - val_loss: 0.5765 - val_accuracy: 0.8406\n",
            "Epoch 23/30\n",
            "3375/3375 [==============================] - 6s 2ms/step - loss: 0.5646 - accuracy: 0.8432 - val_loss: 0.5798 - val_accuracy: 0.8396\n",
            "Epoch 24/30\n",
            "3375/3375 [==============================] - 6s 2ms/step - loss: 0.5643 - accuracy: 0.8433 - val_loss: 0.5724 - val_accuracy: 0.8413\n",
            "Epoch 25/30\n",
            "3375/3375 [==============================] - 7s 2ms/step - loss: 0.5650 - accuracy: 0.8439 - val_loss: 0.5631 - val_accuracy: 0.8446\n",
            "Epoch 26/30\n",
            "3375/3375 [==============================] - 7s 2ms/step - loss: 0.5640 - accuracy: 0.8429 - val_loss: 0.5905 - val_accuracy: 0.8367\n",
            "Epoch 27/30\n",
            "3375/3375 [==============================] - 7s 2ms/step - loss: 0.5641 - accuracy: 0.8428 - val_loss: 0.5663 - val_accuracy: 0.8405\n",
            "Epoch 28/30\n",
            "3375/3375 [==============================] - 7s 2ms/step - loss: 0.5623 - accuracy: 0.8431 - val_loss: 0.5668 - val_accuracy: 0.8432\n",
            "Epoch 29/30\n",
            "3375/3375 [==============================] - 6s 2ms/step - loss: 0.5631 - accuracy: 0.8429 - val_loss: 0.5730 - val_accuracy: 0.8447\n",
            "Epoch 30/30\n",
            "3375/3375 [==============================] - 6s 2ms/step - loss: 0.5628 - accuracy: 0.8426 - val_loss: 0.5716 - val_accuracy: 0.8410\n",
            "Model Evaluation\n",
            "238/238 [==============================] - 0s 1ms/step - loss: 0.5777 - accuracy: 0.8364\n"
          ]
        },
        {
          "data": {
            "image/png": "[encoded data removed]",
            "text/plain": [
              "<Figure size 576x360 with 1 Axes>"
            ]
          },
          "metadata": {
            "needs_background": "light"
          },
          "output_type": "display_data"
        }
      ],
      "source": [
        "#In Keras is neccesary to add the regularizer by using the attribute kernel_regularizer\n",
        "#to each layer whose weights will be considered in the Omega function.\n",
        "#is it also possibile to consider the bias by using the attribute bias_regularizer \n",
        "#tf.keras.regularizers.l1(alpha) perfroms the L1-norm regularization\n",
        "\n",
        "#[TO COMPLETE] copy the model that you previously defined that overfits the \n",
        "#training data, and add the L1-norm regularization. Use a proper value for the\n",
        "#alpha hyper-parameter, that prevents the model from overfitting. The results  \n",
        "#reached by the model in terms of loss and accuracy (in all data sets) should be\n",
        "#comparable with the ones obtained by the initial model defined in Exercise 2.1 \n",
        "\n",
        "#In general, a layer that exploits L1-norm regularization is defined as follows:\n",
        "\n",
        "#model.add(keras.layers.Dense(units=[TO COMPLETE], activation=[TO COMPLETE], kernel_regularizer=tf.keras.regularizers.l1([TO COMPLETE]))) \n",
        "\n",
        "model = keras.models.Sequential()\n",
        "#[TO COMPLETE]\n",
        "model.add(tf.keras.Input(shape=(num_words,)))\n",
        "model.add(keras.layers.Dense(64, activation='relu', kernel_regularizer=tf.keras.regularizers.l1(0.0001)))\n",
        "model.add(keras.layers.Dense(32, activation='relu', kernel_regularizer=tf.keras.regularizers.l1(0.0001)))\n",
        "model.add(keras.layers.Dense(4, activation='softmax'))\n",
        "\n",
        "#[TO COMPLETE] learning rate\n",
        "model.compile(loss=\"sparse_categorical_crossentropy\",\n",
        "              optimizer=keras.optimizers.Adam(learning_rate=1e-2),\n",
        "              metrics=[\"accuracy\"])\n",
        "\n",
        "#[TO COMPLETE] epochs\n",
        "history = model.fit(X_train, y_train, epochs=30,\n",
        "                    validation_data=(X_valid, y_valid))\n",
        "\n",
        "print(\"Model Evaluation\")\n",
        "model.evaluate(X_test, y_test)\n",
        "plot_learning_curves(history)"
      ]
    },
    {
      "cell_type": "markdown",
      "metadata": {
        "id": "CgnCGYUvDqbC"
      },
      "source": [
        "### [TO COMPLETE] L2-norm\n",
        "\n",
        "L2-norm regularization is also known as weight decay. This strategy drives the weights closer to the origin by adding the regularization term omega which is defined as:\n",
        "$$\n",
        " \\Omega(\\theta)=\\frac{1}{2}||\\mathbf{W}||_2^2\n",
        "$$\n",
        "\n",
        "Let's find the values for the $\\alpha$ parameters that allow removing remove the overfitting effect with L2-norm."
      ]
    },
    {
      "cell_type": "code",
      "execution_count": 30,
      "metadata": {
        "colab": {
          "base_uri": "https://localhost:8080/",
          "height": 1000
        },
        "id": "qqNhu350DtJo",
        "outputId": "301225a6-9727-42c9-9b6f-02d442233697"
      },
      "outputs": [
        {
          "name": "stdout",
          "output_type": "stream",
          "text": [
            "Epoch 1/30\n",
            "3375/3375 [==============================] - 6s 2ms/step - loss: 0.5933 - accuracy: 0.8221 - val_loss: 0.5650 - val_accuracy: 0.8347\n",
            "Epoch 2/30\n",
            "3375/3375 [==============================] - 6s 2ms/step - loss: 0.5479 - accuracy: 0.8347 - val_loss: 0.5356 - val_accuracy: 0.8382\n",
            "Epoch 3/30\n",
            "3375/3375 [==============================] - 6s 2ms/step - loss: 0.5267 - accuracy: 0.8385 - val_loss: 0.5287 - val_accuracy: 0.8353\n",
            "Epoch 4/30\n",
            "3375/3375 [==============================] - 6s 2ms/step - loss: 0.5203 - accuracy: 0.8397 - val_loss: 0.5187 - val_accuracy: 0.8414\n",
            "Epoch 5/30\n",
            "3375/3375 [==============================] - 6s 2ms/step - loss: 0.5156 - accuracy: 0.8405 - val_loss: 0.5239 - val_accuracy: 0.8382\n",
            "Epoch 6/30\n",
            "3375/3375 [==============================] - 6s 2ms/step - loss: 0.5120 - accuracy: 0.8410 - val_loss: 0.5102 - val_accuracy: 0.8433\n",
            "Epoch 7/30\n",
            "3375/3375 [==============================] - 6s 2ms/step - loss: 0.5098 - accuracy: 0.8414 - val_loss: 0.5219 - val_accuracy: 0.8379\n",
            "Epoch 8/30\n",
            "3375/3375 [==============================] - 6s 2ms/step - loss: 0.5074 - accuracy: 0.8415 - val_loss: 0.5030 - val_accuracy: 0.8453\n",
            "Epoch 9/30\n",
            "3375/3375 [==============================] - 6s 2ms/step - loss: 0.5035 - accuracy: 0.8429 - val_loss: 0.5081 - val_accuracy: 0.8401\n",
            "Epoch 10/30\n",
            "3375/3375 [==============================] - 6s 2ms/step - loss: 0.5031 - accuracy: 0.8421 - val_loss: 0.5194 - val_accuracy: 0.8365\n",
            "Epoch 11/30\n",
            "3375/3375 [==============================] - 6s 2ms/step - loss: 0.5029 - accuracy: 0.8411 - val_loss: 0.5105 - val_accuracy: 0.8380\n",
            "Epoch 12/30\n",
            "3375/3375 [==============================] - 6s 2ms/step - loss: 0.5027 - accuracy: 0.8420 - val_loss: 0.5064 - val_accuracy: 0.8442\n",
            "Epoch 13/30\n",
            "3375/3375 [==============================] - 6s 2ms/step - loss: 0.5041 - accuracy: 0.8420 - val_loss: 0.4979 - val_accuracy: 0.8445\n",
            "Epoch 14/30\n",
            "3375/3375 [==============================] - 6s 2ms/step - loss: 0.5018 - accuracy: 0.8423 - val_loss: 0.5357 - val_accuracy: 0.8277\n",
            "Epoch 15/30\n",
            "3375/3375 [==============================] - 6s 2ms/step - loss: 0.5021 - accuracy: 0.8408 - val_loss: 0.5022 - val_accuracy: 0.8418\n",
            "Epoch 16/30\n",
            "3375/3375 [==============================] - 6s 2ms/step - loss: 0.5010 - accuracy: 0.8425 - val_loss: 0.5137 - val_accuracy: 0.8375\n",
            "Epoch 17/30\n",
            "3375/3375 [==============================] - 6s 2ms/step - loss: 0.5017 - accuracy: 0.8421 - val_loss: 0.5011 - val_accuracy: 0.8455\n",
            "Epoch 18/30\n",
            "3375/3375 [==============================] - 6s 2ms/step - loss: 0.5008 - accuracy: 0.8426 - val_loss: 0.5042 - val_accuracy: 0.8403\n",
            "Epoch 19/30\n",
            "3375/3375 [==============================] - 6s 2ms/step - loss: 0.5026 - accuracy: 0.8410 - val_loss: 0.4989 - val_accuracy: 0.8445\n",
            "Epoch 20/30\n",
            "3375/3375 [==============================] - 6s 2ms/step - loss: 0.5012 - accuracy: 0.8422 - val_loss: 0.5160 - val_accuracy: 0.8374\n",
            "Epoch 21/30\n",
            "3375/3375 [==============================] - 6s 2ms/step - loss: 0.5015 - accuracy: 0.8422 - val_loss: 0.5042 - val_accuracy: 0.8442\n",
            "Epoch 22/30\n",
            "3375/3375 [==============================] - 6s 2ms/step - loss: 0.5018 - accuracy: 0.8427 - val_loss: 0.5131 - val_accuracy: 0.8396\n",
            "Epoch 23/30\n",
            "3375/3375 [==============================] - 6s 2ms/step - loss: 0.5000 - accuracy: 0.8426 - val_loss: 0.5272 - val_accuracy: 0.8369\n",
            "Epoch 24/30\n",
            "3375/3375 [==============================] - 6s 2ms/step - loss: 0.5008 - accuracy: 0.8420 - val_loss: 0.5090 - val_accuracy: 0.8427\n",
            "Epoch 25/30\n",
            "3375/3375 [==============================] - 6s 2ms/step - loss: 0.5009 - accuracy: 0.8428 - val_loss: 0.4996 - val_accuracy: 0.8415\n",
            "Epoch 26/30\n",
            "3375/3375 [==============================] - 6s 2ms/step - loss: 0.5023 - accuracy: 0.8414 - val_loss: 0.5222 - val_accuracy: 0.8375\n",
            "Epoch 27/30\n",
            "3375/3375 [==============================] - 6s 2ms/step - loss: 0.5014 - accuracy: 0.8428 - val_loss: 0.5179 - val_accuracy: 0.8374\n",
            "Epoch 28/30\n",
            "3375/3375 [==============================] - 6s 2ms/step - loss: 0.5024 - accuracy: 0.8413 - val_loss: 0.5122 - val_accuracy: 0.8417\n",
            "Epoch 29/30\n",
            "3375/3375 [==============================] - 6s 2ms/step - loss: 0.5005 - accuracy: 0.8422 - val_loss: 0.5123 - val_accuracy: 0.8407\n",
            "Epoch 30/30\n",
            "3375/3375 [==============================] - 6s 2ms/step - loss: 0.4997 - accuracy: 0.8416 - val_loss: 0.5124 - val_accuracy: 0.8385\n",
            "Model Evaluation\n",
            "238/238 [==============================] - 0s 2ms/step - loss: 0.5252 - accuracy: 0.8326\n"
          ]
        },
        {
          "data": {
            "image/png": "[encoded data removed]",
            "text/plain": [
              "<Figure size 576x360 with 1 Axes>"
            ]
          },
          "metadata": {
            "needs_background": "light"
          },
          "output_type": "display_data"
        }
      ],
      "source": [
        "#[TO COMPLETE] insert the model that you previously defined that overfit the \n",
        "#trainig data, and add the L2-norm regularization. Use proper values for the\n",
        "#alpha hyper-parameters, that prevents the model from overfitting. The results  \n",
        "#reached by the model in terms of loss and accuracy (in all data sets) should be\n",
        "#comparable with the ones obtained by the initial model defined in Exercise 2.1\n",
        "\n",
        "#In general, a layer that exploits L2-norm regularization is defined as follow:\n",
        "\n",
        "#model.add(keras.layers.Dense(units=[TO COMPLETE], activation=[TO COMPLETE],kernel_regularizer=tf.keras.regularizers.l2([TO COMPLETE]))) \n",
        "\n",
        "model = keras.models.Sequential()\n",
        "#[TO COMPLETE]\n",
        "model.add(tf.keras.Input(shape=(num_words,)))\n",
        "model.add(keras.layers.Dense(64, activation='relu', kernel_regularizer=tf.keras.regularizers.l2(0.0001)))\n",
        "model.add(keras.layers.Dense(32, activation='relu', kernel_regularizer=tf.keras.regularizers.l2(0.0001)))\n",
        "model.add(keras.layers.Dense(4, activation='softmax'))\n",
        "\n",
        "#[TO COMPLETE] learning rate\n",
        "model.compile(loss=\"sparse_categorical_crossentropy\",\n",
        "              optimizer=keras.optimizers.Adam(learning_rate=1e-2),\n",
        "              metrics=[\"accuracy\"])\n",
        "\n",
        "#[TO COMPLETE] epochs\n",
        "history = model.fit(X_train, y_train, epochs=30,\n",
        "                    validation_data=(X_valid, y_valid))\n",
        "\n",
        "print(\"Model Evaluation\")\n",
        "model.evaluate(X_test, y_test)\n",
        "plot_learning_curves(history)"
      ]
    },
    {
      "cell_type": "markdown",
      "metadata": {
        "id": "xvyKPb4DD25G"
      },
      "source": [
        "### [TO COMPLETE] Early stopping\n",
        "\n",
        "Early Stopping is a form of regularization used to avoid overfitting. It is designed to monitor the generalization error of one model and stop training when generalization error begins to degrade. In order to evaluate the generalization error, early stopping requires that a validation dataset is evaluated during training. Then, when the validation error does not improve for a specific number of epochs (`patience` hyper-parameter), it stops the training phase."
      ]
    },
    {
      "cell_type": "code",
      "execution_count": 31,
      "metadata": {
        "colab": {
          "base_uri": "https://localhost:8080/",
          "height": 649
        },
        "id": "MqNOOZ11D7cq",
        "outputId": "a546f8c6-af9d-4e54-c4be-199c18b991a1"
      },
      "outputs": [
        {
          "name": "stdout",
          "output_type": "stream",
          "text": [
            "Epoch 1/30\n",
            "3375/3375 [==============================] - 6s 2ms/step - loss: 0.4632 - accuracy: 0.8327 - val_loss: 0.4167 - val_accuracy: 0.8480\n",
            "Epoch 2/30\n",
            "3375/3375 [==============================] - 6s 2ms/step - loss: 0.3949 - accuracy: 0.8579 - val_loss: 0.4083 - val_accuracy: 0.8560\n",
            "Epoch 3/30\n",
            "3375/3375 [==============================] - 6s 2ms/step - loss: 0.3544 - accuracy: 0.8716 - val_loss: 0.4227 - val_accuracy: 0.8497\n",
            "Epoch 4/30\n",
            "3375/3375 [==============================] - 6s 2ms/step - loss: 0.3173 - accuracy: 0.8845 - val_loss: 0.4296 - val_accuracy: 0.8508\n",
            "Epoch 5/30\n",
            "3375/3375 [==============================] - 6s 2ms/step - loss: 0.2883 - accuracy: 0.8962 - val_loss: 0.4676 - val_accuracy: 0.8479\n",
            "Epoch 6/30\n",
            "3375/3375 [==============================] - 6s 2ms/step - loss: 0.2629 - accuracy: 0.9044 - val_loss: 0.4902 - val_accuracy: 0.8466\n",
            "Epoch 7/30\n",
            "3375/3375 [==============================] - 6s 2ms/step - loss: 0.2419 - accuracy: 0.9128 - val_loss: 0.5284 - val_accuracy: 0.8462\n",
            "Epoch 8/30\n",
            "3375/3375 [==============================] - 6s 2ms/step - loss: 0.2237 - accuracy: 0.9194 - val_loss: 0.5646 - val_accuracy: 0.8384\n",
            "Model Evaluation\n",
            "238/238 [==============================] - 0s 1ms/step - loss: 0.4241 - accuracy: 0.8447\n"
          ]
        },
        {
          "data": {
            "image/png": "[encoded data removed]",
            "text/plain": [
              "<Figure size 576x360 with 1 Axes>"
            ]
          },
          "metadata": {
            "needs_background": "light"
          },
          "output_type": "display_data"
        }
      ],
      "source": [
        "#[TO COMPLETE] insert the model that you previously defined that overfit the \n",
        "#trainnig data\n",
        "model = keras.models.Sequential()\n",
        "model.add(tf.keras.Input(shape=(num_words,)))\n",
        "model.add(keras.layers.Dense(64, activation='relu'))\n",
        "model.add(keras.layers.Dense(32, activation='relu'))\n",
        "model.add(keras.layers.Dense(4, activation='softmax'))\n",
        "\n",
        "#[TO COMPLETE] learning rate\n",
        "model.compile(loss=\"sparse_categorical_crossentropy\",\n",
        "              optimizer=keras.optimizers.Adam(learning_rate=1e-2),\n",
        "              metrics=[\"accuracy\"])\n",
        "\n",
        "#Let's define a log dir in order to save the checkpoint file\n",
        "logdir = os.path.join(os.curdir, \"my_logs\", \"run_{}\".format(time.time()))\n",
        "\n",
        "#In Keras the early stopping is manage by using the callbacks argument.\n",
        "callbacks = [\n",
        "    keras.callbacks.TensorBoard(logdir),\n",
        "    keras.callbacks.EarlyStopping(patience=6),#[TO COMPLETE] play with patience and find the value that prevents the model from overfitting.\n",
        "\n",
        "\n",
        "    #Saving the checkpoints file allows to load the \"best\" model when the Early \n",
        "    #stopping detect that the generalization error degrade (after 'patience' epochs)\n",
        "    keras.callbacks.ModelCheckpoint(\"my_mnist_model.h5\", save_best_only=True),\n",
        "]\n",
        "\n",
        "#[TO COMPLETE] epochs\n",
        "history = model.fit(X_train, y_train, epochs=30,\n",
        "                    validation_data=(X_valid, y_valid),\n",
        "                    callbacks=callbacks)\n",
        "\n",
        "print(\"Model Evaluation\")\n",
        "#The early stopping stopped training after few epochs without progress, so your\n",
        "#model may already have started to overfit the training set. Since the \n",
        "#ModelCheckpoint callback only saved the best models (on the validation set) the\n",
        "#last saved model is the best on the validation set.\n",
        "model = keras.models.load_model(\"my_mnist_model.h5\")\n",
        "model.evaluate(X_test, y_test)\n",
        "plot_learning_curves(history)"
      ]
    },
    {
      "cell_type": "markdown",
      "metadata": {
        "id": "DCV8pwVzl9GK"
      },
      "source": [
        "\n",
        "## Exercise 2.3: Model Selection\n",
        "\n",
        "Hyperparameters are the parameters of the learning method itself which we have to specify a priori, i.e., before model fitting. In contrast, model parameters are parameters which arise as a result of the fit (the network weights). The aim of model selection is selecting the best hyperparameters for our deep network. Finding the right hyperparameters for a model can be crucial for the model performance on given data. For istance lets consider our model trained by using different values for the learning rate: "
      ]
    },
    {
      "cell_type": "code",
      "execution_count": 32,
      "metadata": {
        "id": "Fw8Hs-AEmLKh"
      },
      "outputs": [],
      "source": [
        "learning_rates = [1e-4, 1e-2, 1e-1]"
      ]
    },
    {
      "cell_type": "code",
      "execution_count": 33,
      "metadata": {
        "colab": {
          "base_uri": "https://localhost:8080/"
        },
        "id": "mym4GOgUmWqD",
        "outputId": "03b42229-f505-4dd6-c81d-6b516273b4af"
      },
      "outputs": [
        {
          "name": "stdout",
          "output_type": "stream",
          "text": [
            "Epoch 1/10\n",
            "3375/3375 [==============================] - 5s 1ms/step - loss: 0.8467 - accuracy: 0.6874 - val_loss: 0.5046 - val_accuracy: 0.8340\n",
            "Epoch 2/10\n",
            "3375/3375 [==============================] - 4s 1ms/step - loss: 0.4544 - accuracy: 0.8446 - val_loss: 0.4450 - val_accuracy: 0.8475\n",
            "Epoch 3/10\n",
            "3375/3375 [==============================] - 5s 1ms/step - loss: 0.4203 - accuracy: 0.8537 - val_loss: 0.4310 - val_accuracy: 0.8498\n",
            "Epoch 4/10\n",
            "3375/3375 [==============================] - 5s 1ms/step - loss: 0.4071 - accuracy: 0.8567 - val_loss: 0.4227 - val_accuracy: 0.8508\n",
            "Epoch 5/10\n",
            "3375/3375 [==============================] - 5s 1ms/step - loss: 0.3996 - accuracy: 0.8588 - val_loss: 0.4193 - val_accuracy: 0.8516\n",
            "Epoch 6/10\n",
            "3375/3375 [==============================] - 5s 1ms/step - loss: 0.3944 - accuracy: 0.8601 - val_loss: 0.4160 - val_accuracy: 0.8524\n",
            "Epoch 7/10\n",
            "3375/3375 [==============================] - 5s 1ms/step - loss: 0.3904 - accuracy: 0.8612 - val_loss: 0.4137 - val_accuracy: 0.8531\n",
            "Epoch 8/10\n",
            "3375/3375 [==============================] - 5s 1ms/step - loss: 0.3869 - accuracy: 0.8615 - val_loss: 0.4120 - val_accuracy: 0.8542\n",
            "Epoch 9/10\n",
            "3375/3375 [==============================] - 5s 1ms/step - loss: 0.3839 - accuracy: 0.8623 - val_loss: 0.4095 - val_accuracy: 0.8547\n",
            "Epoch 10/10\n",
            "3375/3375 [==============================] - 5s 1ms/step - loss: 0.3812 - accuracy: 0.8624 - val_loss: 0.4084 - val_accuracy: 0.8550\n",
            "evaluation on test set\n",
            "238/238 [==============================] - 0s 1ms/step - loss: 0.4193 - accuracy: 0.8493\n",
            "Epoch 1/10\n",
            "3375/3375 [==============================] - 5s 2ms/step - loss: 0.4643 - accuracy: 0.8306 - val_loss: 0.4359 - val_accuracy: 0.8462\n",
            "Epoch 2/10\n",
            "3375/3375 [==============================] - 5s 1ms/step - loss: 0.4096 - accuracy: 0.8509 - val_loss: 0.4190 - val_accuracy: 0.8502\n",
            "Epoch 3/10\n",
            "3375/3375 [==============================] - 5s 1ms/step - loss: 0.3899 - accuracy: 0.8597 - val_loss: 0.4103 - val_accuracy: 0.8524\n",
            "Epoch 4/10\n",
            "3375/3375 [==============================] - 5s 1ms/step - loss: 0.3747 - accuracy: 0.8646 - val_loss: 0.4130 - val_accuracy: 0.8538\n",
            "Epoch 5/10\n",
            "3375/3375 [==============================] - 5s 1ms/step - loss: 0.3630 - accuracy: 0.8688 - val_loss: 0.4293 - val_accuracy: 0.8510\n",
            "evaluation on test set\n",
            "238/238 [==============================] - 0s 2ms/step - loss: 0.4392 - accuracy: 0.8412\n",
            "Epoch 1/10\n",
            "3375/3375 [==============================] - 5s 1ms/step - loss: 0.6798 - accuracy: 0.7658 - val_loss: 0.6984 - val_accuracy: 0.7554\n",
            "Epoch 2/10\n",
            "3375/3375 [==============================] - 5s 1ms/step - loss: 0.7074 - accuracy: 0.7589 - val_loss: 0.6358 - val_accuracy: 0.7928\n",
            "Epoch 3/10\n",
            "3375/3375 [==============================] - 5s 1ms/step - loss: 0.7412 - accuracy: 0.7215 - val_loss: 0.7908 - val_accuracy: 0.7694\n",
            "Epoch 4/10\n",
            "3375/3375 [==============================] - 5s 1ms/step - loss: 0.6747 - accuracy: 0.7634 - val_loss: 0.6601 - val_accuracy: 0.7638\n",
            "evaluation on test set\n",
            "238/238 [==============================] - 0s 1ms/step - loss: 0.6899 - accuracy: 0.7583\n"
          ]
        }
      ],
      "source": [
        "histories = []\n",
        "for learning_rate in learning_rates:\n",
        "    model = keras.models.Sequential([\n",
        "                                    tf.keras.Input(shape=(num_words,)),\n",
        "                                    keras.layers.Dense(16, activation=\"relu\"),\n",
        "                                    keras.layers.Dense(16, activation=\"relu\"),\n",
        "                                    keras.layers.Dense(4, activation=\"softmax\")\n",
        "                                     ])\n",
        "    model.compile(loss=\"sparse_categorical_crossentropy\",\n",
        "              optimizer=keras.optimizers.Adam(learning_rate=learning_rate),\n",
        "              metrics=[\"accuracy\"])\n",
        "              \n",
        "    callbacks = [keras.callbacks.EarlyStopping(patience=2)]\n",
        "\n",
        "    history = model.fit(X_train, y_train,\n",
        "                        validation_data=(X_valid, y_valid), epochs=10,\n",
        "                        callbacks=callbacks)\n",
        "    histories.append(history)\n",
        "    print(\"evaluation on test set\")\n",
        "    model.evaluate(X_test, y_test)"
      ]
    },
    {
      "cell_type": "markdown",
      "metadata": {
        "id": "RzTSjfwptkHJ"
      },
      "source": [
        "Let's plot the results"
      ]
    },
    {
      "cell_type": "code",
      "execution_count": 34,
      "metadata": {
        "colab": {
          "base_uri": "https://localhost:8080/",
          "height": 981
        },
        "id": "cIlN1vlioIYh",
        "outputId": "d23f84fb-c76f-4cbc-bdd2-3625c992152d"
      },
      "outputs": [
        {
          "name": "stdout",
          "output_type": "stream",
          "text": [
            "Learning rate: 0.0001\n"
          ]
        },
        {
          "data": {
            "image/png": "[encoded data removed]",
            "text/plain": [
              "<Figure size 576x360 with 1 Axes>"
            ]
          },
          "metadata": {
            "needs_background": "light"
          },
          "output_type": "display_data"
        },
        {
          "name": "stdout",
          "output_type": "stream",
          "text": [
            "Learning rate: 0.01\n"
          ]
        },
        {
          "data": {
            "image/png": "[encoded data removed]",
            "text/plain": [
              "<Figure size 576x360 with 1 Axes>"
            ]
          },
          "metadata": {
            "needs_background": "light"
          },
          "output_type": "display_data"
        },
        {
          "name": "stdout",
          "output_type": "stream",
          "text": [
            "Learning rate: 0.1\n"
          ]
        },
        {
          "data": {
            "image/png": "[encoded data removed]",
            "text/plain": [
              "<Figure size 576x360 with 1 Axes>"
            ]
          },
          "metadata": {
            "needs_background": "light"
          },
          "output_type": "display_data"
        }
      ],
      "source": [
        "for learning_rate, history in zip(learning_rates, histories):\n",
        "    print(\"Learning rate:\", learning_rate)\n",
        "    plot_learning_acc_and_loss(history)"
      ]
    },
    {
      "cell_type": "markdown",
      "metadata": {
        "id": "_JntujSWq3e5"
      },
      "source": [
        "### [TO COMPLETE] GRID Search:\n",
        "\n",
        "Since a deep net has many hyperparameters, in order to find the best ones, we have to consider all the possible combinations of all of the possible values. One common method to perform this complex task is Grid-Search.\n",
        "Given a set of values for each hyper-parameter, Grid-Search will build a model on each parameter combination possible. It iterates through every parameter combination and stores a model for each combination. Finally, the model that obtained the best result on the validation set will be select.\n",
        "\n",
        "In order to perfrom Grid-Search we will use the `GridSearchCV` class from `scikit-learn`."
      ]
    },
    {
      "cell_type": "markdown",
      "metadata": {
        "id": "CPz629YSrDhN"
      },
      "source": [
        "Let's Create a `build_model()` function that takes two arguments, `n_neurons` and `learning_rate`, and builds, compiles and returns a model with the given number of of neurons and the given learning rate.\n",
        "In order to limit the time requirements of the process we will consider only these two hyper-paramters.\n",
        "\n",
        "[TO COMPLETE] in the following code cell define the `build_model` function."
      ]
    },
    {
      "cell_type": "code",
      "execution_count": 35,
      "metadata": {
        "colab": {
          "base_uri": "https://localhost:8080/"
        },
        "id": "oGSKWTTtqxZ4",
        "outputId": "f1e72744-1f4d-40f4-be5b-c43c94be04ba"
      },
      "outputs": [
        {
          "name": "stderr",
          "output_type": "stream",
          "text": [
            "/usr/local/lib/python3.7/dist-packages/ipykernel_launcher.py:25: DeprecationWarning: KerasRegressor is deprecated, use Sci-Keras (https://github.com/adriangb/scikeras) instead. See https://www.adriangb.com/scikeras/stable/migration.html for help migrating.\n"
          ]
        }
      ],
      "source": [
        "def build_model(n_units=30, learning_rate=1e-3):\n",
        "    # The function has to build a model similar to the ones we used in previuous execises:\n",
        "    #- a input layer \n",
        "    #- one or two Dense layers composed of n_units and that exploit Relu activation function \n",
        "    #- the output layer that uses the softmax activation function\n",
        "    # Then, the model has to be compiled.\n",
        "    #[TO COMPLETE]\n",
        "    model = keras.models.Sequential([\n",
        "              tf.keras.Input(shape=(num_words,)),\n",
        "              keras.layers.Dense(units=n_units, activation='relu'),\n",
        "              keras.layers.Dense(units=n_units, activation='relu'),\n",
        "              keras.layers.Dense(units=4, activation='softmax')\n",
        "              ])\n",
        "    \n",
        "    # [TO COMPLETE] Then, the model has to be compiled.\n",
        "    model.compile(loss=\"sparse_categorical_crossentropy\",\n",
        "              optimizer=keras.optimizers.Adam(learning_rate=learning_rate),\n",
        "              metrics=[\"accuracy\"])\n",
        "    \n",
        "    return model\n",
        "\n",
        "    \n",
        "#Create a keras.wrappers.scikit_learn.KerasRegressor and pass the build_model \n",
        "#function to the constructor. This gives you a Scikit-Learn compatible predictor\n",
        "keras_reg = keras.wrappers.scikit_learn.KerasRegressor(build_model)"
      ]
    },
    {
      "cell_type": "markdown",
      "metadata": {
        "id": "PS6W3A2LxDg5"
      },
      "source": [
        "Let's define the lists of hyper-parameters' values. Also in this case, we use a very limited size lists, but in a real-world scenario a reasonable amount of possible values should be considered (try to add some values and check how much the time required to perform the Grid-Search increases)"
      ]
    },
    {
      "cell_type": "code",
      "execution_count": 36,
      "metadata": {
        "id": "y-uldCW3ru24"
      },
      "outputs": [],
      "source": [
        "param_distribs = {\n",
        "    \"n_units\": [8, 16, 24],# [TO COMPLETE] insert a list that contains few (2 or 3) reasonable value\n",
        "    \"learning_rate\": [1e-4, 1e-3, 1e-2] #[TO COMPLETE] insert a list that contains few (2 or 3) reasonable values\n",
        "    #Check how the time required to perform GRID search increases when increasing the number of values for each hyper-parameter.\n",
        "}"
      ]
    },
    {
      "cell_type": "markdown",
      "metadata": {
        "id": "bEiBxVYtx_sK"
      },
      "source": [
        "Use a `sklearn.model_selection.GridSearchCV` to search the hyperparameter space of your `KerasRegressor`"
      ]
    },
    {
      "cell_type": "code",
      "execution_count": 37,
      "metadata": {
        "id": "iobF2Bvdr9ER"
      },
      "outputs": [],
      "source": [
        "from sklearn.model_selection import GridSearchCV\n",
        "\n",
        "grid_search = GridSearchCV(keras_reg, param_distribs)"
      ]
    },
    {
      "cell_type": "markdown",
      "metadata": {
        "id": "LVGMcZz_yKSX"
      },
      "source": [
        "Run the Grid-Search"
      ]
    },
    {
      "cell_type": "code",
      "execution_count": 38,
      "metadata": {
        "colab": {
          "base_uri": "https://localhost:8080/"
        },
        "id": "-BA3vgTjr-hw",
        "outputId": "8babdd38-a149-4d5c-c8b6-37833bff3a16"
      },
      "outputs": [
        {
          "name": "stdout",
          "output_type": "stream",
          "text": [
            "Epoch 1/5\n",
            "2700/2700 [==============================] - 4s 1ms/step - loss: 1.0873 - accuracy: 0.5960 - val_loss: 0.7363 - val_accuracy: 0.7914\n",
            "Epoch 2/5\n",
            "2700/2700 [==============================] - 4s 1ms/step - loss: 0.5876 - accuracy: 0.8178 - val_loss: 0.5222 - val_accuracy: 0.8277\n",
            "Epoch 3/5\n",
            "2700/2700 [==============================] - 4s 1ms/step - loss: 0.4819 - accuracy: 0.8373 - val_loss: 0.4773 - val_accuracy: 0.8382\n",
            "Epoch 4/5\n",
            "2700/2700 [==============================] - 4s 1ms/step - loss: 0.4494 - accuracy: 0.8460 - val_loss: 0.4581 - val_accuracy: 0.8426\n",
            "Epoch 5/5\n",
            "2700/2700 [==============================] - 4s 1ms/step - loss: 0.4322 - accuracy: 0.8502 - val_loss: 0.4474 - val_accuracy: 0.8453\n",
            "675/675 [==============================] - 1s 940us/step - loss: 0.4321 - accuracy: 0.8494\n",
            "Epoch 1/5\n",
            "2700/2700 [==============================] - 4s 1ms/step - loss: 0.9718 - accuracy: 0.6420 - val_loss: 0.6527 - val_accuracy: 0.7985\n",
            "Epoch 2/5\n",
            "2700/2700 [==============================] - 4s 1ms/step - loss: 0.5531 - accuracy: 0.8241 - val_loss: 0.5075 - val_accuracy: 0.8319\n",
            "Epoch 3/5\n",
            "2700/2700 [==============================] - 4s 1ms/step - loss: 0.4699 - accuracy: 0.8427 - val_loss: 0.4668 - val_accuracy: 0.8414\n",
            "Epoch 4/5\n",
            "2700/2700 [==============================] - 4s 1ms/step - loss: 0.4386 - accuracy: 0.8499 - val_loss: 0.4489 - val_accuracy: 0.8452\n",
            "Epoch 5/5\n",
            "2700/2700 [==============================] - 4s 1ms/step - loss: 0.4224 - accuracy: 0.8538 - val_loss: 0.4398 - val_accuracy: 0.8482\n",
            "675/675 [==============================] - 1s 935us/step - loss: 0.4313 - accuracy: 0.8482\n",
            "Epoch 1/5\n",
            "2700/2700 [==============================] - 4s 1ms/step - loss: 1.0110 - accuracy: 0.6115 - val_loss: 0.6560 - val_accuracy: 0.8049\n",
            "Epoch 2/5\n",
            "2700/2700 [==============================] - 4s 1ms/step - loss: 0.5385 - accuracy: 0.8258 - val_loss: 0.4906 - val_accuracy: 0.8353\n",
            "Epoch 3/5\n",
            "2700/2700 [==============================] - 4s 1ms/step - loss: 0.4533 - accuracy: 0.8445 - val_loss: 0.4550 - val_accuracy: 0.8438\n",
            "Epoch 4/5\n",
            "2700/2700 [==============================] - 4s 1ms/step - loss: 0.4260 - accuracy: 0.8520 - val_loss: 0.4398 - val_accuracy: 0.8463\n",
            "Epoch 5/5\n",
            "2700/2700 [==============================] - 4s 1ms/step - loss: 0.4117 - accuracy: 0.8564 - val_loss: 0.4311 - val_accuracy: 0.8493\n",
            "675/675 [==============================] - 1s 934us/step - loss: 0.4357 - accuracy: 0.8449\n",
            "Epoch 1/5\n",
            "2700/2700 [==============================] - 4s 1ms/step - loss: 0.9940 - accuracy: 0.6303 - val_loss: 0.6327 - val_accuracy: 0.8069\n",
            "Epoch 2/5\n",
            "2700/2700 [==============================] - 4s 1ms/step - loss: 0.5318 - accuracy: 0.8265 - val_loss: 0.4839 - val_accuracy: 0.8357\n",
            "Epoch 3/5\n",
            "2700/2700 [==============================] - 4s 1ms/step - loss: 0.4532 - accuracy: 0.8438 - val_loss: 0.4500 - val_accuracy: 0.8440\n",
            "Epoch 4/5\n",
            "2700/2700 [==============================] - 4s 1ms/step - loss: 0.4271 - accuracy: 0.8511 - val_loss: 0.4362 - val_accuracy: 0.8471\n",
            "Epoch 5/5\n",
            "2700/2700 [==============================] - 4s 1ms/step - loss: 0.4136 - accuracy: 0.8546 - val_loss: 0.4286 - val_accuracy: 0.8487\n",
            "675/675 [==============================] - 1s 945us/step - loss: 0.4179 - accuracy: 0.8558\n",
            "Epoch 1/5\n",
            "2700/2700 [==============================] - 4s 1ms/step - loss: 1.0424 - accuracy: 0.5960 - val_loss: 0.7113 - val_accuracy: 0.7747\n",
            "Epoch 2/5\n",
            "2700/2700 [==============================] - 4s 1ms/step - loss: 0.5937 - accuracy: 0.8084 - val_loss: 0.5374 - val_accuracy: 0.8209\n",
            "Epoch 3/5\n",
            "2700/2700 [==============================] - 4s 1ms/step - loss: 0.4935 - accuracy: 0.8362 - val_loss: 0.4867 - val_accuracy: 0.8363\n",
            "Epoch 4/5\n",
            "2700/2700 [==============================] - 4s 1ms/step - loss: 0.4548 - accuracy: 0.8474 - val_loss: 0.4646 - val_accuracy: 0.8415\n",
            "Epoch 5/5\n",
            "2700/2700 [==============================] - 4s 1ms/step - loss: 0.4342 - accuracy: 0.8524 - val_loss: 0.4518 - val_accuracy: 0.8440\n",
            "675/675 [==============================] - 1s 1ms/step - loss: 0.4466 - accuracy: 0.8458\n",
            "Epoch 1/5\n",
            "2700/2700 [==============================] - 4s 1ms/step - loss: 0.9546 - accuracy: 0.6337 - val_loss: 0.5690 - val_accuracy: 0.8244\n",
            "Epoch 2/5\n",
            "2700/2700 [==============================] - 4s 1ms/step - loss: 0.4870 - accuracy: 0.8393 - val_loss: 0.4614 - val_accuracy: 0.8428\n",
            "Epoch 3/5\n",
            "2700/2700 [==============================] - 4s 1ms/step - loss: 0.4338 - accuracy: 0.8509 - val_loss: 0.4412 - val_accuracy: 0.8468\n",
            "Epoch 4/5\n",
            "2700/2700 [==============================] - 4s 1ms/step - loss: 0.4171 - accuracy: 0.8546 - val_loss: 0.4322 - val_accuracy: 0.8483\n",
            "Epoch 5/5\n",
            "2700/2700 [==============================] - 4s 1ms/step - loss: 0.4085 - accuracy: 0.8573 - val_loss: 0.4280 - val_accuracy: 0.8488\n",
            "675/675 [==============================] - 1s 970us/step - loss: 0.4140 - accuracy: 0.8536\n",
            "Epoch 1/5\n",
            "2700/2700 [==============================] - 5s 2ms/step - loss: 0.8794 - accuracy: 0.6880 - val_loss: 0.5407 - val_accuracy: 0.8238\n",
            "Epoch 2/5\n",
            "2700/2700 [==============================] - 4s 1ms/step - loss: 0.4814 - accuracy: 0.8358 - val_loss: 0.4660 - val_accuracy: 0.8405\n",
            "Epoch 3/5\n",
            "2700/2700 [==============================] - 4s 1ms/step - loss: 0.4354 - accuracy: 0.8487 - val_loss: 0.4449 - val_accuracy: 0.8472\n",
            "Epoch 4/5\n",
            "2700/2700 [==============================] - 4s 1ms/step - loss: 0.4161 - accuracy: 0.8541 - val_loss: 0.4331 - val_accuracy: 0.8483\n",
            "Epoch 5/5\n",
            "2700/2700 [==============================] - 4s 1ms/step - loss: 0.4049 - accuracy: 0.8570 - val_loss: 0.4270 - val_accuracy: 0.8492\n",
            "675/675 [==============================] - 1s 969us/step - loss: 0.4185 - accuracy: 0.8509\n",
            "Epoch 1/5\n",
            "2700/2700 [==============================] - 4s 1ms/step - loss: 0.9060 - accuracy: 0.6594 - val_loss: 0.5336 - val_accuracy: 0.8242\n",
            "Epoch 2/5\n",
            "2700/2700 [==============================] - 4s 1ms/step - loss: 0.4678 - accuracy: 0.8412 - val_loss: 0.4517 - val_accuracy: 0.8443\n",
            "Epoch 3/5\n",
            "2700/2700 [==============================] - 4s 1ms/step - loss: 0.4224 - accuracy: 0.8528 - val_loss: 0.4332 - val_accuracy: 0.8502\n",
            "Epoch 4/5\n",
            "2700/2700 [==============================] - 5s 2ms/step - loss: 0.4057 - accuracy: 0.8576 - val_loss: 0.4249 - val_accuracy: 0.8493\n",
            "Epoch 5/5\n",
            "2700/2700 [==============================] - 4s 2ms/step - loss: 0.3965 - accuracy: 0.8601 - val_loss: 0.4194 - val_accuracy: 0.8503\n",
            "675/675 [==============================] - 1s 1ms/step - loss: 0.4253 - accuracy: 0.8452\n",
            "Epoch 1/5\n",
            "2700/2700 [==============================] - 5s 2ms/step - loss: 0.9077 - accuracy: 0.7080 - val_loss: 0.5538 - val_accuracy: 0.8241\n",
            "Epoch 2/5\n",
            "2700/2700 [==============================] - 4s 2ms/step - loss: 0.4855 - accuracy: 0.8372 - val_loss: 0.4613 - val_accuracy: 0.8434\n",
            "Epoch 3/5\n",
            "2700/2700 [==============================] - 4s 2ms/step - loss: 0.4343 - accuracy: 0.8483 - val_loss: 0.4391 - val_accuracy: 0.8481\n",
            "Epoch 4/5\n",
            "2700/2700 [==============================] - 4s 1ms/step - loss: 0.4154 - accuracy: 0.8530 - val_loss: 0.4294 - val_accuracy: 0.8506\n",
            "Epoch 5/5\n",
            "2700/2700 [==============================] - 4s 2ms/step - loss: 0.4050 - accuracy: 0.8562 - val_loss: 0.4223 - val_accuracy: 0.8524\n",
            "675/675 [==============================] - 1s 1ms/step - loss: 0.4091 - accuracy: 0.8572\n",
            "Epoch 1/5\n",
            "2700/2700 [==============================] - 5s 2ms/step - loss: 0.9226 - accuracy: 0.6726 - val_loss: 0.5544 - val_accuracy: 0.8202\n",
            "Epoch 2/5\n",
            "2700/2700 [==============================] - 4s 2ms/step - loss: 0.4836 - accuracy: 0.8373 - val_loss: 0.4643 - val_accuracy: 0.8413\n",
            "Epoch 3/5\n",
            "2700/2700 [==============================] - 4s 2ms/step - loss: 0.4330 - accuracy: 0.8503 - val_loss: 0.4430 - val_accuracy: 0.8473\n",
            "Epoch 4/5\n",
            "2700/2700 [==============================] - 4s 2ms/step - loss: 0.4146 - accuracy: 0.8551 - val_loss: 0.4337 - val_accuracy: 0.8482\n",
            "Epoch 5/5\n",
            "2700/2700 [==============================] - 4s 2ms/step - loss: 0.4048 - accuracy: 0.8576 - val_loss: 0.4286 - val_accuracy: 0.8507\n",
            "675/675 [==============================] - 1s 1ms/step - loss: 0.4280 - accuracy: 0.8482\n",
            "Epoch 1/5\n",
            "2700/2700 [==============================] - 5s 2ms/step - loss: 0.8537 - accuracy: 0.6776 - val_loss: 0.5031 - val_accuracy: 0.8355\n",
            "Epoch 2/5\n",
            "2700/2700 [==============================] - 4s 2ms/step - loss: 0.4561 - accuracy: 0.8441 - val_loss: 0.4439 - val_accuracy: 0.8472\n",
            "Epoch 3/5\n",
            "2700/2700 [==============================] - 4s 2ms/step - loss: 0.4203 - accuracy: 0.8529 - val_loss: 0.4303 - val_accuracy: 0.8516\n",
            "Epoch 4/5\n",
            "2700/2700 [==============================] - 5s 2ms/step - loss: 0.4064 - accuracy: 0.8572 - val_loss: 0.4232 - val_accuracy: 0.8502\n",
            "Epoch 5/5\n",
            "2700/2700 [==============================] - 4s 2ms/step - loss: 0.3981 - accuracy: 0.8594 - val_loss: 0.4198 - val_accuracy: 0.8518\n",
            "675/675 [==============================] - 1s 1ms/step - loss: 0.4067 - accuracy: 0.8550\n",
            "Epoch 1/5\n",
            "2700/2700 [==============================] - 5s 2ms/step - loss: 0.8547 - accuracy: 0.6836 - val_loss: 0.5167 - val_accuracy: 0.8292\n",
            "Epoch 2/5\n",
            "2700/2700 [==============================] - 5s 2ms/step - loss: 0.4623 - accuracy: 0.8434 - val_loss: 0.4498 - val_accuracy: 0.8466\n",
            "Epoch 3/5\n",
            "2700/2700 [==============================] - 5s 2ms/step - loss: 0.4227 - accuracy: 0.8531 - val_loss: 0.4336 - val_accuracy: 0.8508\n",
            "Epoch 4/5\n",
            "2700/2700 [==============================] - 5s 2ms/step - loss: 0.4071 - accuracy: 0.8570 - val_loss: 0.4250 - val_accuracy: 0.8520\n",
            "Epoch 5/5\n",
            "2700/2700 [==============================] - 5s 2ms/step - loss: 0.3983 - accuracy: 0.8595 - val_loss: 0.4211 - val_accuracy: 0.8527\n",
            "675/675 [==============================] - 1s 1ms/step - loss: 0.4141 - accuracy: 0.8530\n",
            "Epoch 1/5\n",
            "2700/2700 [==============================] - 5s 2ms/step - loss: 0.7969 - accuracy: 0.7248 - val_loss: 0.4906 - val_accuracy: 0.8364\n",
            "Epoch 2/5\n",
            "2700/2700 [==============================] - 4s 2ms/step - loss: 0.4441 - accuracy: 0.8468 - val_loss: 0.4405 - val_accuracy: 0.8458\n",
            "Epoch 3/5\n",
            "2700/2700 [==============================] - 4s 2ms/step - loss: 0.4130 - accuracy: 0.8551 - val_loss: 0.4288 - val_accuracy: 0.8501\n",
            "Epoch 4/5\n",
            "2700/2700 [==============================] - 5s 2ms/step - loss: 0.4006 - accuracy: 0.8590 - val_loss: 0.4230 - val_accuracy: 0.8492\n",
            "Epoch 5/5\n",
            "2700/2700 [==============================] - 5s 2ms/step - loss: 0.3933 - accuracy: 0.8605 - val_loss: 0.4186 - val_accuracy: 0.8514\n",
            "675/675 [==============================] - 1s 1ms/step - loss: 0.4255 - accuracy: 0.8474\n",
            "Epoch 1/5\n",
            "2700/2700 [==============================] - 5s 2ms/step - loss: 0.8079 - accuracy: 0.7127 - val_loss: 0.4982 - val_accuracy: 0.8314\n",
            "Epoch 2/5\n",
            "2700/2700 [==============================] - 5s 2ms/step - loss: 0.4523 - accuracy: 0.8436 - val_loss: 0.4400 - val_accuracy: 0.8458\n",
            "Epoch 3/5\n",
            "2700/2700 [==============================] - 5s 2ms/step - loss: 0.4170 - accuracy: 0.8529 - val_loss: 0.4272 - val_accuracy: 0.8500\n",
            "Epoch 4/5\n",
            "2700/2700 [==============================] - 5s 2ms/step - loss: 0.4034 - accuracy: 0.8566 - val_loss: 0.4226 - val_accuracy: 0.8518\n",
            "Epoch 5/5\n",
            "2700/2700 [==============================] - 5s 2ms/step - loss: 0.3955 - accuracy: 0.8588 - val_loss: 0.4170 - val_accuracy: 0.8511\n",
            "675/675 [==============================] - 1s 1ms/step - loss: 0.4054 - accuracy: 0.8565\n",
            "Epoch 1/5\n",
            "2700/2700 [==============================] - 5s 2ms/step - loss: 0.8410 - accuracy: 0.6986 - val_loss: 0.5032 - val_accuracy: 0.8305\n",
            "Epoch 2/5\n",
            "2700/2700 [==============================] - 5s 2ms/step - loss: 0.4516 - accuracy: 0.8454 - val_loss: 0.4471 - val_accuracy: 0.8471\n",
            "Epoch 3/5\n",
            "2700/2700 [==============================] - 5s 2ms/step - loss: 0.4179 - accuracy: 0.8535 - val_loss: 0.4327 - val_accuracy: 0.8483\n",
            "Epoch 4/5\n",
            "2700/2700 [==============================] - 4s 2ms/step - loss: 0.4044 - accuracy: 0.8571 - val_loss: 0.4262 - val_accuracy: 0.8505\n",
            "Epoch 5/5\n",
            "2700/2700 [==============================] - 5s 2ms/step - loss: 0.3969 - accuracy: 0.8586 - val_loss: 0.4223 - val_accuracy: 0.8509\n",
            "675/675 [==============================] - 1s 1ms/step - loss: 0.4218 - accuracy: 0.8509\n",
            "Epoch 1/5\n",
            "2700/2700 [==============================] - 5s 2ms/step - loss: 0.5226 - accuracy: 0.8069 - val_loss: 0.4293 - val_accuracy: 0.8470\n",
            "Epoch 2/5\n",
            "2700/2700 [==============================] - 4s 2ms/step - loss: 0.4053 - accuracy: 0.8541 - val_loss: 0.4104 - val_accuracy: 0.8543\n",
            "Epoch 3/5\n",
            "2700/2700 [==============================] - 4s 1ms/step - loss: 0.3916 - accuracy: 0.8579 - val_loss: 0.4112 - val_accuracy: 0.8518\n",
            "Epoch 4/5\n",
            "2700/2700 [==============================] - 4s 2ms/step - loss: 0.3827 - accuracy: 0.8604 - val_loss: 0.4088 - val_accuracy: 0.8534\n",
            "Epoch 5/5\n",
            "2700/2700 [==============================] - 4s 2ms/step - loss: 0.3755 - accuracy: 0.8626 - val_loss: 0.4070 - val_accuracy: 0.8558\n",
            "675/675 [==============================] - 1s 1ms/step - loss: 0.3931 - accuracy: 0.8582\n",
            "Epoch 1/5\n",
            "2700/2700 [==============================] - 5s 2ms/step - loss: 0.5211 - accuracy: 0.8117 - val_loss: 0.4323 - val_accuracy: 0.8479\n",
            "Epoch 2/5\n",
            "2700/2700 [==============================] - 4s 2ms/step - loss: 0.4080 - accuracy: 0.8538 - val_loss: 0.4178 - val_accuracy: 0.8534\n",
            "Epoch 3/5\n",
            "2700/2700 [==============================] - 4s 2ms/step - loss: 0.3942 - accuracy: 0.8576 - val_loss: 0.4184 - val_accuracy: 0.8518\n",
            "Epoch 4/5\n",
            "2700/2700 [==============================] - 4s 2ms/step - loss: 0.3849 - accuracy: 0.8606 - val_loss: 0.4136 - val_accuracy: 0.8522\n",
            "Epoch 5/5\n",
            "2700/2700 [==============================] - 4s 1ms/step - loss: 0.3773 - accuracy: 0.8627 - val_loss: 0.4126 - val_accuracy: 0.8546\n",
            "675/675 [==============================] - 1s 1ms/step - loss: 0.4049 - accuracy: 0.8537\n",
            "Epoch 1/5\n",
            "2700/2700 [==============================] - 5s 2ms/step - loss: 0.5280 - accuracy: 0.8100 - val_loss: 0.4362 - val_accuracy: 0.8457\n",
            "Epoch 2/5\n",
            "2700/2700 [==============================] - 4s 2ms/step - loss: 0.4067 - accuracy: 0.8547 - val_loss: 0.4178 - val_accuracy: 0.8524\n",
            "Epoch 3/5\n",
            "2700/2700 [==============================] - 4s 1ms/step - loss: 0.3945 - accuracy: 0.8574 - val_loss: 0.4125 - val_accuracy: 0.8518\n",
            "Epoch 4/5\n",
            "2700/2700 [==============================] - 4s 1ms/step - loss: 0.3863 - accuracy: 0.8600 - val_loss: 0.4141 - val_accuracy: 0.8506\n",
            "Epoch 5/5\n",
            "2700/2700 [==============================] - 4s 2ms/step - loss: 0.3795 - accuracy: 0.8618 - val_loss: 0.4075 - val_accuracy: 0.8540\n",
            "675/675 [==============================] - 1s 1ms/step - loss: 0.4175 - accuracy: 0.8475\n",
            "Epoch 1/5\n",
            "2700/2700 [==============================] - 5s 2ms/step - loss: 0.5202 - accuracy: 0.8169 - val_loss: 0.4237 - val_accuracy: 0.8496\n",
            "Epoch 2/5\n",
            "2700/2700 [==============================] - 4s 2ms/step - loss: 0.4076 - accuracy: 0.8527 - val_loss: 0.4128 - val_accuracy: 0.8522\n",
            "Epoch 3/5\n",
            "2700/2700 [==============================] - 4s 2ms/step - loss: 0.3943 - accuracy: 0.8557 - val_loss: 0.4086 - val_accuracy: 0.8530\n",
            "Epoch 4/5\n",
            "2700/2700 [==============================] - 4s 2ms/step - loss: 0.3841 - accuracy: 0.8592 - val_loss: 0.4083 - val_accuracy: 0.8518\n",
            "Epoch 5/5\n",
            "2700/2700 [==============================] - 4s 2ms/step - loss: 0.3756 - accuracy: 0.8608 - val_loss: 0.4028 - val_accuracy: 0.8546\n",
            "675/675 [==============================] - 1s 1ms/step - loss: 0.3924 - accuracy: 0.8578\n",
            "Epoch 1/5\n",
            "2700/2700 [==============================] - 5s 2ms/step - loss: 0.5514 - accuracy: 0.8064 - val_loss: 0.4438 - val_accuracy: 0.8427\n",
            "Epoch 2/5\n",
            "2700/2700 [==============================] - 4s 2ms/step - loss: 0.4144 - accuracy: 0.8516 - val_loss: 0.4192 - val_accuracy: 0.8484\n",
            "Epoch 3/5\n",
            "2700/2700 [==============================] - 4s 2ms/step - loss: 0.3949 - accuracy: 0.8566 - val_loss: 0.4105 - val_accuracy: 0.8501\n",
            "Epoch 4/5\n",
            "2700/2700 [==============================] - 4s 2ms/step - loss: 0.3843 - accuracy: 0.8596 - val_loss: 0.4078 - val_accuracy: 0.8515\n",
            "Epoch 5/5\n",
            "2700/2700 [==============================] - 4s 2ms/step - loss: 0.3771 - accuracy: 0.8615 - val_loss: 0.4080 - val_accuracy: 0.8503\n",
            "675/675 [==============================] - 1s 1ms/step - loss: 0.4118 - accuracy: 0.8528\n",
            "Epoch 1/5\n",
            "2700/2700 [==============================] - 5s 2ms/step - loss: 0.4974 - accuracy: 0.8215 - val_loss: 0.4367 - val_accuracy: 0.8461\n",
            "Epoch 2/5\n",
            "2700/2700 [==============================] - 5s 2ms/step - loss: 0.4064 - accuracy: 0.8529 - val_loss: 0.4066 - val_accuracy: 0.8522\n",
            "Epoch 3/5\n",
            "2700/2700 [==============================] - 5s 2ms/step - loss: 0.3848 - accuracy: 0.8588 - val_loss: 0.4044 - val_accuracy: 0.8545\n",
            "Epoch 4/5\n",
            "2700/2700 [==============================] - 4s 2ms/step - loss: 0.3689 - accuracy: 0.8647 - val_loss: 0.3989 - val_accuracy: 0.8556\n",
            "Epoch 5/5\n",
            "2700/2700 [==============================] - 4s 2ms/step - loss: 0.3556 - accuracy: 0.8694 - val_loss: 0.3996 - val_accuracy: 0.8562\n",
            "675/675 [==============================] - 1s 1ms/step - loss: 0.3877 - accuracy: 0.8587\n",
            "Epoch 1/5\n",
            "2700/2700 [==============================] - 5s 2ms/step - loss: 0.4988 - accuracy: 0.8201 - val_loss: 0.4300 - val_accuracy: 0.8489\n",
            "Epoch 2/5\n",
            "2700/2700 [==============================] - 4s 2ms/step - loss: 0.4014 - accuracy: 0.8549 - val_loss: 0.4122 - val_accuracy: 0.8518\n",
            "Epoch 3/5\n",
            "2700/2700 [==============================] - 4s 2ms/step - loss: 0.3827 - accuracy: 0.8591 - val_loss: 0.4109 - val_accuracy: 0.8521\n",
            "Epoch 4/5\n",
            "2700/2700 [==============================] - 4s 2ms/step - loss: 0.3680 - accuracy: 0.8651 - val_loss: 0.4067 - val_accuracy: 0.8536\n",
            "Epoch 5/5\n",
            "2700/2700 [==============================] - 4s 2ms/step - loss: 0.3545 - accuracy: 0.8696 - val_loss: 0.4047 - val_accuracy: 0.8549\n",
            "675/675 [==============================] - 1s 1ms/step - loss: 0.4009 - accuracy: 0.8519\n",
            "Epoch 1/5\n",
            "2700/2700 [==============================] - 5s 2ms/step - loss: 0.4931 - accuracy: 0.8234 - val_loss: 0.4333 - val_accuracy: 0.8465\n",
            "Epoch 2/5\n",
            "2700/2700 [==============================] - 4s 2ms/step - loss: 0.4017 - accuracy: 0.8547 - val_loss: 0.4106 - val_accuracy: 0.8513\n",
            "Epoch 3/5\n",
            "2700/2700 [==============================] - 4s 2ms/step - loss: 0.3836 - accuracy: 0.8601 - val_loss: 0.4031 - val_accuracy: 0.8537\n",
            "Epoch 4/5\n",
            "2700/2700 [==============================] - 4s 2ms/step - loss: 0.3686 - accuracy: 0.8657 - val_loss: 0.4054 - val_accuracy: 0.8515\n",
            "Epoch 5/5\n",
            "2700/2700 [==============================] - 4s 2ms/step - loss: 0.3560 - accuracy: 0.8705 - val_loss: 0.3991 - val_accuracy: 0.8567\n",
            "675/675 [==============================] - 1s 1ms/step - loss: 0.4053 - accuracy: 0.8505\n",
            "Epoch 1/5\n",
            "2700/2700 [==============================] - 5s 2ms/step - loss: 0.4987 - accuracy: 0.8202 - val_loss: 0.4268 - val_accuracy: 0.8468\n",
            "Epoch 2/5\n",
            "2700/2700 [==============================] - 5s 2ms/step - loss: 0.4047 - accuracy: 0.8532 - val_loss: 0.4120 - val_accuracy: 0.8515\n",
            "Epoch 3/5\n",
            "2700/2700 [==============================] - 4s 2ms/step - loss: 0.3862 - accuracy: 0.8580 - val_loss: 0.4043 - val_accuracy: 0.8537\n",
            "Epoch 4/5\n",
            "2700/2700 [==============================] - 4s 2ms/step - loss: 0.3716 - accuracy: 0.8644 - val_loss: 0.4054 - val_accuracy: 0.8531\n",
            "Epoch 5/5\n",
            "2700/2700 [==============================] - 4s 2ms/step - loss: 0.3584 - accuracy: 0.8675 - val_loss: 0.3977 - val_accuracy: 0.8549\n",
            "675/675 [==============================] - 1s 1ms/step - loss: 0.3887 - accuracy: 0.8589\n",
            "Epoch 1/5\n",
            "2700/2700 [==============================] - 5s 2ms/step - loss: 0.4879 - accuracy: 0.8264 - val_loss: 0.4245 - val_accuracy: 0.8522\n",
            "Epoch 2/5\n",
            "2700/2700 [==============================] - 4s 2ms/step - loss: 0.4021 - accuracy: 0.8536 - val_loss: 0.4117 - val_accuracy: 0.8529\n",
            "Epoch 3/5\n",
            "2700/2700 [==============================] - 5s 2ms/step - loss: 0.3833 - accuracy: 0.8590 - val_loss: 0.4054 - val_accuracy: 0.8541\n",
            "Epoch 4/5\n",
            "2700/2700 [==============================] - 4s 2ms/step - loss: 0.3674 - accuracy: 0.8647 - val_loss: 0.4025 - val_accuracy: 0.8546\n",
            "Epoch 5/5\n",
            "2700/2700 [==============================] - 4s 2ms/step - loss: 0.3530 - accuracy: 0.8690 - val_loss: 0.4045 - val_accuracy: 0.8522\n",
            "675/675 [==============================] - 1s 1ms/step - loss: 0.4052 - accuracy: 0.8555\n",
            "Epoch 1/5\n",
            "2700/2700 [==============================] - 5s 2ms/step - loss: 0.4855 - accuracy: 0.8246 - val_loss: 0.4310 - val_accuracy: 0.8456\n",
            "Epoch 2/5\n",
            "2700/2700 [==============================] - 5s 2ms/step - loss: 0.3990 - accuracy: 0.8550 - val_loss: 0.4033 - val_accuracy: 0.8537\n",
            "Epoch 3/5\n",
            "2700/2700 [==============================] - 5s 2ms/step - loss: 0.3743 - accuracy: 0.8630 - val_loss: 0.4020 - val_accuracy: 0.8531\n",
            "Epoch 4/5\n",
            "2700/2700 [==============================] - 5s 2ms/step - loss: 0.3541 - accuracy: 0.8709 - val_loss: 0.3995 - val_accuracy: 0.8558\n",
            "Epoch 5/5\n",
            "2700/2700 [==============================] - 5s 2ms/step - loss: 0.3355 - accuracy: 0.8775 - val_loss: 0.4038 - val_accuracy: 0.8533\n",
            "675/675 [==============================] - 1s 1ms/step - loss: 0.3898 - accuracy: 0.8584\n",
            "Epoch 1/5\n",
            "2700/2700 [==============================] - 5s 2ms/step - loss: 0.4849 - accuracy: 0.8259 - val_loss: 0.4287 - val_accuracy: 0.8474\n",
            "Epoch 2/5\n",
            "2700/2700 [==============================] - 5s 2ms/step - loss: 0.3955 - accuracy: 0.8561 - val_loss: 0.4058 - val_accuracy: 0.8536\n",
            "Epoch 3/5\n",
            "2700/2700 [==============================] - 5s 2ms/step - loss: 0.3711 - accuracy: 0.8628 - val_loss: 0.4051 - val_accuracy: 0.8561\n",
            "Epoch 4/5\n",
            "2700/2700 [==============================] - 5s 2ms/step - loss: 0.3508 - accuracy: 0.8705 - val_loss: 0.4072 - val_accuracy: 0.8554\n",
            "Epoch 5/5\n",
            "2700/2700 [==============================] - 6s 2ms/step - loss: 0.3324 - accuracy: 0.8776 - val_loss: 0.4073 - val_accuracy: 0.8546\n",
            "675/675 [==============================] - 1s 2ms/step - loss: 0.4022 - accuracy: 0.8536\n",
            "Epoch 1/5\n",
            "2700/2700 [==============================] - 5s 2ms/step - loss: 0.4783 - accuracy: 0.8292 - val_loss: 0.4284 - val_accuracy: 0.8468\n",
            "Epoch 2/5\n",
            "2700/2700 [==============================] - 5s 2ms/step - loss: 0.3949 - accuracy: 0.8565 - val_loss: 0.4064 - val_accuracy: 0.8509\n",
            "Epoch 3/5\n",
            "2700/2700 [==============================] - 5s 2ms/step - loss: 0.3729 - accuracy: 0.8626 - val_loss: 0.3978 - val_accuracy: 0.8539\n",
            "Epoch 4/5\n",
            "2700/2700 [==============================] - 5s 2ms/step - loss: 0.3531 - accuracy: 0.8704 - val_loss: 0.4009 - val_accuracy: 0.8525\n",
            "Epoch 5/5\n",
            "2700/2700 [==============================] - 5s 2ms/step - loss: 0.3350 - accuracy: 0.8761 - val_loss: 0.3981 - val_accuracy: 0.8563\n",
            "675/675 [==============================] - 1s 1ms/step - loss: 0.4049 - accuracy: 0.8532\n",
            "Epoch 1/5\n",
            "2700/2700 [==============================] - 5s 2ms/step - loss: 0.4860 - accuracy: 0.8256 - val_loss: 0.4184 - val_accuracy: 0.8499\n",
            "Epoch 2/5\n",
            "2700/2700 [==============================] - 4s 2ms/step - loss: 0.3997 - accuracy: 0.8536 - val_loss: 0.4062 - val_accuracy: 0.8522\n",
            "Epoch 3/5\n",
            "2700/2700 [==============================] - 5s 2ms/step - loss: 0.3755 - accuracy: 0.8610 - val_loss: 0.3998 - val_accuracy: 0.8537\n",
            "Epoch 4/5\n",
            "2700/2700 [==============================] - 5s 2ms/step - loss: 0.3551 - accuracy: 0.8689 - val_loss: 0.4021 - val_accuracy: 0.8543\n",
            "Epoch 5/5\n",
            "2700/2700 [==============================] - 5s 2ms/step - loss: 0.3362 - accuracy: 0.8753 - val_loss: 0.4003 - val_accuracy: 0.8547\n",
            "675/675 [==============================] - 1s 1ms/step - loss: 0.3894 - accuracy: 0.8615\n",
            "Epoch 1/5\n",
            "2700/2700 [==============================] - 5s 2ms/step - loss: 0.4818 - accuracy: 0.8282 - val_loss: 0.4170 - val_accuracy: 0.8518\n",
            "Epoch 2/5\n",
            "2700/2700 [==============================] - 5s 2ms/step - loss: 0.3947 - accuracy: 0.8554 - val_loss: 0.4078 - val_accuracy: 0.8522\n",
            "Epoch 3/5\n",
            "2700/2700 [==============================] - 5s 2ms/step - loss: 0.3728 - accuracy: 0.8625 - val_loss: 0.4001 - val_accuracy: 0.8558\n",
            "Epoch 4/5\n",
            "2700/2700 [==============================] - 5s 2ms/step - loss: 0.3529 - accuracy: 0.8698 - val_loss: 0.3967 - val_accuracy: 0.8575\n",
            "Epoch 5/5\n",
            "2700/2700 [==============================] - 5s 2ms/step - loss: 0.3342 - accuracy: 0.8767 - val_loss: 0.4014 - val_accuracy: 0.8586\n",
            "675/675 [==============================] - 1s 1ms/step - loss: 0.4060 - accuracy: 0.8554\n",
            "Epoch 1/5\n",
            "2700/2700 [==============================] - 5s 2ms/step - loss: 0.4787 - accuracy: 0.8279 - val_loss: 0.4590 - val_accuracy: 0.8371\n",
            "Epoch 2/5\n",
            "2700/2700 [==============================] - 4s 2ms/step - loss: 0.4196 - accuracy: 0.8486 - val_loss: 0.4232 - val_accuracy: 0.8504\n",
            "Epoch 3/5\n",
            "2700/2700 [==============================] - 5s 2ms/step - loss: 0.4016 - accuracy: 0.8540 - val_loss: 0.4380 - val_accuracy: 0.8441\n",
            "Epoch 4/5\n",
            "2700/2700 [==============================] - 4s 2ms/step - loss: 0.3928 - accuracy: 0.8580 - val_loss: 0.4240 - val_accuracy: 0.8495\n",
            "Epoch 5/5\n",
            "2700/2700 [==============================] - 5s 2ms/step - loss: 0.3846 - accuracy: 0.8608 - val_loss: 0.4365 - val_accuracy: 0.8455\n",
            "675/675 [==============================] - 1s 1ms/step - loss: 0.4289 - accuracy: 0.8491\n",
            "Epoch 1/5\n",
            "2700/2700 [==============================] - 5s 2ms/step - loss: 0.4788 - accuracy: 0.8278 - val_loss: 0.4462 - val_accuracy: 0.8412\n",
            "Epoch 2/5\n",
            "2700/2700 [==============================] - 4s 2ms/step - loss: 0.4242 - accuracy: 0.8479 - val_loss: 0.4401 - val_accuracy: 0.8439\n",
            "Epoch 3/5\n",
            "2700/2700 [==============================] - 5s 2ms/step - loss: 0.4082 - accuracy: 0.8533 - val_loss: 0.4364 - val_accuracy: 0.8471\n",
            "Epoch 4/5\n",
            "2700/2700 [==============================] - 4s 2ms/step - loss: 0.3983 - accuracy: 0.8561 - val_loss: 0.4343 - val_accuracy: 0.8481\n",
            "Epoch 5/5\n",
            "2700/2700 [==============================] - 4s 2ms/step - loss: 0.3883 - accuracy: 0.8602 - val_loss: 0.4465 - val_accuracy: 0.8467\n",
            "675/675 [==============================] - 1s 1ms/step - loss: 0.4419 - accuracy: 0.8448\n",
            "Epoch 1/5\n",
            "2700/2700 [==============================] - 5s 2ms/step - loss: 0.4797 - accuracy: 0.8275 - val_loss: 0.4456 - val_accuracy: 0.8418\n",
            "Epoch 2/5\n",
            "2700/2700 [==============================] - 4s 1ms/step - loss: 0.4206 - accuracy: 0.8494 - val_loss: 0.4265 - val_accuracy: 0.8475\n",
            "Epoch 3/5\n",
            "2700/2700 [==============================] - 4s 2ms/step - loss: 0.4064 - accuracy: 0.8546 - val_loss: 0.4239 - val_accuracy: 0.8504\n",
            "Epoch 4/5\n",
            "2700/2700 [==============================] - 4s 2ms/step - loss: 0.3975 - accuracy: 0.8578 - val_loss: 0.4342 - val_accuracy: 0.8462\n",
            "Epoch 5/5\n",
            "2700/2700 [==============================] - 4s 2ms/step - loss: 0.3889 - accuracy: 0.8605 - val_loss: 0.4363 - val_accuracy: 0.8500\n",
            "675/675 [==============================] - 1s 1ms/step - loss: 0.4423 - accuracy: 0.8441\n",
            "Epoch 1/5\n",
            "2700/2700 [==============================] - 5s 2ms/step - loss: 0.4811 - accuracy: 0.8264 - val_loss: 0.4427 - val_accuracy: 0.8445\n",
            "Epoch 2/5\n",
            "2700/2700 [==============================] - 5s 2ms/step - loss: 0.4215 - accuracy: 0.8473 - val_loss: 0.4249 - val_accuracy: 0.8506\n",
            "Epoch 3/5\n",
            "2700/2700 [==============================] - 5s 2ms/step - loss: 0.4045 - accuracy: 0.8532 - val_loss: 0.4241 - val_accuracy: 0.8484\n",
            "Epoch 4/5\n",
            "2700/2700 [==============================] - 4s 2ms/step - loss: 0.3930 - accuracy: 0.8570 - val_loss: 0.4306 - val_accuracy: 0.8481\n",
            "Epoch 5/5\n",
            "2700/2700 [==============================] - 4s 2ms/step - loss: 0.3852 - accuracy: 0.8588 - val_loss: 0.4236 - val_accuracy: 0.8488\n",
            "675/675 [==============================] - 1s 1ms/step - loss: 0.4143 - accuracy: 0.8514\n",
            "Epoch 1/5\n",
            "2700/2700 [==============================] - 5s 2ms/step - loss: 0.4777 - accuracy: 0.8257 - val_loss: 0.4416 - val_accuracy: 0.8413\n",
            "Epoch 2/5\n",
            "2700/2700 [==============================] - 4s 2ms/step - loss: 0.4164 - accuracy: 0.8476 - val_loss: 0.4243 - val_accuracy: 0.8478\n",
            "Epoch 3/5\n",
            "2700/2700 [==============================] - 4s 1ms/step - loss: 0.4024 - accuracy: 0.8534 - val_loss: 0.4162 - val_accuracy: 0.8497\n",
            "Epoch 4/5\n",
            "2700/2700 [==============================] - 4s 2ms/step - loss: 0.3936 - accuracy: 0.8552 - val_loss: 0.4247 - val_accuracy: 0.8471\n",
            "Epoch 5/5\n",
            "2700/2700 [==============================] - 4s 2ms/step - loss: 0.3857 - accuracy: 0.8581 - val_loss: 0.4169 - val_accuracy: 0.8478\n",
            "675/675 [==============================] - 1s 1ms/step - loss: 0.4255 - accuracy: 0.8477\n",
            "Epoch 1/5\n",
            "2700/2700 [==============================] - 5s 2ms/step - loss: 0.4751 - accuracy: 0.8278 - val_loss: 0.4566 - val_accuracy: 0.8413\n",
            "Epoch 2/5\n",
            "2700/2700 [==============================] - 5s 2ms/step - loss: 0.4164 - accuracy: 0.8489 - val_loss: 0.4255 - val_accuracy: 0.8478\n",
            "Epoch 3/5\n",
            "2700/2700 [==============================] - 4s 2ms/step - loss: 0.3946 - accuracy: 0.8559 - val_loss: 0.4387 - val_accuracy: 0.8470\n",
            "Epoch 4/5\n",
            "2700/2700 [==============================] - 5s 2ms/step - loss: 0.3800 - accuracy: 0.8616 - val_loss: 0.4255 - val_accuracy: 0.8533\n",
            "Epoch 5/5\n",
            "2700/2700 [==============================] - 5s 2ms/step - loss: 0.3666 - accuracy: 0.8659 - val_loss: 0.4439 - val_accuracy: 0.8456\n",
            "675/675 [==============================] - 1s 1ms/step - loss: 0.4295 - accuracy: 0.8482\n",
            "Epoch 1/5\n",
            "2700/2700 [==============================] - 5s 2ms/step - loss: 0.4701 - accuracy: 0.8293 - val_loss: 0.4320 - val_accuracy: 0.8430\n",
            "Epoch 2/5\n",
            "2700/2700 [==============================] - 4s 2ms/step - loss: 0.4114 - accuracy: 0.8498 - val_loss: 0.4328 - val_accuracy: 0.8458\n",
            "Epoch 3/5\n",
            "2700/2700 [==============================] - 4s 2ms/step - loss: 0.3894 - accuracy: 0.8572 - val_loss: 0.4315 - val_accuracy: 0.8470\n",
            "Epoch 4/5\n",
            "2700/2700 [==============================] - 5s 2ms/step - loss: 0.3750 - accuracy: 0.8634 - val_loss: 0.4193 - val_accuracy: 0.8504\n",
            "Epoch 5/5\n",
            "2700/2700 [==============================] - 5s 2ms/step - loss: 0.3601 - accuracy: 0.8694 - val_loss: 0.4362 - val_accuracy: 0.8496\n",
            "675/675 [==============================] - 1s 1ms/step - loss: 0.4270 - accuracy: 0.8477\n",
            "Epoch 1/5\n",
            "2700/2700 [==============================] - 5s 2ms/step - loss: 0.4678 - accuracy: 0.8311 - val_loss: 0.4386 - val_accuracy: 0.8447\n",
            "Epoch 2/5\n",
            "2700/2700 [==============================] - 5s 2ms/step - loss: 0.4059 - accuracy: 0.8526 - val_loss: 0.4130 - val_accuracy: 0.8508\n",
            "Epoch 3/5\n",
            "2700/2700 [==============================] - 4s 2ms/step - loss: 0.3847 - accuracy: 0.8612 - val_loss: 0.4138 - val_accuracy: 0.8515\n",
            "Epoch 4/5\n",
            "2700/2700 [==============================] - 4s 2ms/step - loss: 0.3672 - accuracy: 0.8670 - val_loss: 0.4213 - val_accuracy: 0.8536\n",
            "Epoch 5/5\n",
            "2700/2700 [==============================] - 5s 2ms/step - loss: 0.3517 - accuracy: 0.8718 - val_loss: 0.4378 - val_accuracy: 0.8532\n",
            "675/675 [==============================] - 1s 1ms/step - loss: 0.4486 - accuracy: 0.8453\n",
            "Epoch 1/5\n",
            "2700/2700 [==============================] - 5s 2ms/step - loss: 0.4727 - accuracy: 0.8283 - val_loss: 0.4507 - val_accuracy: 0.8385\n",
            "Epoch 2/5\n",
            "2700/2700 [==============================] - 4s 2ms/step - loss: 0.4126 - accuracy: 0.8493 - val_loss: 0.4210 - val_accuracy: 0.8498\n",
            "Epoch 3/5\n",
            "2700/2700 [==============================] - 4s 2ms/step - loss: 0.3916 - accuracy: 0.8569 - val_loss: 0.4258 - val_accuracy: 0.8469\n",
            "Epoch 4/5\n",
            "2700/2700 [==============================] - 4s 2ms/step - loss: 0.3747 - accuracy: 0.8637 - val_loss: 0.4308 - val_accuracy: 0.8476\n",
            "Epoch 5/5\n",
            "2700/2700 [==============================] - 4s 2ms/step - loss: 0.3611 - accuracy: 0.8690 - val_loss: 0.4180 - val_accuracy: 0.8503\n",
            "675/675 [==============================] - 1s 1ms/step - loss: 0.4129 - accuracy: 0.8511\n",
            "Epoch 1/5\n",
            "2700/2700 [==============================] - 5s 2ms/step - loss: 0.4709 - accuracy: 0.8295 - val_loss: 0.4425 - val_accuracy: 0.8449\n",
            "Epoch 2/5\n",
            "2700/2700 [==============================] - 4s 2ms/step - loss: 0.4092 - accuracy: 0.8513 - val_loss: 0.4239 - val_accuracy: 0.8473\n",
            "Epoch 3/5\n",
            "2700/2700 [==============================] - 4s 2ms/step - loss: 0.3851 - accuracy: 0.8614 - val_loss: 0.4188 - val_accuracy: 0.8546\n",
            "Epoch 4/5\n",
            "2700/2700 [==============================] - 5s 2ms/step - loss: 0.3691 - accuracy: 0.8656 - val_loss: 0.4284 - val_accuracy: 0.8463\n",
            "Epoch 5/5\n",
            "2700/2700 [==============================] - 4s 2ms/step - loss: 0.3546 - accuracy: 0.8710 - val_loss: 0.4283 - val_accuracy: 0.8472\n",
            "675/675 [==============================] - 1s 1ms/step - loss: 0.4379 - accuracy: 0.8472\n",
            "Epoch 1/5\n",
            "2700/2700 [==============================] - 5s 2ms/step - loss: 0.4744 - accuracy: 0.8272 - val_loss: 0.4467 - val_accuracy: 0.8394\n",
            "Epoch 2/5\n",
            "2700/2700 [==============================] - 5s 2ms/step - loss: 0.4098 - accuracy: 0.8515 - val_loss: 0.4229 - val_accuracy: 0.8488\n",
            "Epoch 3/5\n",
            "2700/2700 [==============================] - 4s 2ms/step - loss: 0.3817 - accuracy: 0.8609 - val_loss: 0.4282 - val_accuracy: 0.8511\n",
            "Epoch 4/5\n",
            "2700/2700 [==============================] - 5s 2ms/step - loss: 0.3593 - accuracy: 0.8683 - val_loss: 0.4293 - val_accuracy: 0.8499\n",
            "Epoch 5/5\n",
            "2700/2700 [==============================] - 5s 2ms/step - loss: 0.3389 - accuracy: 0.8752 - val_loss: 0.4495 - val_accuracy: 0.8483\n",
            "675/675 [==============================] - 1s 1ms/step - loss: 0.4347 - accuracy: 0.8495\n",
            "Epoch 1/5\n",
            "2700/2700 [==============================] - 5s 2ms/step - loss: 0.4726 - accuracy: 0.8281 - val_loss: 0.4312 - val_accuracy: 0.8444\n",
            "Epoch 2/5\n",
            "2700/2700 [==============================] - 5s 2ms/step - loss: 0.4081 - accuracy: 0.8521 - val_loss: 0.4269 - val_accuracy: 0.8500\n",
            "Epoch 3/5\n",
            "2700/2700 [==============================] - 4s 2ms/step - loss: 0.3801 - accuracy: 0.8618 - val_loss: 0.4325 - val_accuracy: 0.8486\n",
            "Epoch 4/5\n",
            "2700/2700 [==============================] - 5s 2ms/step - loss: 0.3584 - accuracy: 0.8713 - val_loss: 0.4322 - val_accuracy: 0.8464\n",
            "Epoch 5/5\n",
            "2700/2700 [==============================] - 5s 2ms/step - loss: 0.3403 - accuracy: 0.8768 - val_loss: 0.4430 - val_accuracy: 0.8467\n",
            "675/675 [==============================] - 1s 1ms/step - loss: 0.4342 - accuracy: 0.8489\n",
            "Epoch 1/5\n",
            "2700/2700 [==============================] - 5s 2ms/step - loss: 0.4704 - accuracy: 0.8299 - val_loss: 0.4316 - val_accuracy: 0.8447\n",
            "Epoch 2/5\n",
            "2700/2700 [==============================] - 5s 2ms/step - loss: 0.4036 - accuracy: 0.8538 - val_loss: 0.4188 - val_accuracy: 0.8508\n",
            "Epoch 3/5\n",
            "2700/2700 [==============================] - 5s 2ms/step - loss: 0.3759 - accuracy: 0.8633 - val_loss: 0.4206 - val_accuracy: 0.8510\n",
            "Epoch 4/5\n",
            "2700/2700 [==============================] - 5s 2ms/step - loss: 0.3520 - accuracy: 0.8715 - val_loss: 0.4344 - val_accuracy: 0.8503\n",
            "Epoch 5/5\n",
            "2700/2700 [==============================] - 5s 2ms/step - loss: 0.3320 - accuracy: 0.8801 - val_loss: 0.4416 - val_accuracy: 0.8493\n",
            "675/675 [==============================] - 1s 1ms/step - loss: 0.4630 - accuracy: 0.8412\n",
            "Epoch 1/5\n",
            "2700/2700 [==============================] - 5s 2ms/step - loss: 0.4745 - accuracy: 0.8276 - val_loss: 0.4589 - val_accuracy: 0.8330\n",
            "Epoch 2/5\n",
            "2700/2700 [==============================] - 5s 2ms/step - loss: 0.4093 - accuracy: 0.8516 - val_loss: 0.4234 - val_accuracy: 0.8494\n",
            "Epoch 3/5\n",
            "2700/2700 [==============================] - 5s 2ms/step - loss: 0.3823 - accuracy: 0.8612 - val_loss: 0.4204 - val_accuracy: 0.8508\n",
            "Epoch 4/5\n",
            "2700/2700 [==============================] - 5s 2ms/step - loss: 0.3598 - accuracy: 0.8690 - val_loss: 0.4233 - val_accuracy: 0.8468\n",
            "Epoch 5/5\n",
            "2700/2700 [==============================] - 5s 2ms/step - loss: 0.3417 - accuracy: 0.8758 - val_loss: 0.4297 - val_accuracy: 0.8520\n",
            "675/675 [==============================] - 1s 1ms/step - loss: 0.4213 - accuracy: 0.8537\n",
            "Epoch 1/5\n",
            "2700/2700 [==============================] - 5s 2ms/step - loss: 0.4691 - accuracy: 0.8302 - val_loss: 0.4438 - val_accuracy: 0.8393\n",
            "Epoch 2/5\n",
            "2700/2700 [==============================] - 6s 2ms/step - loss: 0.4058 - accuracy: 0.8526 - val_loss: 0.4231 - val_accuracy: 0.8478\n",
            "Epoch 3/5\n",
            "2700/2700 [==============================] - 5s 2ms/step - loss: 0.3795 - accuracy: 0.8610 - val_loss: 0.4128 - val_accuracy: 0.8525\n",
            "Epoch 4/5\n",
            "2700/2700 [==============================] - 5s 2ms/step - loss: 0.3595 - accuracy: 0.8685 - val_loss: 0.4218 - val_accuracy: 0.8478\n",
            "Epoch 5/5\n",
            "2700/2700 [==============================] - 5s 2ms/step - loss: 0.3413 - accuracy: 0.8739 - val_loss: 0.4346 - val_accuracy: 0.8478\n",
            "675/675 [==============================] - 1s 1ms/step - loss: 0.4400 - accuracy: 0.8477\n",
            "Epoch 1/5\n",
            "3375/3375 [==============================] - 6s 2ms/step - loss: 0.4780 - accuracy: 0.8282 - val_loss: 0.4208 - val_accuracy: 0.8496\n",
            "Epoch 2/5\n",
            "3375/3375 [==============================] - 5s 2ms/step - loss: 0.3981 - accuracy: 0.8556 - val_loss: 0.4115 - val_accuracy: 0.8516\n",
            "Epoch 3/5\n",
            "3375/3375 [==============================] - 6s 2ms/step - loss: 0.3781 - accuracy: 0.8615 - val_loss: 0.4034 - val_accuracy: 0.8546\n",
            "Epoch 4/5\n",
            "3375/3375 [==============================] - 5s 2ms/step - loss: 0.3629 - accuracy: 0.8663 - val_loss: 0.3976 - val_accuracy: 0.8546\n",
            "Epoch 5/5\n",
            "3375/3375 [==============================] - 5s 2ms/step - loss: 0.3504 - accuracy: 0.8710 - val_loss: 0.3972 - val_accuracy: 0.8526\n"
          ]
        },
        {
          "data": {
            "text/plain": [
              "GridSearchCV(estimator=<keras.wrappers.scikit_learn.KerasRegressor object at 0x7f1d507aed90>,\n",
              "             param_grid={'learning_rate': [0.0001, 0.001, 0.01],\n",
              "                         'n_units': [8, 16, 24]})"
            ]
          },
          "execution_count": 38,
          "metadata": {},
          "output_type": "execute_result"
        }
      ],
      "source": [
        "\n",
        "grid_search.fit(X_train.numpy(), y_train.numpy(), epochs=5,#The number of epochs can be modified (check what happens by increasing it)\n",
        "                validation_data=(X_valid.numpy(), y_valid.numpy()))"
      ]
    },
    {
      "cell_type": "markdown",
      "metadata": {
        "id": "aadmkiOoyM94"
      },
      "source": [
        "Print the best hyper-parameters, and evealuate the best model on the test set."
      ]
    },
    {
      "cell_type": "code",
      "execution_count": 39,
      "metadata": {
        "colab": {
          "base_uri": "https://localhost:8080/"
        },
        "id": "b0nL5OZkylNX",
        "outputId": "79289ce7-143e-439f-e58c-e7542d219011"
      },
      "outputs": [
        {
          "name": "stdout",
          "output_type": "stream",
          "text": [
            "{'learning_rate': 0.001, 'n_units': 16}\n",
            "238/238 [==============================] - 0s 1ms/step - loss: 0.3998 - accuracy: 0.8551\n"
          ]
        },
        {
          "data": {
            "text/plain": [
              "[0.3998304307460785, 0.8551315665245056]"
            ]
          },
          "execution_count": 39,
          "metadata": {},
          "output_type": "execute_result"
        }
      ],
      "source": [
        "print(grid_search.best_params_)\n",
        "\n",
        "model = grid_search.best_estimator_.model\n",
        "model.evaluate(X_test, y_test)"
      ]
    }
  ],
  "metadata": {
    "colab": {
      "collapsed_sections": [],
      "name": "HW2.ipynb",
      "provenance": []
    },
    "kernelspec": {
      "display_name": "Python 3",
      "name": "python3"
    },
    "language_info": {
      "name": "python",
      "version": "3.8.8"
    }
  },
  "nbformat": 4,
  "nbformat_minor": 0
}
