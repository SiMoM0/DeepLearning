{
  "cells": [
    {
      "cell_type": "markdown",
      "metadata": {
        "id": "raUKrVPW0SO1"
      },
      "source": [
        "#**Deep Learning Homework 2: *Optimize and Train Deep Models***\n",
        "### MSc Computer Science, Data Science, Cybersecurity @UniPD\n",
        "### 2nd semester - 6 ECTS\n",
        "### Prof. Nicolò Navarin & Prof. Alessandro Sperduti\n",
        "---"
      ]
    },
    {
      "cell_type": "markdown",
      "metadata": {
        "id": "QUc9frYnVBI_"
      },
      "source": [
        "In this homework, we will explore how to develop a simple Deep Neural Network for a classification problem. We will explore two common libraries: TensorFlow and Keras.\n",
        "Then we will explore how to face a well known problem that is common to encounter during the training phase: the Overfitting.\n",
        "Finally, we will study how to perform a fair model selection.\n",
        "Hint: Before starting the exercise take a look at how Tensorflow and Keras are designed.  https://keras.io/"
      ]
    },
    {
      "cell_type": "markdown",
      "metadata": {
        "id": "e-Nc7mFSVEiU"
      },
      "source": [
        "##Exercise 2.1: Text Classficiation with Tensorflow and Keras\n",
        "\n",
        "In this first exercise we will develop a 3 layers Neural Network to perfrom classification.\n",
        "\n",
        "Let's start importing the libraries we will need and setting a couple of environmental variables.\n"
      ]
    },
    {
      "cell_type": "code",
      "execution_count": 3,
      "metadata": {
        "id": "bWn9FzneVqJo"
      },
      "outputs": [],
      "source": [
        "import matplotlib as mpl\n",
        "import matplotlib.pyplot as plt\n",
        "import numpy as np\n",
        "import os\n",
        "import pandas as pd\n",
        "import sklearn\n",
        "import sys\n",
        "import tensorflow as tf\n",
        "from tensorflow import keras  # tf.keras\n",
        "import tensorflow_datasets as tfds\n",
        "import time\n",
        "\n",
        "import logging\n",
        "logging.disable(logging.WARNING)\n",
        "os.environ[\"TF_CPP_MIN_LOG_LEVEL\"] = \"3\" \n",
        "\n",
        "tf.random.set_seed(42)\n",
        "# os.environ['TF_DETERMINISTIC_OPS']='1'"
      ]
    },
    {
      "cell_type": "markdown",
      "metadata": {
        "id": "LT2HMYDEXcx0"
      },
      "source": [
        "### Load Data: AG News Subset\n",
        "\n",
        "In this HW, we use the AG News Subset that is available in Tensorflow Dataset. The AG's news topic classification dataset is constructed by choosing the 4 largest topic classes from a larger news corups. The total number of training samples is 120,000 and testing 7,600. Each class contains 30,000 training samples and 1,900 testing samples. Each sample contains both the title and an excerpt of the article, but in this exercise we will use only the excerpt as input.\n",
        "\n",
        "We will split the training set into two 90%-10% splits in order to have a validation set."
      ]
    },
    {
      "cell_type": "code",
      "execution_count": 4,
      "metadata": {
        "colab": {
          "base_uri": "https://localhost:8080/",
          "height": 299,
          "referenced_widgets": [
            "04795229f632492f8cbf0a2d1becee3b",
            "1fbaf5cc76e74ba59200fed4306e81fb",
            "a402411e14b04363b3c0e6fa6d4ef4d0",
            "d8a9313d67fc4afc97a41d38ca4be7f1",
            "c955c7ab6d294487b0c061dcff6ab8ce",
            "acd5f702001f4f6b8685d22446bb725e",
            "9ba758d4319f40fa9ee877ffaba31ff7",
            "09add4f54e37411b9d7e5be54e385dc6",
            "dfdb959acda340ce851d35369548c6fd",
            "406d172ce3c741d1961c2ce31bee93e1",
            "567a27466d85457b9a1195fd78aec874",
            "9ad73e6094da4c81a96215a270659b64",
            "0028e2cb58524756a6a5ed611033601d",
            "784c675cdf9746f488e6fc8a7db0441b",
            "542bfdf46d694f9db1a5d79038fe1379",
            "fb66bbf6d35346e9bbc75b77f8c8a73e",
            "8b021d21f42041508ddde19db40509ef",
            "c731875c4a9c4fdf9d74402895f882c7",
            "50ca49c0ef394296a5bb42bdc7986d7a",
            "bfb6d44848ba43acb73fb6344300f8c7",
            "0ec50a9b43b741ab80e04c5b6db4ccba",
            "f7e485c83e3046888476c7af3c6c4deb",
            "602f4db5c7cb4654bdb81c29fa153c3f",
            "b6e2ac31cc7a4349b970ee9657d7b5e3",
            "3a811fda6f814ffdbb812ff52aae1f94",
            "3383cad306fc4b38b9d6ef0442be889a",
            "ddeb3188d620452a96378a243d508c7e",
            "19f271b783984b86ad249b19e21661ec",
            "4bb0b16fc92548e287599ccb224124a9",
            "e7b37fd6c6a44e629069ef70a983fea9",
            "f1e735f8a3ed42688097af2e5b35232d",
            "7cca7dd7742c4317b2ca7a4dd4913473",
            "b5e2dcb159dd4336b1ef6690d6a89fab",
            "52b667405d894c2b8c8e2b252f015a43",
            "9c6001d336ab4159bcc5e8d0b9d2b08e",
            "6d1f6ae6e2744f789a2287954bf718a2",
            "ef9769cf4c684cc497299bc7f7454ce9",
            "64e80c976da94a159e2db4a621f99bb7",
            "46ed9cb354334886bf8bc30706bd4e5c",
            "bae7550f90ac43f8a4425b975156ef99",
            "2ac2dcc8d8764b1e9c4ecf3f5be26de1",
            "550ed7e135e9468588ab4e0ac558cb1b",
            "2224751bc7c14e7782874b08a7dcb9a5",
            "55956ac110c64982ae5460f6014cab68",
            "b7193cad16c84193bbcbf26567cba9c4",
            "855c65e228684e78803ccdf4962b30fd",
            "6fb1b52061214279b172c849c96d4083",
            "af1bb8ef02964978af68513c50aff9ec",
            "4f76b04e38c4474c86ea000bc5ccd548",
            "5c95e59b95ee4733892eaec96d4ac862",
            "33a922d3903f45dfb64c07648c1ae02a",
            "f09cec286fec4970b07d72e1b33a0338",
            "f61d00b20c7c4923a6d7b22a3f34da9d",
            "e6d49556c4ff4845ae2653e9cd4137ce",
            "f8a89c9530ea4a9e9430d9275edccc95",
            "7feb9ce154a84f2fa9ca1f2e427a92cb",
            "1d53c07a03604f7b8e1a5a13d0fae4b8",
            "75b45115637042518ca5193705339bef",
            "27e6099115b549d5a36480918d740e2e",
            "c7541037409f4021b4d84ea712513a63",
            "c065bb3dca564e4898665d61dadfb4e7",
            "dc1b69073390473cb91871c431b7f2b0",
            "535e5ad0df6449c5b7f3adc479e84f1e",
            "93190797c7e044b7b94580d2f37fde10",
            "96429ca842d44fcb97604ce82a62f6ad",
            "920b54aad20a40c29025dcd28755db7e",
            "4ccc854f8a9f44e1b4bf71458b66ba15",
            "25a789e2082240e38841785a0ac9f08f",
            "771849a2505c4fdd8a986b72efd56d86",
            "90638b4f73564113903d1998b375e1a4",
            "bcb1bdd1b12846e3b2ae3a1d7c654787",
            "1be60c6751f4423bb8f90ac3052202f2",
            "1050b9195f494c799c869a56d87f8110",
            "d0636ae6a10144d7944ddb0917d0dd4f",
            "92472e5a396a445f993b167b302d8b5f",
            "23d622aa50004da3b1e2e236350cba2b",
            "30b7882053a245b1b5426255d1c19097"
          ]
        },
        "id": "d8xZASzs26zD",
        "outputId": "06117876-bbf3-4490-d643-efef93c61f57"
      },
      "outputs": [
        {
          "name": "stdout",
          "output_type": "stream",
          "text": [
            "\u001b[1mDownloading and preparing dataset ag_news_subset/1.0.0 (download: 11.24 MiB, generated: 35.79 MiB, total: 47.03 MiB) to /root/tensorflow_datasets/ag_news_subset/1.0.0...\u001b[0m\n"
          ]
        },
        {
          "data": {
            "application/vnd.jupyter.widget-view+json": {
              "model_id": "04795229f632492f8cbf0a2d1becee3b",
              "version_major": 2,
              "version_minor": 0
            },
            "text/plain": [
              "Dl Completed...: 0 url [00:00, ? url/s]"
            ]
          },
          "metadata": {},
          "output_type": "display_data"
        },
        {
          "data": {
            "application/vnd.jupyter.widget-view+json": {
              "model_id": "9ad73e6094da4c81a96215a270659b64",
              "version_major": 2,
              "version_minor": 0
            },
            "text/plain": [
              "Dl Size...: 0 MiB [00:00, ? MiB/s]"
            ]
          },
          "metadata": {},
          "output_type": "display_data"
        },
        {
          "data": {
            "application/vnd.jupyter.widget-view+json": {
              "model_id": "602f4db5c7cb4654bdb81c29fa153c3f",
              "version_major": 2,
              "version_minor": 0
            },
            "text/plain": [
              "Extraction completed...: 0 file [00:00, ? file/s]"
            ]
          },
          "metadata": {},
          "output_type": "display_data"
        },
        {
          "name": "stdout",
          "output_type": "stream",
          "text": [
            "\n",
            "\n",
            "\n"
          ]
        },
        {
          "data": {
            "application/vnd.jupyter.widget-view+json": {
              "model_id": "52b667405d894c2b8c8e2b252f015a43",
              "version_major": 2,
              "version_minor": 0
            },
            "text/plain": [
              "0 examples [00:00, ? examples/s]"
            ]
          },
          "metadata": {},
          "output_type": "display_data"
        },
        {
          "name": "stdout",
          "output_type": "stream",
          "text": [
            "Shuffling and writing examples to /root/tensorflow_datasets/ag_news_subset/1.0.0.incomplete4VTBYP/ag_news_subset-train.tfrecord\n"
          ]
        },
        {
          "data": {
            "application/vnd.jupyter.widget-view+json": {
              "model_id": "b7193cad16c84193bbcbf26567cba9c4",
              "version_major": 2,
              "version_minor": 0
            },
            "text/plain": [
              "  0%|          | 0/120000 [00:00<?, ? examples/s]"
            ]
          },
          "metadata": {},
          "output_type": "display_data"
        },
        {
          "data": {
            "application/vnd.jupyter.widget-view+json": {
              "model_id": "7feb9ce154a84f2fa9ca1f2e427a92cb",
              "version_major": 2,
              "version_minor": 0
            },
            "text/plain": [
              "0 examples [00:00, ? examples/s]"
            ]
          },
          "metadata": {},
          "output_type": "display_data"
        },
        {
          "name": "stdout",
          "output_type": "stream",
          "text": [
            "Shuffling and writing examples to /root/tensorflow_datasets/ag_news_subset/1.0.0.incomplete4VTBYP/ag_news_subset-test.tfrecord\n"
          ]
        },
        {
          "data": {
            "application/vnd.jupyter.widget-view+json": {
              "model_id": "4ccc854f8a9f44e1b4bf71458b66ba15",
              "version_major": 2,
              "version_minor": 0
            },
            "text/plain": [
              "  0%|          | 0/7600 [00:00<?, ? examples/s]"
            ]
          },
          "metadata": {},
          "output_type": "display_data"
        },
        {
          "name": "stdout",
          "output_type": "stream",
          "text": [
            "\u001b[1mDataset ag_news_subset downloaded and prepared to /root/tensorflow_datasets/ag_news_subset/1.0.0. Subsequent calls will reuse this data.\u001b[0m\n"
          ]
        }
      ],
      "source": [
        "### NOTE ### \n",
        "# running this cell might yield download-related errors.\n",
        "# just repeating the execution a couple of times should solve the error.\n",
        "\n",
        "train_ds, valid_ds, test_ds = tfds.load('ag_news_subset',\n",
        "                                        as_supervised=True, # return a set of (text, label) tuples \n",
        "                                        split=['train[:90%]', 'train[-10%:]', 'test'],\n",
        "                                        batch_size=-1)  \n",
        "                                        # ^ using batch_size=-1 returns Tensors instead of Dataset objects"
      ]
    },
    {
      "cell_type": "code",
      "execution_count": 5,
      "metadata": {
        "id": "BYkXCTv3NrvC"
      },
      "outputs": [],
      "source": [
        "# Tensors have two elements, data and labels; let's split them\n",
        "# so we can transform the data\n",
        "X_train, y_train = train_ds\n",
        "X_valid, y_valid = valid_ds\n",
        "X_test, y_test = test_ds"
      ]
    },
    {
      "cell_type": "markdown",
      "metadata": {
        "id": "8prUBtqq8JW7"
      },
      "source": [
        "The AG News Subset dataset consists in news articles, each one composed by a sequence of words. In order to encode each article in a single tensor with a fixed number of elements, we will use multi-hot encoding. For testing purposes, we will only consider the first 10,000  most common words. Multi-hot-encoding our lists means turning them into vectors of 0s and 1s. Concretely, this would mean for instance turning the sequence [3, 5] into a 10,000-dimensional vector that would be all-zeros except for indices 3 and 5, which would be ones. The obtained input representation indicates which words are present (at least one time) in the sentence."
      ]
    },
    {
      "cell_type": "code",
      "execution_count": 6,
      "metadata": {
        "id": "Brt087tDIDpe"
      },
      "outputs": [],
      "source": [
        "num_words = 1000\n",
        "vectorize_layer = tf.keras.layers.TextVectorization(\n",
        " max_tokens=num_words,\n",
        " standardize=\"lower_and_strip_punctuation\",\n",
        " split=\"whitespace\",\n",
        " output_mode='multi_hot',\n",
        " pad_to_max_tokens=True)\n",
        "\n",
        "vectorize_layer.adapt(X_train)"
      ]
    },
    {
      "cell_type": "code",
      "execution_count": 7,
      "metadata": {
        "id": "seuFLH2lNiDT"
      },
      "outputs": [],
      "source": [
        "X_train = vectorize_layer(X_train)\n",
        "X_valid = vectorize_layer(X_valid)\n",
        "X_test  = vectorize_layer(X_test)"
      ]
    },
    {
      "cell_type": "markdown",
      "metadata": {
        "id": "jGUg8TexZMNf"
      },
      "source": [
        "### Define the model:\n",
        "\n",
        "Let's build a Sequential model (`keras.models.Sequential`) and add four layers to it by calling its `add()` method:\n",
        "\n",
        "\n",
        "*   a input layer (`tf.keras.Input`) that is the first layer in your model. With this layer you should specify the `input_shape` argument, leaving out the batch size: `(num_words,)`;\n",
        "*  a Dense layer (`keras.layers.Dense`) with 16 neurons, and the \"relu\" activation function;\n",
        "* another Dense layer with 16 neurons, also with the \"relu\" activation function;\n",
        "* a final Dense layer with 4 output neurons, and with the \"softmax\" activation (since we considering a classification task with four classes)."
      ]
    },
    {
      "cell_type": "code",
      "execution_count": 8,
      "metadata": {
        "id": "OaoEISyaZL56"
      },
      "outputs": [],
      "source": [
        "model = keras.models.Sequential()\n",
        "model.add(tf.keras.Input(shape=(num_words,)))\n",
        "model.add(keras.layers.Dense(16, activation=\"relu\"))\n",
        "model.add(keras.layers.Dense(16, activation=\"relu\"))\n",
        "model.add(keras.layers.Dense(4, activation=\"softmax\"))"
      ]
    },
    {
      "cell_type": "markdown",
      "metadata": {
        "id": "fYfxUOQVZljh"
      },
      "source": [
        "Call the model's `summary()` method to check if the model has been built correctly. Also, try using `keras.utils.plot_model()` to save an image of your model's architecture."
      ]
    },
    {
      "cell_type": "code",
      "execution_count": 9,
      "metadata": {
        "colab": {
          "base_uri": "https://localhost:8080/"
        },
        "id": "IpGkQl5dZoWq",
        "outputId": "df241ab3-a0c5-4dc4-a1c2-cc4d3964e43e"
      },
      "outputs": [
        {
          "name": "stdout",
          "output_type": "stream",
          "text": [
            "Model: \"sequential\"\n",
            "_________________________________________________________________\n",
            " Layer (type)                Output Shape              Param #   \n",
            "=================================================================\n",
            " dense (Dense)               (None, 16)                16016     \n",
            "                                                                 \n",
            " dense_1 (Dense)             (None, 16)                272       \n",
            "                                                                 \n",
            " dense_2 (Dense)             (None, 4)                 68        \n",
            "                                                                 \n",
            "=================================================================\n",
            "Total params: 16,356\n",
            "Trainable params: 16,356\n",
            "Non-trainable params: 0\n",
            "_________________________________________________________________\n"
          ]
        }
      ],
      "source": [
        "model.summary()"
      ]
    },
    {
      "cell_type": "code",
      "execution_count": 10,
      "metadata": {
        "colab": {
          "base_uri": "https://localhost:8080/",
          "height": 422
        },
        "id": "b1NbkrXRZwOA",
        "outputId": "9837f1ec-6906-49bb-c2d4-f2be541f6289"
      },
      "outputs": [
        {
          "data": {
            "image/png": "[encoded data removed]",
            "text/plain": [
              "<IPython.core.display.Image object>"
            ]
          },
          "execution_count": 10,
          "metadata": {},
          "output_type": "execute_result"
        }
      ],
      "source": [
        "keras.utils.plot_model(model, \"my_model.png\", show_shapes=True)"
      ]
    },
    {
      "cell_type": "markdown",
      "metadata": {
        "id": "Mc3xzuA-33WH"
      },
      "source": [
        "As you can see, the first dimension of each layer is not defined (`None`), indeed this dimension in each layer is variable and depends on the batch size."
      ]
    },
    {
      "cell_type": "markdown",
      "metadata": {
        "id": "6FAjFixuHSA_"
      },
      "source": [
        "Instaed of using `add()` method it is also possibile to define the model using the following syntax"
      ]
    },
    {
      "cell_type": "code",
      "execution_count": 11,
      "metadata": {
        "colab": {
          "base_uri": "https://localhost:8080/",
          "height": 683
        },
        "id": "yOhr57M9GPHy",
        "outputId": "632ededc-7366-4a7b-ed58-cb71ed71e9b7"
      },
      "outputs": [
        {
          "name": "stdout",
          "output_type": "stream",
          "text": [
            "Model: \"sequential_1\"\n",
            "_________________________________________________________________\n",
            " Layer (type)                Output Shape              Param #   \n",
            "=================================================================\n",
            " dense_3 (Dense)             (None, 16)                16016     \n",
            "                                                                 \n",
            " dense_4 (Dense)             (None, 16)                272       \n",
            "                                                                 \n",
            " dense_5 (Dense)             (None, 4)                 68        \n",
            "                                                                 \n",
            "=================================================================\n",
            "Total params: 16,356\n",
            "Trainable params: 16,356\n",
            "Non-trainable params: 0\n",
            "_________________________________________________________________\n"
          ]
        },
        {
          "data": {
            "image/png": "[encoded data removed]",
            "text/plain": [
              "<IPython.core.display.Image object>"
            ]
          },
          "execution_count": 11,
          "metadata": {},
          "output_type": "execute_result"
        }
      ],
      "source": [
        "model = keras.models.Sequential([\n",
        "    tf.keras.Input(shape=(num_words,)),\n",
        "    keras.layers.Dense(16, activation=\"relu\"),\n",
        "    keras.layers.Dense(16, activation=\"relu\"),\n",
        "    keras.layers.Dense(4, activation=\"softmax\")\n",
        "])\n",
        "model.summary()\n",
        "keras.utils.plot_model(model, \"my_model.png\", show_shapes=True)"
      ]
    },
    {
      "cell_type": "markdown",
      "metadata": {
        "id": "2ySdJmzxaSuz"
      },
      "source": [
        "### Optimize the model:\n",
        "\n",
        "After the model has been created, you must call its `compile()` method to specify the loss function and the optimizer to use.\n",
        "\n",
        "Since the model performs a classification task, and we have labels encoded as integers, we use the sparse categorical cross-entropy loss. As optimizer we use Adam.\n",
        "\n",
        "Moreover, you can optionally specify a list of additional metrics that should be measured during training. In this case we specify `metrics=[\"accuracy\"]`."
      ]
    },
    {
      "cell_type": "code",
      "execution_count": 12,
      "metadata": {
        "id": "x3bbsY3uaeh5"
      },
      "outputs": [],
      "source": [
        "model.compile(loss=\"sparse_categorical_crossentropy\",\n",
        "              optimizer=keras.optimizers.Adam(learning_rate=1e-4),\n",
        "              metrics=[\"accuracy\"])"
      ]
    },
    {
      "cell_type": "markdown",
      "metadata": {
        "id": "NB9SV0MpaeTg"
      },
      "source": [
        "Now our model is ready to be trained. Call its `fit()` method, passing to it the input features (`X_train`) and the target classes (`y_train`). Set the number of epochs to 20. \n",
        "In order to validate our model we will also pass the validation data by setting `validation_data=(X_valid, y_valid)`. Keras will compute the loss and the additional metrics (the accuracy in this case) on the validation set at the end of each epoch. If the loss on the training set is much lower than the one on the validation set, your model is probably overfitting the training set. Note: the `fit()` method will return a `History` object containing training stats."
      ]
    },
    {
      "cell_type": "code",
      "execution_count": 13,
      "metadata": {
        "colab": {
          "base_uri": "https://localhost:8080/"
        },
        "id": "5whx-LU3aoKn",
        "outputId": "36d0eae5-8df2-469b-b367-7f367295ea08"
      },
      "outputs": [
        {
          "name": "stdout",
          "output_type": "stream",
          "text": [
            "Epoch 1/20\n",
            "3375/3375 [==============================] - 8s 2ms/step - loss: 0.8503 - accuracy: 0.6761 - val_loss: 0.5107 - val_accuracy: 0.8314\n",
            "Epoch 2/20\n",
            "3375/3375 [==============================] - 7s 2ms/step - loss: 0.4583 - accuracy: 0.8449 - val_loss: 0.4452 - val_accuracy: 0.8475\n",
            "Epoch 3/20\n",
            "3375/3375 [==============================] - 7s 2ms/step - loss: 0.4222 - accuracy: 0.8546 - val_loss: 0.4318 - val_accuracy: 0.8507\n",
            "Epoch 4/20\n",
            "3375/3375 [==============================] - 7s 2ms/step - loss: 0.4089 - accuracy: 0.8573 - val_loss: 0.4241 - val_accuracy: 0.8509\n",
            "Epoch 5/20\n",
            "3375/3375 [==============================] - 7s 2ms/step - loss: 0.4012 - accuracy: 0.8590 - val_loss: 0.4210 - val_accuracy: 0.8525\n",
            "Epoch 6/20\n",
            "3375/3375 [==============================] - 7s 2ms/step - loss: 0.3959 - accuracy: 0.8601 - val_loss: 0.4175 - val_accuracy: 0.8531\n",
            "Epoch 7/20\n",
            "3375/3375 [==============================] - 7s 2ms/step - loss: 0.3917 - accuracy: 0.8615 - val_loss: 0.4149 - val_accuracy: 0.8535\n",
            "Epoch 8/20\n",
            "3375/3375 [==============================] - 8s 2ms/step - loss: 0.3882 - accuracy: 0.8617 - val_loss: 0.4132 - val_accuracy: 0.8550\n",
            "Epoch 9/20\n",
            "3375/3375 [==============================] - 8s 2ms/step - loss: 0.3851 - accuracy: 0.8627 - val_loss: 0.4109 - val_accuracy: 0.8540\n",
            "Epoch 10/20\n",
            "3375/3375 [==============================] - 8s 2ms/step - loss: 0.3825 - accuracy: 0.8629 - val_loss: 0.4096 - val_accuracy: 0.8534\n",
            "Epoch 11/20\n",
            "3375/3375 [==============================] - 8s 2ms/step - loss: 0.3799 - accuracy: 0.8637 - val_loss: 0.4081 - val_accuracy: 0.8539\n",
            "Epoch 12/20\n",
            "3375/3375 [==============================] - 8s 2ms/step - loss: 0.3775 - accuracy: 0.8638 - val_loss: 0.4064 - val_accuracy: 0.8543\n",
            "Epoch 13/20\n",
            "3375/3375 [==============================] - 7s 2ms/step - loss: 0.3753 - accuracy: 0.8645 - val_loss: 0.4051 - val_accuracy: 0.8538\n",
            "Epoch 14/20\n",
            "3375/3375 [==============================] - 8s 2ms/step - loss: 0.3731 - accuracy: 0.8649 - val_loss: 0.4053 - val_accuracy: 0.8543\n",
            "Epoch 15/20\n",
            "3375/3375 [==============================] - 8s 2ms/step - loss: 0.3709 - accuracy: 0.8660 - val_loss: 0.4035 - val_accuracy: 0.8553\n",
            "Epoch 16/20\n",
            "3375/3375 [==============================] - 7s 2ms/step - loss: 0.3689 - accuracy: 0.8661 - val_loss: 0.4027 - val_accuracy: 0.8553\n",
            "Epoch 17/20\n",
            "3375/3375 [==============================] - 7s 2ms/step - loss: 0.3669 - accuracy: 0.8668 - val_loss: 0.4011 - val_accuracy: 0.8565\n",
            "Epoch 18/20\n",
            "3375/3375 [==============================] - 7s 2ms/step - loss: 0.3649 - accuracy: 0.8672 - val_loss: 0.4003 - val_accuracy: 0.8554\n",
            "Epoch 19/20\n",
            "3375/3375 [==============================] - 7s 2ms/step - loss: 0.3630 - accuracy: 0.8679 - val_loss: 0.3992 - val_accuracy: 0.8559\n",
            "Epoch 20/20\n",
            "3375/3375 [==============================] - 7s 2ms/step - loss: 0.3612 - accuracy: 0.8684 - val_loss: 0.3993 - val_accuracy: 0.8564\n"
          ]
        }
      ],
      "source": [
        "history = model.fit(X_train, y_train, epochs=20,\n",
        "                    validation_data=(X_valid, y_valid))"
      ]
    },
    {
      "cell_type": "markdown",
      "metadata": {
        "id": "EPxiw8iCADr-"
      },
      "source": [
        "Let's plot the loss and the accuracy trends on both training and validation sets. We define the `plot_learning_acc_and_loss` function because we will reuse it in the next steps."
      ]
    },
    {
      "cell_type": "code",
      "execution_count": 14,
      "metadata": {
        "colab": {
          "base_uri": "https://localhost:8080/",
          "height": 320
        },
        "id": "AJg-F7mUa7st",
        "outputId": "d62b65d7-713f-407b-e65d-9e7fb9cfa05e"
      },
      "outputs": [
        {
          "data": {
            "image/png": "[encoded data removed]",
            "text/plain": [
              "<Figure size 576x360 with 1 Axes>"
            ]
          },
          "metadata": {
            "needs_background": "light"
          },
          "output_type": "display_data"
        }
      ],
      "source": [
        "def plot_learning_acc_and_loss(history):\n",
        "    pd.DataFrame(history.history).plot(figsize=(8, 5))\n",
        "    plt.grid(True)\n",
        "    plt.show()\n",
        "plot_learning_acc_and_loss(history)"
      ]
    },
    {
      "cell_type": "markdown",
      "metadata": {
        "id": "9O3-sLmxansJ"
      },
      "source": [
        "### [TO COMPLETE] Evaluate the model:\n",
        "\n",
        "Now, our model has been optimized on the training set, and as you can see the performance on the validation set in quite similar (so it does not overfit the training data). Let's now evaluate the performance of our model using the test set."
      ]
    },
    {
      "cell_type": "code",
      "execution_count": 15,
      "metadata": {
        "colab": {
          "base_uri": "https://localhost:8080/"
        },
        "id": "q-ZvJEcObdyB",
        "outputId": "b53555b1-626e-49ea-8b12-4f6a6d776c97"
      },
      "outputs": [
        {
          "name": "stdout",
          "output_type": "stream",
          "text": [
            "238/238 [==============================] - 1s 2ms/step - loss: 0.4093 - accuracy: 0.8521\n"
          ]
        },
        {
          "data": {
            "text/plain": [
              "[0.40926671028137207, 0.8521052598953247]"
            ]
          },
          "execution_count": 15,
          "metadata": {},
          "output_type": "execute_result"
        }
      ],
      "source": [
        "model.evaluate(X_test, y_test)"
      ]
    },
    {
      "cell_type": "markdown",
      "metadata": {
        "id": "KTSxlnwrII-n"
      },
      "source": [
        "[TO COMPLETE] Explain why it is important to use test and validation, and why it is important to evaluate the model on the test set instead of the validation set. Finally, explain what is the usefulness of the validation set. Insert the discussion in this cell.\n",
        "\n",
        "### Answer\n",
        "\n",
        "When we apply machine learning techniques, we have to choose a model suitable for the data used and we must set some parameters called **hyperparameters** in order to get the best possible results. These choices usually depends on the data we are dealing with and it can be hard to find them.\n",
        "\n",
        "The **Validation** set can be used to solve this problem, in fact it is useful in order to select what can be the 'best' model for the current task and to tune it with the correct hyperparameters. While training the model, we evaluate it on the Validation set, composed of new samples, not used during the fit operations, to keep track of the loss and the accuracy at each epoch, looking at the trend of both values.\n",
        "\n",
        "The **Test** set, instead, contains new fresh data, not seen yet in the training and validation tasks, used to generalize the accuracy and loss of the model. Indeed, we must look at the performances on the Test set\n",
        "only at the end of the training, since it is used to have a more reliable accurancy of the model on previously unseen data and to obtain an estimation of the **generalization error**.\n",
        "\n",
        "Since the Validation set in usually smaller than the Test one, it is not sure it will produce great or correct result in general. Moreover, the Validation set is used at each iterations to determine the trend of both loss and accurracy, while the Test set will be involved only at the end of the training. Indeed, the Test set is used to obtained the 'real' or 'more correct' values of error and accuracy, on which we establish the reliability of the model and correctness of the algorithm."
      ]
    },
    {
      "cell_type": "markdown",
      "metadata": {
        "id": "aeGlzKe864Gq"
      },
      "source": [
        "## [TO COMPLETE] Exercise 2.2: Overfiting\n",
        "\n",
        "A common problem that occurs when you train a deep neural network is overfittig. Overfitting occurs when you achieve a good fit of your model on the training data, while it does not generalize well on new, unseen data. In other words, the model learned patterns specific to the training data, which are irrelevant in other data.\n",
        "As we have seen in the previous exercise, our model does not overfit the training data. In this exercise, we try to modify the training parameters in order to have a model that overfits.\n",
        "Overfitting can have many causes and usually is a combination of some of them, for instance: too many parameters/ layers, too few training samples, wrong learning rate (usualy too high), etc..\n",
        "\n",
        "[TO COMPLETE] In the next cell define a new model (similar to the previuos one) that overfits the training data; then plot the trend of the loss in training and validation set."
      ]
    },
    {
      "cell_type": "code",
      "execution_count": 16,
      "metadata": {
        "colab": {
          "base_uri": "https://localhost:8080/"
        },
        "id": "T2B2DFEC8f88",
        "outputId": "4e4ba286-ea5b-4642-aa28-1bc62bd2cb04"
      },
      "outputs": [
        {
          "name": "stdout",
          "output_type": "stream",
          "text": [
            "Epoch 1/30\n",
            "3375/3375 [==============================] - 9s 3ms/step - loss: 0.4643 - accuracy: 0.8322 - val_loss: 0.4284 - val_accuracy: 0.8466\n",
            "Epoch 2/30\n",
            "3375/3375 [==============================] - 8s 2ms/step - loss: 0.3969 - accuracy: 0.8567 - val_loss: 0.4265 - val_accuracy: 0.8494\n",
            "Epoch 3/30\n",
            "3375/3375 [==============================] - 8s 2ms/step - loss: 0.3566 - accuracy: 0.8721 - val_loss: 0.4136 - val_accuracy: 0.8544\n",
            "Epoch 4/30\n",
            "3375/3375 [==============================] - 8s 2ms/step - loss: 0.3191 - accuracy: 0.8850 - val_loss: 0.4500 - val_accuracy: 0.8494\n",
            "Epoch 5/30\n",
            "3375/3375 [==============================] - 8s 2ms/step - loss: 0.2917 - accuracy: 0.8959 - val_loss: 0.4479 - val_accuracy: 0.8509\n",
            "Epoch 6/30\n",
            "3375/3375 [==============================] - 8s 2ms/step - loss: 0.2685 - accuracy: 0.9041 - val_loss: 0.4711 - val_accuracy: 0.8487\n",
            "Epoch 7/30\n",
            "3375/3375 [==============================] - 8s 2ms/step - loss: 0.2466 - accuracy: 0.9118 - val_loss: 0.5047 - val_accuracy: 0.8445\n",
            "Epoch 8/30\n",
            "3375/3375 [==============================] - 8s 2ms/step - loss: 0.2290 - accuracy: 0.9178 - val_loss: 0.5273 - val_accuracy: 0.8407\n",
            "Epoch 9/30\n",
            "3375/3375 [==============================] - 8s 2ms/step - loss: 0.2151 - accuracy: 0.9232 - val_loss: 0.5562 - val_accuracy: 0.8411\n",
            "Epoch 10/30\n",
            "3375/3375 [==============================] - 8s 2ms/step - loss: 0.2034 - accuracy: 0.9269 - val_loss: 0.6085 - val_accuracy: 0.8378\n",
            "Epoch 11/30\n",
            "3375/3375 [==============================] - 8s 2ms/step - loss: 0.1913 - accuracy: 0.9318 - val_loss: 0.6470 - val_accuracy: 0.8394\n",
            "Epoch 12/30\n",
            "3375/3375 [==============================] - 8s 3ms/step - loss: 0.1829 - accuracy: 0.9359 - val_loss: 0.6573 - val_accuracy: 0.8355\n",
            "Epoch 13/30\n",
            "3375/3375 [==============================] - 8s 3ms/step - loss: 0.1749 - accuracy: 0.9377 - val_loss: 0.7669 - val_accuracy: 0.8376\n",
            "Epoch 14/30\n",
            "3375/3375 [==============================] - 8s 2ms/step - loss: 0.1649 - accuracy: 0.9417 - val_loss: 0.7394 - val_accuracy: 0.8332\n",
            "Epoch 15/30\n",
            "3375/3375 [==============================] - 8s 2ms/step - loss: 0.1585 - accuracy: 0.9440 - val_loss: 0.8015 - val_accuracy: 0.8323\n",
            "Epoch 16/30\n",
            "3375/3375 [==============================] - 8s 2ms/step - loss: 0.1546 - accuracy: 0.9455 - val_loss: 0.8034 - val_accuracy: 0.8307\n",
            "Epoch 17/30\n",
            "3375/3375 [==============================] - 8s 2ms/step - loss: 0.1488 - accuracy: 0.9465 - val_loss: 0.8175 - val_accuracy: 0.8317\n",
            "Epoch 18/30\n",
            "3375/3375 [==============================] - 9s 3ms/step - loss: 0.1435 - accuracy: 0.9495 - val_loss: 0.8878 - val_accuracy: 0.8311\n",
            "Epoch 19/30\n",
            "3375/3375 [==============================] - 8s 2ms/step - loss: 0.1392 - accuracy: 0.9507 - val_loss: 0.9635 - val_accuracy: 0.8246\n",
            "Epoch 20/30\n",
            "3375/3375 [==============================] - 9s 3ms/step - loss: 0.1327 - accuracy: 0.9529 - val_loss: 0.9488 - val_accuracy: 0.8238\n",
            "Epoch 21/30\n",
            "3375/3375 [==============================] - 9s 3ms/step - loss: 0.1319 - accuracy: 0.9531 - val_loss: 0.9469 - val_accuracy: 0.8263\n",
            "Epoch 22/30\n",
            "3375/3375 [==============================] - 9s 3ms/step - loss: 0.1257 - accuracy: 0.9550 - val_loss: 1.1045 - val_accuracy: 0.8213\n",
            "Epoch 23/30\n",
            "3375/3375 [==============================] - 8s 2ms/step - loss: 0.1230 - accuracy: 0.9570 - val_loss: 1.1683 - val_accuracy: 0.8221\n",
            "Epoch 24/30\n",
            "3375/3375 [==============================] - 9s 3ms/step - loss: 0.1210 - accuracy: 0.9570 - val_loss: 1.1889 - val_accuracy: 0.8227\n",
            "Epoch 25/30\n",
            "3375/3375 [==============================] - 9s 3ms/step - loss: 0.1172 - accuracy: 0.9579 - val_loss: 1.1883 - val_accuracy: 0.8202\n",
            "Epoch 26/30\n",
            "3375/3375 [==============================] - 8s 2ms/step - loss: 0.1170 - accuracy: 0.9585 - val_loss: 1.2501 - val_accuracy: 0.8260\n",
            "Epoch 27/30\n",
            "3375/3375 [==============================] - 9s 3ms/step - loss: 0.1124 - accuracy: 0.9603 - val_loss: 1.2704 - val_accuracy: 0.8218\n",
            "Epoch 28/30\n",
            "3375/3375 [==============================] - 9s 3ms/step - loss: 0.1106 - accuracy: 0.9606 - val_loss: 1.3180 - val_accuracy: 0.8274\n",
            "Epoch 29/30\n",
            "3375/3375 [==============================] - 9s 3ms/step - loss: 0.1099 - accuracy: 0.9618 - val_loss: 1.2738 - val_accuracy: 0.8223\n",
            "Epoch 30/30\n",
            "3375/3375 [==============================] - 9s 3ms/step - loss: 0.1073 - accuracy: 0.9624 - val_loss: 1.4481 - val_accuracy: 0.8208\n",
            "Model Evaluation\n",
            "238/238 [==============================] - 1s 2ms/step - loss: 1.5125 - accuracy: 0.8209\n"
          ]
        },
        {
          "data": {
            "text/plain": [
              "[1.51247239112854, 0.8209210634231567]"
            ]
          },
          "execution_count": 16,
          "metadata": {},
          "output_type": "execute_result"
        }
      ],
      "source": [
        "model = keras.models.Sequential()\n",
        "#[TO COMPLETE] modify the previuos model in order to obtain a new model that overfits the training data\n",
        "model.add(tf.keras.Input(shape=(num_words,)))\n",
        "model.add(keras.layers.Dense(64, activation='relu'))\n",
        "model.add(keras.layers.Dense(32, activation='relu'))\n",
        "model.add(keras.layers.Dense(4, activation='softmax'))\n",
        "\n",
        "#[TO COMPLETE] learning rate\n",
        "model.compile(loss=\"sparse_categorical_crossentropy\",\n",
        "              optimizer=keras.optimizers.Adam(learning_rate=1e-2),\n",
        "              metrics=[\"accuracy\"])\n",
        "\n",
        "#[TO COMPLETE] epochs\n",
        "history = model.fit(X_train, y_train, epochs=30,\n",
        "                    validation_data=(X_valid, y_valid))\n",
        "\n",
        "print(\"Model Evaluation\")\n",
        "model.evaluate(X_test, y_test)"
      ]
    },
    {
      "cell_type": "markdown",
      "metadata": {
        "id": "MS0fujEqh_m3"
      },
      "source": [
        "Define the `plot_learning_curves` function that plots only the losses (not the accuracy)."
      ]
    },
    {
      "cell_type": "code",
      "execution_count": 17,
      "metadata": {
        "colab": {
          "base_uri": "https://localhost:8080/",
          "height": 336
        },
        "id": "q5EsklC0DZYH",
        "outputId": "0604eda9-6423-41ba-daa8-052bc9a22a22"
      },
      "outputs": [
        {
          "data": {
            "image/png": "[encoded data removed]",
            "text/plain": [
              "<Figure size 576x360 with 1 Axes>"
            ]
          },
          "metadata": {
            "needs_background": "light"
          },
          "output_type": "display_data"
        }
      ],
      "source": [
        "def plot_learning_curves(history):\n",
        "    plt.figure(figsize=(8, 5))\n",
        "    plt.plot(history.epoch,history.history['loss'], label='train loss')\n",
        "    plt.plot(history.epoch,history.history['val_loss'], label='valid loss')\n",
        "    plt.legend()\n",
        "    plt.title('loss')\n",
        "    plt.grid(True)\n",
        "    plt.show()\n",
        "plot_learning_curves(history)"
      ]
    },
    {
      "cell_type": "markdown",
      "metadata": {
        "id": "OW4Kf4fgDfOs"
      },
      "source": [
        "### [TO COMPLETE] L1 norm\n",
        "\n",
        "One possible way to solve the overitting issue is by using regularization methods. The two most common regularization methods in Deep Learning are the L1-norm regularization and the L2-norm regularization. Both These techniques are based on limiting the capacity of models, by adding a parameter norm penalty to the objective function $\\mathcal{J}$:\n",
        "$$\n",
        "\\hat{\\mathcal{J}}(\\theta,\\mathbf{X},\\mathbf{y}) = \\mathcal{J}(\\theta,\\mathbf{X},\\mathbf{y}) + \\alpha \\Omega(\\theta)\n",
        "$$\n",
        "where $\\alpha$ is a hyperparameter that weighs the relative contribution of the norm penalty $\\Omega$.\n",
        "Lets start by considering the L1-norm regularization where the regularization term is defined as:\n",
        "$$\n",
        " \\Omega(\\theta)=||\\mathbf{W}||_1=\\sum_i |\\mathbf{w}|\n",
        "$$\n",
        "Let's find the values for the $\\alpha$ parameters that allow to remove the overfitting effect."
      ]
    },
    {
      "cell_type": "code",
      "execution_count": 18,
      "metadata": {
        "colab": {
          "base_uri": "https://localhost:8080/",
          "height": 1000
        },
        "id": "QzD8520dDgw3",
        "outputId": "75e3dc03-7434-4983-840d-6f0d42b39342"
      },
      "outputs": [
        {
          "name": "stdout",
          "output_type": "stream",
          "text": [
            "Epoch 1/30\n",
            "3375/3375 [==============================] - 11s 3ms/step - loss: 0.9768 - accuracy: 0.7980 - val_loss: 0.9160 - val_accuracy: 0.8004\n",
            "Epoch 2/30\n",
            "3375/3375 [==============================] - 10s 3ms/step - loss: 0.8942 - accuracy: 0.8104 - val_loss: 0.9020 - val_accuracy: 0.8048\n",
            "Epoch 3/30\n",
            "3375/3375 [==============================] - 10s 3ms/step - loss: 0.8886 - accuracy: 0.8111 - val_loss: 0.8815 - val_accuracy: 0.8101\n",
            "Epoch 4/30\n",
            "3375/3375 [==============================] - 10s 3ms/step - loss: 0.8875 - accuracy: 0.8118 - val_loss: 0.8925 - val_accuracy: 0.8114\n",
            "Epoch 5/30\n",
            "3375/3375 [==============================] - 10s 3ms/step - loss: 0.8874 - accuracy: 0.8105 - val_loss: 0.9046 - val_accuracy: 0.7995\n",
            "Epoch 6/30\n",
            "3375/3375 [==============================] - 10s 3ms/step - loss: 0.8868 - accuracy: 0.8107 - val_loss: 0.8820 - val_accuracy: 0.8137\n",
            "Epoch 7/30\n",
            "3375/3375 [==============================] - 9s 3ms/step - loss: 0.8856 - accuracy: 0.8130 - val_loss: 0.8822 - val_accuracy: 0.8127\n",
            "Epoch 8/30\n",
            "3375/3375 [==============================] - 10s 3ms/step - loss: 0.8859 - accuracy: 0.8102 - val_loss: 0.8809 - val_accuracy: 0.8179\n",
            "Epoch 9/30\n",
            "3375/3375 [==============================] - 10s 3ms/step - loss: 0.8855 - accuracy: 0.8108 - val_loss: 0.8872 - val_accuracy: 0.8162\n",
            "Epoch 10/30\n",
            "3375/3375 [==============================] - 10s 3ms/step - loss: 0.8884 - accuracy: 0.8114 - val_loss: 0.9109 - val_accuracy: 0.8025\n",
            "Epoch 11/30\n",
            "3375/3375 [==============================] - 10s 3ms/step - loss: 0.8860 - accuracy: 0.8124 - val_loss: 0.8771 - val_accuracy: 0.8122\n",
            "Epoch 12/30\n",
            "3375/3375 [==============================] - 10s 3ms/step - loss: 0.8861 - accuracy: 0.8117 - val_loss: 0.8875 - val_accuracy: 0.8148\n",
            "Epoch 13/30\n",
            "3375/3375 [==============================] - 10s 3ms/step - loss: 0.8881 - accuracy: 0.8112 - val_loss: 0.8724 - val_accuracy: 0.8163\n",
            "Epoch 14/30\n",
            "3375/3375 [==============================] - 10s 3ms/step - loss: 0.8858 - accuracy: 0.8108 - val_loss: 0.9005 - val_accuracy: 0.8087\n",
            "Epoch 15/30\n",
            "3375/3375 [==============================] - 10s 3ms/step - loss: 0.8875 - accuracy: 0.8099 - val_loss: 0.8835 - val_accuracy: 0.8133\n",
            "Epoch 16/30\n",
            "3375/3375 [==============================] - 11s 3ms/step - loss: 0.8865 - accuracy: 0.8105 - val_loss: 0.8794 - val_accuracy: 0.8139\n",
            "Epoch 17/30\n",
            "3375/3375 [==============================] - 11s 3ms/step - loss: 0.8851 - accuracy: 0.8113 - val_loss: 0.9325 - val_accuracy: 0.8001\n",
            "Epoch 18/30\n",
            "3375/3375 [==============================] - 10s 3ms/step - loss: 0.8860 - accuracy: 0.8109 - val_loss: 0.8875 - val_accuracy: 0.8138\n",
            "Epoch 19/30\n",
            "3375/3375 [==============================] - 10s 3ms/step - loss: 0.8872 - accuracy: 0.8102 - val_loss: 0.8820 - val_accuracy: 0.8135\n",
            "Epoch 20/30\n",
            "3375/3375 [==============================] - 10s 3ms/step - loss: 0.8870 - accuracy: 0.8108 - val_loss: 0.9040 - val_accuracy: 0.8087\n",
            "Epoch 21/30\n",
            "3375/3375 [==============================] - 10s 3ms/step - loss: 0.8870 - accuracy: 0.8097 - val_loss: 0.8942 - val_accuracy: 0.8063\n",
            "Epoch 22/30\n",
            "3375/3375 [==============================] - 10s 3ms/step - loss: 0.8874 - accuracy: 0.8105 - val_loss: 0.8763 - val_accuracy: 0.8141\n",
            "Epoch 23/30\n",
            "3375/3375 [==============================] - 10s 3ms/step - loss: 0.8842 - accuracy: 0.8117 - val_loss: 0.8685 - val_accuracy: 0.8160\n",
            "Epoch 24/30\n",
            "3375/3375 [==============================] - 10s 3ms/step - loss: 0.8840 - accuracy: 0.8118 - val_loss: 0.9000 - val_accuracy: 0.8065\n",
            "Epoch 25/30\n",
            "3375/3375 [==============================] - 10s 3ms/step - loss: 0.8850 - accuracy: 0.8120 - val_loss: 0.8757 - val_accuracy: 0.8127\n",
            "Epoch 26/30\n",
            "3375/3375 [==============================] - 10s 3ms/step - loss: 0.8844 - accuracy: 0.8119 - val_loss: 0.8992 - val_accuracy: 0.8038\n",
            "Epoch 27/30\n",
            "3375/3375 [==============================] - 10s 3ms/step - loss: 0.8851 - accuracy: 0.8102 - val_loss: 0.9155 - val_accuracy: 0.8052\n",
            "Epoch 28/30\n",
            "3375/3375 [==============================] - 10s 3ms/step - loss: 0.8861 - accuracy: 0.8094 - val_loss: 0.8811 - val_accuracy: 0.8123\n",
            "Epoch 29/30\n",
            "3375/3375 [==============================] - 11s 3ms/step - loss: 0.8861 - accuracy: 0.8098 - val_loss: 0.8911 - val_accuracy: 0.8148\n",
            "Epoch 30/30\n",
            "3375/3375 [==============================] - 10s 3ms/step - loss: 0.8836 - accuracy: 0.8096 - val_loss: 0.8899 - val_accuracy: 0.8104\n",
            "Model Evaluation\n",
            "238/238 [==============================] - 1s 2ms/step - loss: 0.8974 - accuracy: 0.8117\n"
          ]
        },
        {
          "data": {
            "image/png": "[encoded data removed]",
            "text/plain": [
              "<Figure size 576x360 with 1 Axes>"
            ]
          },
          "metadata": {
            "needs_background": "light"
          },
          "output_type": "display_data"
        }
      ],
      "source": [
        "#In Keras is neccesary to add the regularizer by using the attribute kernel_regularizer\n",
        "#to each layer whose weights will be considered in the Omega function.\n",
        "#is it also possibile to consider the bias by using the attribute bias_regularizer \n",
        "#tf.keras.regularizers.l1(alpha) perfroms the L1-norm regularization\n",
        "\n",
        "#[TO COMPLETE] copy the model that you previously defined that overfits the \n",
        "#training data, and add the L1-norm regularization. Use a proper value for the\n",
        "#alpha hyper-parameter, that prevents the model from overfitting. The results  \n",
        "#reached by the model in terms of loss and accuracy (in all data sets) should be\n",
        "#comparable with the ones obtained by the initial model defined in Exercise 2.1 \n",
        "\n",
        "#In general, a layer that exploits L1-norm regularization is defined as follows:\n",
        "\n",
        "#model.add(keras.layers.Dense(units=[TO COMPLETE], activation=[TO COMPLETE], kernel_regularizer=tf.keras.regularizers.l1([TO COMPLETE]))) \n",
        "\n",
        "model = keras.models.Sequential()\n",
        "#[TO COMPLETE]\n",
        "model.add(tf.keras.Input(shape=(num_words,)))\n",
        "model.add(keras.layers.Dense(64, activation='relu', kernel_regularizer=tf.keras.regularizers.l1(0.001)))\n",
        "model.add(keras.layers.Dense(32, activation='relu', kernel_regularizer=tf.keras.regularizers.l1(0.001)))\n",
        "model.add(keras.layers.Dense(4, activation='softmax'))\n",
        "\n",
        "#[TO COMPLETE] learning rate\n",
        "model.compile(loss=\"sparse_categorical_crossentropy\",\n",
        "              optimizer=keras.optimizers.Adam(learning_rate=1e-2),\n",
        "              metrics=[\"accuracy\"])\n",
        "\n",
        "#[TO COMPLETE] epochs\n",
        "history = model.fit(X_train, y_train, epochs=30,\n",
        "                    validation_data=(X_valid, y_valid))\n",
        "\n",
        "print(\"Model Evaluation\")\n",
        "model.evaluate(X_test, y_test)\n",
        "plot_learning_curves(history)"
      ]
    },
    {
      "cell_type": "markdown",
      "metadata": {
        "id": "CgnCGYUvDqbC"
      },
      "source": [
        "### [TO COMPLETE] L2-norm\n",
        "\n",
        "L2-norm regularization is also known as weight decay. This strategy drives the weights closer to the origin by adding the regularization term omega which is defined as:\n",
        "$$\n",
        " \\Omega(\\theta)=\\frac{1}{2}||\\mathbf{W}||_2^2\n",
        "$$\n",
        "\n",
        "Let's find the values for the $\\alpha$ parameters that allow removing remove the overfitting effect with L2-norm."
      ]
    },
    {
      "cell_type": "code",
      "execution_count": 19,
      "metadata": {
        "colab": {
          "base_uri": "https://localhost:8080/",
          "height": 1000
        },
        "id": "qqNhu350DtJo",
        "outputId": "b5139c19-3c55-4792-a322-e4da02388732"
      },
      "outputs": [
        {
          "name": "stdout",
          "output_type": "stream",
          "text": [
            "Epoch 1/30\n",
            "3375/3375 [==============================] - 11s 3ms/step - loss: 0.6993 - accuracy: 0.8036 - val_loss: 0.6560 - val_accuracy: 0.8067\n",
            "Epoch 2/30\n",
            "3375/3375 [==============================] - 9s 3ms/step - loss: 0.6303 - accuracy: 0.8152 - val_loss: 0.6294 - val_accuracy: 0.8134\n",
            "Epoch 3/30\n",
            "3375/3375 [==============================] - 9s 3ms/step - loss: 0.6166 - accuracy: 0.8181 - val_loss: 0.6277 - val_accuracy: 0.8096\n",
            "Epoch 4/30\n",
            "3375/3375 [==============================] - 9s 3ms/step - loss: 0.6076 - accuracy: 0.8191 - val_loss: 0.6011 - val_accuracy: 0.8182\n",
            "Epoch 5/30\n",
            "3375/3375 [==============================] - 9s 3ms/step - loss: 0.5992 - accuracy: 0.8188 - val_loss: 0.6018 - val_accuracy: 0.8157\n",
            "Epoch 6/30\n",
            "3375/3375 [==============================] - 9s 3ms/step - loss: 0.5963 - accuracy: 0.8203 - val_loss: 0.5983 - val_accuracy: 0.8220\n",
            "Epoch 7/30\n",
            "3375/3375 [==============================] - 9s 3ms/step - loss: 0.5952 - accuracy: 0.8214 - val_loss: 0.6005 - val_accuracy: 0.8230\n",
            "Epoch 8/30\n",
            "3375/3375 [==============================] - 9s 3ms/step - loss: 0.5979 - accuracy: 0.8190 - val_loss: 0.5893 - val_accuracy: 0.8267\n",
            "Epoch 9/30\n",
            "3375/3375 [==============================] - 9s 3ms/step - loss: 0.5954 - accuracy: 0.8200 - val_loss: 0.6065 - val_accuracy: 0.8232\n",
            "Epoch 10/30\n",
            "3375/3375 [==============================] - 9s 3ms/step - loss: 0.5975 - accuracy: 0.8196 - val_loss: 0.6193 - val_accuracy: 0.8143\n",
            "Epoch 11/30\n",
            "3375/3375 [==============================] - 10s 3ms/step - loss: 0.5956 - accuracy: 0.8206 - val_loss: 0.5964 - val_accuracy: 0.8206\n",
            "Epoch 12/30\n",
            "3375/3375 [==============================] - 10s 3ms/step - loss: 0.5957 - accuracy: 0.8204 - val_loss: 0.5949 - val_accuracy: 0.8270\n",
            "Epoch 13/30\n",
            "3375/3375 [==============================] - 9s 3ms/step - loss: 0.5967 - accuracy: 0.8199 - val_loss: 0.5868 - val_accuracy: 0.8245\n",
            "Epoch 14/30\n",
            "3375/3375 [==============================] - 9s 3ms/step - loss: 0.5951 - accuracy: 0.8205 - val_loss: 0.6250 - val_accuracy: 0.8083\n",
            "Epoch 15/30\n",
            "3375/3375 [==============================] - 9s 3ms/step - loss: 0.5961 - accuracy: 0.8199 - val_loss: 0.5921 - val_accuracy: 0.8242\n",
            "Epoch 16/30\n",
            "3375/3375 [==============================] - 9s 3ms/step - loss: 0.5953 - accuracy: 0.8206 - val_loss: 0.5917 - val_accuracy: 0.8205\n",
            "Epoch 17/30\n",
            "3375/3375 [==============================] - 9s 3ms/step - loss: 0.5957 - accuracy: 0.8207 - val_loss: 0.6035 - val_accuracy: 0.8237\n",
            "Epoch 18/30\n",
            "3375/3375 [==============================] - 9s 3ms/step - loss: 0.5960 - accuracy: 0.8200 - val_loss: 0.5909 - val_accuracy: 0.8241\n",
            "Epoch 19/30\n",
            "3375/3375 [==============================] - 10s 3ms/step - loss: 0.5961 - accuracy: 0.8204 - val_loss: 0.5858 - val_accuracy: 0.8256\n",
            "Epoch 20/30\n",
            "3375/3375 [==============================] - 9s 3ms/step - loss: 0.5975 - accuracy: 0.8198 - val_loss: 0.6035 - val_accuracy: 0.8205\n",
            "Epoch 21/30\n",
            "3375/3375 [==============================] - 9s 3ms/step - loss: 0.5957 - accuracy: 0.8204 - val_loss: 0.6028 - val_accuracy: 0.8161\n",
            "Epoch 22/30\n",
            "3375/3375 [==============================] - 9s 3ms/step - loss: 0.5973 - accuracy: 0.8200 - val_loss: 0.5966 - val_accuracy: 0.8219\n",
            "Epoch 23/30\n",
            "3375/3375 [==============================] - 9s 3ms/step - loss: 0.5950 - accuracy: 0.8210 - val_loss: 0.5876 - val_accuracy: 0.8270\n",
            "Epoch 24/30\n",
            "3375/3375 [==============================] - 9s 3ms/step - loss: 0.5951 - accuracy: 0.8208 - val_loss: 0.6124 - val_accuracy: 0.8149\n",
            "Epoch 25/30\n",
            "3375/3375 [==============================] - 9s 3ms/step - loss: 0.5953 - accuracy: 0.8217 - val_loss: 0.5975 - val_accuracy: 0.8220\n",
            "Epoch 26/30\n",
            "3375/3375 [==============================] - 9s 3ms/step - loss: 0.5949 - accuracy: 0.8216 - val_loss: 0.6161 - val_accuracy: 0.8139\n",
            "Epoch 27/30\n",
            "3375/3375 [==============================] - 9s 3ms/step - loss: 0.5956 - accuracy: 0.8207 - val_loss: 0.6191 - val_accuracy: 0.8098\n",
            "Epoch 28/30\n",
            "3375/3375 [==============================] - 9s 3ms/step - loss: 0.5969 - accuracy: 0.8193 - val_loss: 0.5926 - val_accuracy: 0.8198\n",
            "Epoch 29/30\n",
            "3375/3375 [==============================] - 9s 3ms/step - loss: 0.5962 - accuracy: 0.8205 - val_loss: 0.5987 - val_accuracy: 0.8223\n",
            "Epoch 30/30\n",
            "3375/3375 [==============================] - 9s 3ms/step - loss: 0.5946 - accuracy: 0.8193 - val_loss: 0.6107 - val_accuracy: 0.8148\n",
            "Model Evaluation\n",
            "238/238 [==============================] - 1s 2ms/step - loss: 0.6218 - accuracy: 0.8109\n"
          ]
        },
        {
          "data": {
            "image/png": "[encoded data removed]",
            "text/plain": [
              "<Figure size 576x360 with 1 Axes>"
            ]
          },
          "metadata": {
            "needs_background": "light"
          },
          "output_type": "display_data"
        }
      ],
      "source": [
        "#[TO COMPLETE] insert the model that you previously defined that overfit the \n",
        "#trainig data, and add the L2-norm regularization. Use proper values for the\n",
        "#alpha hyper-parameters, that prevents the model from overfitting. The results  \n",
        "#reached by the model in terms of loss and accuracy (in all data sets) should be\n",
        "#comparable with the ones obtained by the initial model defined in Exercise 2.1\n",
        "\n",
        "#In general, a layer that exploits L2-norm regularization is defined as follow:\n",
        "\n",
        "#model.add(keras.layers.Dense(units=[TO COMPLETE], activation=[TO COMPLETE],kernel_regularizer=tf.keras.regularizers.l2([TO COMPLETE]))) \n",
        "\n",
        "model = keras.models.Sequential()\n",
        "#[TO COMPLETE]\n",
        "model.add(tf.keras.Input(shape=(num_words,)))\n",
        "model.add(keras.layers.Dense(64, activation='relu', kernel_regularizer=tf.keras.regularizers.l2(0.001)))\n",
        "model.add(keras.layers.Dense(32, activation='relu', kernel_regularizer=tf.keras.regularizers.l2(0.001)))\n",
        "model.add(keras.layers.Dense(4, activation='softmax'))\n",
        "\n",
        "#[TO COMPLETE] learning rate\n",
        "model.compile(loss=\"sparse_categorical_crossentropy\",\n",
        "              optimizer=keras.optimizers.Adam(learning_rate=1e-2),\n",
        "              metrics=[\"accuracy\"])\n",
        "\n",
        "#[TO COMPLETE] epochs\n",
        "history = model.fit(X_train, y_train, epochs=30,\n",
        "                    validation_data=(X_valid, y_valid))\n",
        "\n",
        "print(\"Model Evaluation\")\n",
        "model.evaluate(X_test, y_test)\n",
        "plot_learning_curves(history)"
      ]
    },
    {
      "cell_type": "markdown",
      "metadata": {
        "id": "xvyKPb4DD25G"
      },
      "source": [
        "### [TO COMPLETE] Early stopping\n",
        "\n",
        "Early Stopping is a form of regularization used to avoid overfitting. It is designed to monitor the generalization error of one model and stop training when generalization error begins to degrade. In order to evaluate the generalization error, early stopping requires that a validation dataset is evaluated during training. Then, when the validation error does not improve for a specific number of epochs (`patience` hyper-parameter), it stops the training phase."
      ]
    },
    {
      "cell_type": "code",
      "execution_count": 20,
      "metadata": {
        "colab": {
          "base_uri": "https://localhost:8080/",
          "height": 683
        },
        "id": "MqNOOZ11D7cq",
        "outputId": "10b4a3bc-3ffb-4653-c6fd-9be025c12bdd"
      },
      "outputs": [
        {
          "name": "stdout",
          "output_type": "stream",
          "text": [
            "Epoch 1/30\n",
            "3375/3375 [==============================] - 9s 2ms/step - loss: 0.4645 - accuracy: 0.8324 - val_loss: 0.4298 - val_accuracy: 0.8478\n",
            "Epoch 2/30\n",
            "3375/3375 [==============================] - 8s 2ms/step - loss: 0.3970 - accuracy: 0.8574 - val_loss: 0.4193 - val_accuracy: 0.8512\n",
            "Epoch 3/30\n",
            "3375/3375 [==============================] - 8s 2ms/step - loss: 0.3581 - accuracy: 0.8709 - val_loss: 0.4088 - val_accuracy: 0.8518\n",
            "Epoch 4/30\n",
            "3375/3375 [==============================] - 9s 3ms/step - loss: 0.3200 - accuracy: 0.8834 - val_loss: 0.4205 - val_accuracy: 0.8548\n",
            "Epoch 5/30\n",
            "3375/3375 [==============================] - 9s 3ms/step - loss: 0.2915 - accuracy: 0.8949 - val_loss: 0.4668 - val_accuracy: 0.8461\n",
            "Epoch 6/30\n",
            "3375/3375 [==============================] - 9s 3ms/step - loss: 0.2639 - accuracy: 0.9037 - val_loss: 0.4777 - val_accuracy: 0.8479\n",
            "Epoch 7/30\n",
            "3375/3375 [==============================] - 8s 3ms/step - loss: 0.2428 - accuracy: 0.9125 - val_loss: 0.4894 - val_accuracy: 0.8474\n",
            "Epoch 8/30\n",
            "3375/3375 [==============================] - 9s 3ms/step - loss: 0.2241 - accuracy: 0.9187 - val_loss: 0.5014 - val_accuracy: 0.8481\n",
            "Epoch 9/30\n",
            "3375/3375 [==============================] - 15s 4ms/step - loss: 0.2093 - accuracy: 0.9249 - val_loss: 0.5638 - val_accuracy: 0.8429\n",
            "Model Evaluation\n",
            "238/238 [==============================] - 0s 1ms/step - loss: 0.4269 - accuracy: 0.8509\n"
          ]
        },
        {
          "data": {
            "image/png": "[encoded data removed]",
            "text/plain": [
              "<Figure size 576x360 with 1 Axes>"
            ]
          },
          "metadata": {
            "needs_background": "light"
          },
          "output_type": "display_data"
        }
      ],
      "source": [
        "#[TO COMPLETE] insert the model that you previously defined that overfit the \n",
        "#trainnig data\n",
        "model = keras.models.Sequential()\n",
        "model.add(tf.keras.Input(shape=(num_words,)))\n",
        "model.add(keras.layers.Dense(64, activation='relu'))\n",
        "model.add(keras.layers.Dense(32, activation='relu'))\n",
        "model.add(keras.layers.Dense(4, activation='softmax'))\n",
        "\n",
        "#[TO COMPLETE] learning rate\n",
        "model.compile(loss=\"sparse_categorical_crossentropy\",\n",
        "              optimizer=keras.optimizers.Adam(learning_rate=1e-2),\n",
        "              metrics=[\"accuracy\"])\n",
        "\n",
        "#Let's define a log dir in order to save the checkpoint file\n",
        "logdir = os.path.join(os.curdir, \"my_logs\", \"run_{}\".format(time.time()))\n",
        "\n",
        "#In Keras the early stopping is manage by using the callbacks argument.\n",
        "callbacks = [\n",
        "    keras.callbacks.TensorBoard(logdir),\n",
        "    keras.callbacks.EarlyStopping(patience=6),#[TO COMPLETE] play with patience and find the value that prevents the model from overfitting.\n",
        "\n",
        "\n",
        "    #Saving the checkpoints file allows to load the \"best\" model when the Early \n",
        "    #stopping detect that the generalization error degrade (after 'patience' epochs)\n",
        "    keras.callbacks.ModelCheckpoint(\"my_mnist_model.h5\", save_best_only=True),\n",
        "]\n",
        "\n",
        "#[TO COMPLETE] epochs\n",
        "history = model.fit(X_train, y_train, epochs=30,\n",
        "                    validation_data=(X_valid, y_valid),\n",
        "                    callbacks=callbacks)\n",
        "\n",
        "print(\"Model Evaluation\")\n",
        "#The early stopping stopped training after few epochs without progress, so your\n",
        "#model may already have started to overfit the training set. Since the \n",
        "#ModelCheckpoint callback only saved the best models (on the validation set) the\n",
        "#last saved model is the best on the validation set.\n",
        "model = keras.models.load_model(\"my_mnist_model.h5\")\n",
        "model.evaluate(X_test, y_test)\n",
        "plot_learning_curves(history)"
      ]
    },
    {
      "cell_type": "markdown",
      "metadata": {
        "id": "DCV8pwVzl9GK"
      },
      "source": [
        "\n",
        "## Exercise 2.3: Model Selection\n",
        "\n",
        "Hyperparameters are the parameters of the learning method itself which we have to specify a priori, i.e., before model fitting. In contrast, model parameters are parameters which arise as a result of the fit (the network weights). The aim of model selection is selecting the best hyperparameters for our deep network. Finding the right hyperparameters for a model can be crucial for the model performance on given data. For istance lets consider our model trained by using different values for the learning rate: "
      ]
    },
    {
      "cell_type": "code",
      "execution_count": 21,
      "metadata": {
        "id": "Fw8Hs-AEmLKh"
      },
      "outputs": [],
      "source": [
        "learning_rates = [1e-4, 1e-2, 1e-1]"
      ]
    },
    {
      "cell_type": "code",
      "execution_count": 22,
      "metadata": {
        "colab": {
          "base_uri": "https://localhost:8080/"
        },
        "id": "mym4GOgUmWqD",
        "outputId": "297fb3f6-db43-4818-f5bf-521bc8a76357"
      },
      "outputs": [
        {
          "name": "stdout",
          "output_type": "stream",
          "text": [
            "Epoch 1/10\n",
            "3375/3375 [==============================] - 8s 2ms/step - loss: 0.8467 - accuracy: 0.6874 - val_loss: 0.5046 - val_accuracy: 0.8340\n",
            "Epoch 2/10\n",
            "3375/3375 [==============================] - 8s 2ms/step - loss: 0.4544 - accuracy: 0.8446 - val_loss: 0.4450 - val_accuracy: 0.8475\n",
            "Epoch 3/10\n",
            "3375/3375 [==============================] - 7s 2ms/step - loss: 0.4203 - accuracy: 0.8537 - val_loss: 0.4310 - val_accuracy: 0.8498\n",
            "Epoch 4/10\n",
            "3375/3375 [==============================] - 8s 2ms/step - loss: 0.4071 - accuracy: 0.8567 - val_loss: 0.4227 - val_accuracy: 0.8508\n",
            "Epoch 5/10\n",
            "3375/3375 [==============================] - 7s 2ms/step - loss: 0.3996 - accuracy: 0.8588 - val_loss: 0.4193 - val_accuracy: 0.8516\n",
            "Epoch 6/10\n",
            "3375/3375 [==============================] - 7s 2ms/step - loss: 0.3944 - accuracy: 0.8601 - val_loss: 0.4160 - val_accuracy: 0.8524\n",
            "Epoch 7/10\n",
            "3375/3375 [==============================] - 7s 2ms/step - loss: 0.3904 - accuracy: 0.8612 - val_loss: 0.4137 - val_accuracy: 0.8531\n",
            "Epoch 8/10\n",
            "3375/3375 [==============================] - 7s 2ms/step - loss: 0.3869 - accuracy: 0.8615 - val_loss: 0.4120 - val_accuracy: 0.8542\n",
            "Epoch 9/10\n",
            "3375/3375 [==============================] - 8s 2ms/step - loss: 0.3839 - accuracy: 0.8623 - val_loss: 0.4095 - val_accuracy: 0.8547\n",
            "Epoch 10/10\n",
            "3375/3375 [==============================] - 7s 2ms/step - loss: 0.3812 - accuracy: 0.8624 - val_loss: 0.4084 - val_accuracy: 0.8550\n",
            "evaluation on test set\n",
            "238/238 [==============================] - 1s 2ms/step - loss: 0.4193 - accuracy: 0.8493\n",
            "Epoch 1/10\n",
            "3375/3375 [==============================] - 8s 2ms/step - loss: 0.4643 - accuracy: 0.8306 - val_loss: 0.4359 - val_accuracy: 0.8462\n",
            "Epoch 2/10\n",
            "3375/3375 [==============================] - 7s 2ms/step - loss: 0.4096 - accuracy: 0.8509 - val_loss: 0.4190 - val_accuracy: 0.8502\n",
            "Epoch 3/10\n",
            "3375/3375 [==============================] - 7s 2ms/step - loss: 0.3899 - accuracy: 0.8597 - val_loss: 0.4103 - val_accuracy: 0.8524\n",
            "Epoch 4/10\n",
            "3375/3375 [==============================] - 7s 2ms/step - loss: 0.3747 - accuracy: 0.8646 - val_loss: 0.4130 - val_accuracy: 0.8538\n",
            "Epoch 5/10\n",
            "3375/3375 [==============================] - 7s 2ms/step - loss: 0.3630 - accuracy: 0.8688 - val_loss: 0.4293 - val_accuracy: 0.8510\n",
            "evaluation on test set\n",
            "238/238 [==============================] - 1s 2ms/step - loss: 0.4392 - accuracy: 0.8412\n",
            "Epoch 1/10\n",
            "3375/3375 [==============================] - 7s 2ms/step - loss: 0.6563 - accuracy: 0.7706 - val_loss: 0.5774 - val_accuracy: 0.7857\n",
            "Epoch 2/10\n",
            "3375/3375 [==============================] - 7s 2ms/step - loss: 0.7391 - accuracy: 0.7150 - val_loss: 0.6771 - val_accuracy: 0.7847\n",
            "Epoch 3/10\n",
            "3375/3375 [==============================] - 7s 2ms/step - loss: 0.7370 - accuracy: 0.7619 - val_loss: 0.7410 - val_accuracy: 0.7712\n",
            "evaluation on test set\n",
            "238/238 [==============================] - 1s 2ms/step - loss: 0.7269 - accuracy: 0.7684\n"
          ]
        }
      ],
      "source": [
        "histories = []\n",
        "for learning_rate in learning_rates:\n",
        "    model = keras.models.Sequential([\n",
        "                                    tf.keras.Input(shape=(num_words,)),\n",
        "                                    keras.layers.Dense(16, activation=\"relu\"),\n",
        "                                    keras.layers.Dense(16, activation=\"relu\"),\n",
        "                                    keras.layers.Dense(4, activation=\"softmax\")\n",
        "                                     ])\n",
        "    model.compile(loss=\"sparse_categorical_crossentropy\",\n",
        "              optimizer=keras.optimizers.Adam(learning_rate=learning_rate),\n",
        "              metrics=[\"accuracy\"])\n",
        "              \n",
        "    callbacks = [keras.callbacks.EarlyStopping(patience=2)]\n",
        "\n",
        "    history = model.fit(X_train, y_train,\n",
        "                        validation_data=(X_valid, y_valid), epochs=10,\n",
        "                        callbacks=callbacks)\n",
        "    histories.append(history)\n",
        "    print(\"evaluation on test set\")\n",
        "    model.evaluate(X_test, y_test)"
      ]
    },
    {
      "cell_type": "markdown",
      "metadata": {
        "id": "RzTSjfwptkHJ"
      },
      "source": [
        "Let's plot the results"
      ]
    },
    {
      "cell_type": "code",
      "execution_count": 23,
      "metadata": {
        "colab": {
          "base_uri": "https://localhost:8080/",
          "height": 978
        },
        "id": "cIlN1vlioIYh",
        "outputId": "04dced46-ad0f-4b20-a5df-ff4bdd89ff8e"
      },
      "outputs": [
        {
          "name": "stdout",
          "output_type": "stream",
          "text": [
            "Learning rate: 0.0001\n"
          ]
        },
        {
          "data": {
            "image/png": "[encoded data removed]",
            "text/plain": [
              "<Figure size 576x360 with 1 Axes>"
            ]
          },
          "metadata": {
            "needs_background": "light"
          },
          "output_type": "display_data"
        },
        {
          "name": "stdout",
          "output_type": "stream",
          "text": [
            "Learning rate: 0.01\n"
          ]
        },
        {
          "data": {
            "image/png": "[encoded data removed]",
            "text/plain": [
              "<Figure size 576x360 with 1 Axes>"
            ]
          },
          "metadata": {
            "needs_background": "light"
          },
          "output_type": "display_data"
        },
        {
          "name": "stdout",
          "output_type": "stream",
          "text": [
            "Learning rate: 0.1\n"
          ]
        },
        {
          "data": {
            "image/png": "[encoded data removed]",
            "text/plain": [
              "<Figure size 576x360 with 1 Axes>"
            ]
          },
          "metadata": {
            "needs_background": "light"
          },
          "output_type": "display_data"
        }
      ],
      "source": [
        "for learning_rate, history in zip(learning_rates, histories):\n",
        "    print(\"Learning rate:\", learning_rate)\n",
        "    plot_learning_acc_and_loss(history)"
      ]
    },
    {
      "cell_type": "markdown",
      "metadata": {
        "id": "_JntujSWq3e5"
      },
      "source": [
        "### [TO COMPLETE] GRID Search:\n",
        "\n",
        "Since a deep net has many hyperparameters, in order to find the best ones, we have to consider all the possible combinations of all of the possible values. One common method to perform this complex task is Grid-Search.\n",
        "Given a set of values for each hyper-parameter, Grid-Search will build a model on each parameter combination possible. It iterates through every parameter combination and stores a model for each combination. Finally, the model that obtained the best result on the validation set will be select.\n",
        "\n",
        "In order to perfrom Grid-Search we will use the `GridSearchCV` class from `scikit-learn`."
      ]
    },
    {
      "cell_type": "markdown",
      "metadata": {
        "id": "CPz629YSrDhN"
      },
      "source": [
        "Let's Create a `build_model()` function that takes two arguments, `n_neurons` and `learning_rate`, and builds, compiles and returns a model with the given number of of neurons and the given learning rate.\n",
        "In order to limit the time requirements of the process we will consider only these two hyper-paramters.\n",
        "\n",
        "[TO COMPLETE] in the following code cell define the `build_model` function."
      ]
    },
    {
      "cell_type": "code",
      "execution_count": 24,
      "metadata": {
        "colab": {
          "base_uri": "https://localhost:8080/"
        },
        "id": "oGSKWTTtqxZ4",
        "outputId": "81978781-1b77-4bb9-f19a-4a32c4c46101"
      },
      "outputs": [
        {
          "name": "stderr",
          "output_type": "stream",
          "text": [
            "/usr/local/lib/python3.7/dist-packages/ipykernel_launcher.py:25: DeprecationWarning: KerasRegressor is deprecated, use Sci-Keras (https://github.com/adriangb/scikeras) instead. See https://www.adriangb.com/scikeras/stable/migration.html for help migrating.\n"
          ]
        }
      ],
      "source": [
        "def build_model(n_units=30, learning_rate=1e-3):\n",
        "    # The function has to build a model similar to the ones we used in previuous execises:\n",
        "    #- a input layer \n",
        "    #- one or two Dense layers composed of n_units and that exploit Relu activation function \n",
        "    #- the output layer that uses the sigmoid activation function\n",
        "    # Then, the model has to be compiled.\n",
        "    #[TO COMPLETE]\n",
        "    model = keras.models.Sequential([\n",
        "              tf.keras.Input(shape=(num_words,)),\n",
        "              keras.layers.Dense(units=n_units, activation='relu'),\n",
        "              keras.layers.Dense(units=n_units, activation='relu'),\n",
        "              keras.layers.Dense(units=4, activation='sigmoid')\n",
        "              ])\n",
        "    \n",
        "    # [TO COMPLETE] Then, the model has to be compiled.\n",
        "    model.compile(loss=\"sparse_categorical_crossentropy\",\n",
        "              optimizer=keras.optimizers.Adam(learning_rate=learning_rate),\n",
        "              metrics=[\"accuracy\"])\n",
        "    \n",
        "    return model\n",
        "\n",
        "    \n",
        "#Create a keras.wrappers.scikit_learn.KerasRegressor and pass the build_model \n",
        "#function to the constructor. This gives you a Scikit-Learn compatible predictor\n",
        "keras_reg = keras.wrappers.scikit_learn.KerasRegressor(build_model)"
      ]
    },
    {
      "cell_type": "markdown",
      "metadata": {
        "id": "PS6W3A2LxDg5"
      },
      "source": [
        "Let's define the lists of hyper-parameters' values. Also in this case, we use a very limited size lists, but in a real-world scenario a reasonable amount of possible values should be considered (try to add some values and check how much the time required to perform the Grid-Search increases)"
      ]
    },
    {
      "cell_type": "code",
      "execution_count": 25,
      "metadata": {
        "id": "y-uldCW3ru24"
      },
      "outputs": [],
      "source": [
        "param_distribs = {\n",
        "    \"n_units\": [8, 16, 24],# [TO COMPLETE] insert a list that contains few (2 or 3) reasonable value\n",
        "    \"learning_rate\": [1e-4, 1e-3, 1e-2] #[TO COMPLETE] insert a list that contains few (2 or 3) reasonable values\n",
        "    #Check how the time required to perform GRID search increases when increasing the number of values for each hyper-parameter.\n",
        "}"
      ]
    },
    {
      "cell_type": "markdown",
      "metadata": {
        "id": "bEiBxVYtx_sK"
      },
      "source": [
        "Use a `sklearn.model_selection.GridSearchCV` to search the hyperparameter space of your `KerasRegressor`"
      ]
    },
    {
      "cell_type": "code",
      "execution_count": 26,
      "metadata": {
        "id": "iobF2Bvdr9ER"
      },
      "outputs": [],
      "source": [
        "from sklearn.model_selection import GridSearchCV\n",
        "\n",
        "grid_search = GridSearchCV(keras_reg, param_distribs)"
      ]
    },
    {
      "cell_type": "markdown",
      "metadata": {
        "id": "LVGMcZz_yKSX"
      },
      "source": [
        "Run the Grid-Search"
      ]
    },
    {
      "cell_type": "code",
      "execution_count": 27,
      "metadata": {
        "colab": {
          "base_uri": "https://localhost:8080/"
        },
        "id": "-BA3vgTjr-hw",
        "outputId": "1f6bb609-3d52-4bdf-a840-2f82b16b5d5c"
      },
      "outputs": [
        {
          "name": "stdout",
          "output_type": "stream",
          "text": [
            "Epoch 1/5\n",
            "2700/2700 [==============================] - 6s 2ms/step - loss: 1.0873 - accuracy: 0.5960 - val_loss: 0.7363 - val_accuracy: 0.7914\n",
            "Epoch 2/5\n",
            "2700/2700 [==============================] - 5s 2ms/step - loss: 0.5876 - accuracy: 0.8178 - val_loss: 0.5222 - val_accuracy: 0.8277\n",
            "Epoch 3/5\n",
            "2700/2700 [==============================] - 6s 2ms/step - loss: 0.4819 - accuracy: 0.8373 - val_loss: 0.4773 - val_accuracy: 0.8382\n",
            "Epoch 4/5\n",
            "2700/2700 [==============================] - 5s 2ms/step - loss: 0.4494 - accuracy: 0.8460 - val_loss: 0.4581 - val_accuracy: 0.8426\n",
            "Epoch 5/5\n",
            "2700/2700 [==============================] - 6s 2ms/step - loss: 0.4322 - accuracy: 0.8502 - val_loss: 0.4474 - val_accuracy: 0.8453\n",
            "675/675 [==============================] - 1s 1ms/step - loss: 0.4321 - accuracy: 0.8494\n",
            "Epoch 1/5\n",
            "2700/2700 [==============================] - 6s 2ms/step - loss: 0.9718 - accuracy: 0.6420 - val_loss: 0.6527 - val_accuracy: 0.7985\n",
            "Epoch 2/5\n",
            "2700/2700 [==============================] - 5s 2ms/step - loss: 0.5531 - accuracy: 0.8241 - val_loss: 0.5075 - val_accuracy: 0.8319\n",
            "Epoch 3/5\n",
            "2700/2700 [==============================] - 5s 2ms/step - loss: 0.4699 - accuracy: 0.8427 - val_loss: 0.4668 - val_accuracy: 0.8414\n",
            "Epoch 4/5\n",
            "2700/2700 [==============================] - 6s 2ms/step - loss: 0.4386 - accuracy: 0.8499 - val_loss: 0.4489 - val_accuracy: 0.8452\n",
            "Epoch 5/5\n",
            "2700/2700 [==============================] - 5s 2ms/step - loss: 0.4224 - accuracy: 0.8538 - val_loss: 0.4398 - val_accuracy: 0.8482\n",
            "675/675 [==============================] - 1s 1ms/step - loss: 0.4313 - accuracy: 0.8482\n",
            "Epoch 1/5\n",
            "2700/2700 [==============================] - 6s 2ms/step - loss: 1.0110 - accuracy: 0.6115 - val_loss: 0.6560 - val_accuracy: 0.8049\n",
            "Epoch 2/5\n",
            "2700/2700 [==============================] - 5s 2ms/step - loss: 0.5385 - accuracy: 0.8258 - val_loss: 0.4906 - val_accuracy: 0.8353\n",
            "Epoch 3/5\n",
            "2700/2700 [==============================] - 6s 2ms/step - loss: 0.4533 - accuracy: 0.8445 - val_loss: 0.4550 - val_accuracy: 0.8438\n",
            "Epoch 4/5\n",
            "2700/2700 [==============================] - 5s 2ms/step - loss: 0.4260 - accuracy: 0.8520 - val_loss: 0.4398 - val_accuracy: 0.8463\n",
            "Epoch 5/5\n",
            "2700/2700 [==============================] - 5s 2ms/step - loss: 0.4117 - accuracy: 0.8564 - val_loss: 0.4311 - val_accuracy: 0.8493\n",
            "675/675 [==============================] - 1s 1ms/step - loss: 0.4357 - accuracy: 0.8449\n",
            "Epoch 1/5\n",
            "2700/2700 [==============================] - 6s 2ms/step - loss: 0.9940 - accuracy: 0.6303 - val_loss: 0.6327 - val_accuracy: 0.8069\n",
            "Epoch 2/5\n",
            "2700/2700 [==============================] - 6s 2ms/step - loss: 0.5318 - accuracy: 0.8265 - val_loss: 0.4839 - val_accuracy: 0.8357\n",
            "Epoch 3/5\n",
            "2700/2700 [==============================] - 5s 2ms/step - loss: 0.4532 - accuracy: 0.8438 - val_loss: 0.4500 - val_accuracy: 0.8440\n",
            "Epoch 4/5\n",
            "2700/2700 [==============================] - 6s 2ms/step - loss: 0.4271 - accuracy: 0.8511 - val_loss: 0.4362 - val_accuracy: 0.8471\n",
            "Epoch 5/5\n",
            "2700/2700 [==============================] - 6s 2ms/step - loss: 0.4136 - accuracy: 0.8546 - val_loss: 0.4286 - val_accuracy: 0.8487\n",
            "675/675 [==============================] - 1s 1ms/step - loss: 0.4179 - accuracy: 0.8558\n",
            "Epoch 1/5\n",
            "2700/2700 [==============================] - 6s 2ms/step - loss: 1.0424 - accuracy: 0.5960 - val_loss: 0.7113 - val_accuracy: 0.7747\n",
            "Epoch 2/5\n",
            "2700/2700 [==============================] - 5s 2ms/step - loss: 0.5937 - accuracy: 0.8084 - val_loss: 0.5374 - val_accuracy: 0.8209\n",
            "Epoch 3/5\n",
            "2700/2700 [==============================] - 5s 2ms/step - loss: 0.4935 - accuracy: 0.8362 - val_loss: 0.4867 - val_accuracy: 0.8363\n",
            "Epoch 4/5\n",
            "2700/2700 [==============================] - 5s 2ms/step - loss: 0.4548 - accuracy: 0.8474 - val_loss: 0.4646 - val_accuracy: 0.8415\n",
            "Epoch 5/5\n",
            "2700/2700 [==============================] - 5s 2ms/step - loss: 0.4342 - accuracy: 0.8524 - val_loss: 0.4518 - val_accuracy: 0.8440\n",
            "675/675 [==============================] - 1s 1ms/step - loss: 0.4466 - accuracy: 0.8458\n",
            "Epoch 1/5\n",
            "2700/2700 [==============================] - 6s 2ms/step - loss: 0.9546 - accuracy: 0.6337 - val_loss: 0.5690 - val_accuracy: 0.8244\n",
            "Epoch 2/5\n",
            "2700/2700 [==============================] - 6s 2ms/step - loss: 0.4870 - accuracy: 0.8393 - val_loss: 0.4614 - val_accuracy: 0.8428\n",
            "Epoch 3/5\n",
            "2700/2700 [==============================] - 6s 2ms/step - loss: 0.4338 - accuracy: 0.8509 - val_loss: 0.4412 - val_accuracy: 0.8468\n",
            "Epoch 4/5\n",
            "2700/2700 [==============================] - 6s 2ms/step - loss: 0.4171 - accuracy: 0.8546 - val_loss: 0.4322 - val_accuracy: 0.8483\n",
            "Epoch 5/5\n",
            "2700/2700 [==============================] - 6s 2ms/step - loss: 0.4085 - accuracy: 0.8573 - val_loss: 0.4280 - val_accuracy: 0.8488\n",
            "675/675 [==============================] - 1s 1ms/step - loss: 0.4140 - accuracy: 0.8536\n",
            "Epoch 1/5\n",
            "2700/2700 [==============================] - 6s 2ms/step - loss: 0.8794 - accuracy: 0.6880 - val_loss: 0.5407 - val_accuracy: 0.8238\n",
            "Epoch 2/5\n",
            "2700/2700 [==============================] - 5s 2ms/step - loss: 0.4814 - accuracy: 0.8358 - val_loss: 0.4660 - val_accuracy: 0.8405\n",
            "Epoch 3/5\n",
            "2700/2700 [==============================] - 6s 2ms/step - loss: 0.4354 - accuracy: 0.8487 - val_loss: 0.4449 - val_accuracy: 0.8472\n",
            "Epoch 4/5\n",
            "2700/2700 [==============================] - 5s 2ms/step - loss: 0.4161 - accuracy: 0.8541 - val_loss: 0.4331 - val_accuracy: 0.8483\n",
            "Epoch 5/5\n",
            "2700/2700 [==============================] - 6s 2ms/step - loss: 0.4049 - accuracy: 0.8570 - val_loss: 0.4270 - val_accuracy: 0.8492\n",
            "675/675 [==============================] - 1s 1ms/step - loss: 0.4185 - accuracy: 0.8509\n",
            "Epoch 1/5\n",
            "2700/2700 [==============================] - 6s 2ms/step - loss: 0.9060 - accuracy: 0.6594 - val_loss: 0.5336 - val_accuracy: 0.8242\n",
            "Epoch 2/5\n",
            "2700/2700 [==============================] - 6s 2ms/step - loss: 0.4678 - accuracy: 0.8412 - val_loss: 0.4517 - val_accuracy: 0.8443\n",
            "Epoch 3/5\n",
            "2700/2700 [==============================] - 5s 2ms/step - loss: 0.4224 - accuracy: 0.8528 - val_loss: 0.4332 - val_accuracy: 0.8502\n",
            "Epoch 4/5\n",
            "2700/2700 [==============================] - 6s 2ms/step - loss: 0.4057 - accuracy: 0.8576 - val_loss: 0.4249 - val_accuracy: 0.8493\n",
            "Epoch 5/5\n",
            "2700/2700 [==============================] - 6s 2ms/step - loss: 0.3965 - accuracy: 0.8601 - val_loss: 0.4194 - val_accuracy: 0.8503\n",
            "675/675 [==============================] - 1s 1ms/step - loss: 0.4253 - accuracy: 0.8452\n",
            "Epoch 1/5\n",
            "2700/2700 [==============================] - 6s 2ms/step - loss: 0.9077 - accuracy: 0.7080 - val_loss: 0.5538 - val_accuracy: 0.8241\n",
            "Epoch 2/5\n",
            "2700/2700 [==============================] - 5s 2ms/step - loss: 0.4855 - accuracy: 0.8372 - val_loss: 0.4613 - val_accuracy: 0.8434\n",
            "Epoch 3/5\n",
            "2700/2700 [==============================] - 6s 2ms/step - loss: 0.4343 - accuracy: 0.8483 - val_loss: 0.4391 - val_accuracy: 0.8481\n",
            "Epoch 4/5\n",
            "2700/2700 [==============================] - 6s 2ms/step - loss: 0.4154 - accuracy: 0.8530 - val_loss: 0.4294 - val_accuracy: 0.8506\n",
            "Epoch 5/5\n",
            "2700/2700 [==============================] - 6s 2ms/step - loss: 0.4050 - accuracy: 0.8562 - val_loss: 0.4223 - val_accuracy: 0.8524\n",
            "675/675 [==============================] - 1s 1ms/step - loss: 0.4091 - accuracy: 0.8572\n",
            "Epoch 1/5\n",
            "2700/2700 [==============================] - 6s 2ms/step - loss: 0.9226 - accuracy: 0.6726 - val_loss: 0.5544 - val_accuracy: 0.8202\n",
            "Epoch 2/5\n",
            "2700/2700 [==============================] - 6s 2ms/step - loss: 0.4836 - accuracy: 0.8373 - val_loss: 0.4643 - val_accuracy: 0.8413\n",
            "Epoch 3/5\n",
            "2700/2700 [==============================] - 6s 2ms/step - loss: 0.4330 - accuracy: 0.8503 - val_loss: 0.4430 - val_accuracy: 0.8473\n",
            "Epoch 4/5\n",
            "2700/2700 [==============================] - 6s 2ms/step - loss: 0.4146 - accuracy: 0.8551 - val_loss: 0.4337 - val_accuracy: 0.8482\n",
            "Epoch 5/5\n",
            "2700/2700 [==============================] - 6s 2ms/step - loss: 0.4048 - accuracy: 0.8576 - val_loss: 0.4286 - val_accuracy: 0.8506\n",
            "675/675 [==============================] - 1s 1ms/step - loss: 0.4280 - accuracy: 0.8482\n",
            "Epoch 1/5\n",
            "2700/2700 [==============================] - 7s 2ms/step - loss: 0.8537 - accuracy: 0.6776 - val_loss: 0.5031 - val_accuracy: 0.8355\n",
            "Epoch 2/5\n",
            "2700/2700 [==============================] - 6s 2ms/step - loss: 0.4561 - accuracy: 0.8441 - val_loss: 0.4439 - val_accuracy: 0.8472\n",
            "Epoch 3/5\n",
            "2700/2700 [==============================] - 6s 2ms/step - loss: 0.4203 - accuracy: 0.8529 - val_loss: 0.4303 - val_accuracy: 0.8516\n",
            "Epoch 4/5\n",
            "2700/2700 [==============================] - 6s 2ms/step - loss: 0.4064 - accuracy: 0.8572 - val_loss: 0.4232 - val_accuracy: 0.8502\n",
            "Epoch 5/5\n",
            "2700/2700 [==============================] - 6s 2ms/step - loss: 0.3981 - accuracy: 0.8594 - val_loss: 0.4198 - val_accuracy: 0.8518\n",
            "675/675 [==============================] - 1s 1ms/step - loss: 0.4067 - accuracy: 0.8550\n",
            "Epoch 1/5\n",
            "2700/2700 [==============================] - 7s 2ms/step - loss: 0.8547 - accuracy: 0.6836 - val_loss: 0.5167 - val_accuracy: 0.8292\n",
            "Epoch 2/5\n",
            "2700/2700 [==============================] - 6s 2ms/step - loss: 0.4623 - accuracy: 0.8434 - val_loss: 0.4498 - val_accuracy: 0.8466\n",
            "Epoch 3/5\n",
            "2700/2700 [==============================] - 6s 2ms/step - loss: 0.4227 - accuracy: 0.8531 - val_loss: 0.4336 - val_accuracy: 0.8508\n",
            "Epoch 4/5\n",
            "2700/2700 [==============================] - 6s 2ms/step - loss: 0.4071 - accuracy: 0.8570 - val_loss: 0.4250 - val_accuracy: 0.8520\n",
            "Epoch 5/5\n",
            "2700/2700 [==============================] - 6s 2ms/step - loss: 0.3983 - accuracy: 0.8595 - val_loss: 0.4211 - val_accuracy: 0.8527\n",
            "675/675 [==============================] - 1s 1ms/step - loss: 0.4141 - accuracy: 0.8530\n",
            "Epoch 1/5\n",
            "2700/2700 [==============================] - 7s 2ms/step - loss: 0.7969 - accuracy: 0.7248 - val_loss: 0.4906 - val_accuracy: 0.8364\n",
            "Epoch 2/5\n",
            "2700/2700 [==============================] - 6s 2ms/step - loss: 0.4441 - accuracy: 0.8468 - val_loss: 0.4405 - val_accuracy: 0.8458\n",
            "Epoch 3/5\n",
            "2700/2700 [==============================] - 6s 2ms/step - loss: 0.4130 - accuracy: 0.8551 - val_loss: 0.4288 - val_accuracy: 0.8501\n",
            "Epoch 4/5\n",
            "2700/2700 [==============================] - 6s 2ms/step - loss: 0.4006 - accuracy: 0.8590 - val_loss: 0.4230 - val_accuracy: 0.8492\n",
            "Epoch 5/5\n",
            "2700/2700 [==============================] - 6s 2ms/step - loss: 0.3933 - accuracy: 0.8605 - val_loss: 0.4186 - val_accuracy: 0.8514\n",
            "675/675 [==============================] - 1s 1ms/step - loss: 0.4255 - accuracy: 0.8474\n",
            "Epoch 1/5\n",
            "2700/2700 [==============================] - 7s 2ms/step - loss: 0.8079 - accuracy: 0.7127 - val_loss: 0.4982 - val_accuracy: 0.8314\n",
            "Epoch 2/5\n",
            "2700/2700 [==============================] - 6s 2ms/step - loss: 0.4523 - accuracy: 0.8436 - val_loss: 0.4400 - val_accuracy: 0.8458\n",
            "Epoch 3/5\n",
            "2700/2700 [==============================] - 6s 2ms/step - loss: 0.4170 - accuracy: 0.8528 - val_loss: 0.4272 - val_accuracy: 0.8500\n",
            "Epoch 4/5\n",
            "2700/2700 [==============================] - 6s 2ms/step - loss: 0.4034 - accuracy: 0.8566 - val_loss: 0.4226 - val_accuracy: 0.8518\n",
            "Epoch 5/5\n",
            "2700/2700 [==============================] - 6s 2ms/step - loss: 0.3955 - accuracy: 0.8588 - val_loss: 0.4170 - val_accuracy: 0.8510\n",
            "675/675 [==============================] - 1s 1ms/step - loss: 0.4054 - accuracy: 0.8565\n",
            "Epoch 1/5\n",
            "2700/2700 [==============================] - 7s 2ms/step - loss: 0.8410 - accuracy: 0.6986 - val_loss: 0.5032 - val_accuracy: 0.8305\n",
            "Epoch 2/5\n",
            "2700/2700 [==============================] - 6s 2ms/step - loss: 0.4516 - accuracy: 0.8454 - val_loss: 0.4471 - val_accuracy: 0.8471\n",
            "Epoch 3/5\n",
            "2700/2700 [==============================] - 6s 2ms/step - loss: 0.4179 - accuracy: 0.8535 - val_loss: 0.4327 - val_accuracy: 0.8483\n",
            "Epoch 4/5\n",
            "2700/2700 [==============================] - 6s 2ms/step - loss: 0.4044 - accuracy: 0.8571 - val_loss: 0.4262 - val_accuracy: 0.8505\n",
            "Epoch 5/5\n",
            "2700/2700 [==============================] - 6s 2ms/step - loss: 0.3969 - accuracy: 0.8586 - val_loss: 0.4223 - val_accuracy: 0.8509\n",
            "675/675 [==============================] - 1s 1ms/step - loss: 0.4218 - accuracy: 0.8509\n",
            "Epoch 1/5\n",
            "2700/2700 [==============================] - 6s 2ms/step - loss: 0.5226 - accuracy: 0.8069 - val_loss: 0.4293 - val_accuracy: 0.8470\n",
            "Epoch 2/5\n",
            "2700/2700 [==============================] - 6s 2ms/step - loss: 0.4053 - accuracy: 0.8541 - val_loss: 0.4104 - val_accuracy: 0.8543\n",
            "Epoch 3/5\n",
            "2700/2700 [==============================] - 6s 2ms/step - loss: 0.3916 - accuracy: 0.8579 - val_loss: 0.4112 - val_accuracy: 0.8518\n",
            "Epoch 4/5\n",
            "2700/2700 [==============================] - 6s 2ms/step - loss: 0.3827 - accuracy: 0.8604 - val_loss: 0.4088 - val_accuracy: 0.8534\n",
            "Epoch 5/5\n",
            "2700/2700 [==============================] - 6s 2ms/step - loss: 0.3755 - accuracy: 0.8626 - val_loss: 0.4070 - val_accuracy: 0.8558\n",
            "675/675 [==============================] - 1s 2ms/step - loss: 0.3931 - accuracy: 0.8582\n",
            "Epoch 1/5\n",
            "2700/2700 [==============================] - 7s 2ms/step - loss: 0.5211 - accuracy: 0.8117 - val_loss: 0.4323 - val_accuracy: 0.8479\n",
            "Epoch 2/5\n",
            "2700/2700 [==============================] - 6s 2ms/step - loss: 0.4080 - accuracy: 0.8538 - val_loss: 0.4178 - val_accuracy: 0.8534\n",
            "Epoch 3/5\n",
            "2700/2700 [==============================] - 6s 2ms/step - loss: 0.3942 - accuracy: 0.8576 - val_loss: 0.4184 - val_accuracy: 0.8518\n",
            "Epoch 4/5\n",
            "2700/2700 [==============================] - 6s 2ms/step - loss: 0.3849 - accuracy: 0.8606 - val_loss: 0.4136 - val_accuracy: 0.8522\n",
            "Epoch 5/5\n",
            "2700/2700 [==============================] - 6s 2ms/step - loss: 0.3773 - accuracy: 0.8627 - val_loss: 0.4126 - val_accuracy: 0.8546\n",
            "675/675 [==============================] - 1s 2ms/step - loss: 0.4049 - accuracy: 0.8537\n",
            "Epoch 1/5\n",
            "2700/2700 [==============================] - 7s 2ms/step - loss: 0.5280 - accuracy: 0.8100 - val_loss: 0.4362 - val_accuracy: 0.8457\n",
            "Epoch 2/5\n",
            "2700/2700 [==============================] - 6s 2ms/step - loss: 0.4067 - accuracy: 0.8547 - val_loss: 0.4178 - val_accuracy: 0.8524\n",
            "Epoch 3/5\n",
            "2700/2700 [==============================] - 6s 2ms/step - loss: 0.3945 - accuracy: 0.8574 - val_loss: 0.4125 - val_accuracy: 0.8518\n",
            "Epoch 4/5\n",
            "2700/2700 [==============================] - 6s 2ms/step - loss: 0.3863 - accuracy: 0.8599 - val_loss: 0.4141 - val_accuracy: 0.8507\n",
            "Epoch 5/5\n",
            "2700/2700 [==============================] - 6s 2ms/step - loss: 0.3795 - accuracy: 0.8618 - val_loss: 0.4074 - val_accuracy: 0.8536\n",
            "675/675 [==============================] - 1s 2ms/step - loss: 0.4174 - accuracy: 0.8473\n",
            "Epoch 1/5\n",
            "2700/2700 [==============================] - 6s 2ms/step - loss: 0.5202 - accuracy: 0.8169 - val_loss: 0.4237 - val_accuracy: 0.8496\n",
            "Epoch 2/5\n",
            "2700/2700 [==============================] - 6s 2ms/step - loss: 0.4076 - accuracy: 0.8527 - val_loss: 0.4128 - val_accuracy: 0.8522\n",
            "Epoch 3/5\n",
            "2700/2700 [==============================] - 6s 2ms/step - loss: 0.3943 - accuracy: 0.8557 - val_loss: 0.4086 - val_accuracy: 0.8530\n",
            "Epoch 4/5\n",
            "2700/2700 [==============================] - 6s 2ms/step - loss: 0.3841 - accuracy: 0.8592 - val_loss: 0.4083 - val_accuracy: 0.8518\n",
            "Epoch 5/5\n",
            "2700/2700 [==============================] - 6s 2ms/step - loss: 0.3756 - accuracy: 0.8608 - val_loss: 0.4028 - val_accuracy: 0.8546\n",
            "675/675 [==============================] - 1s 2ms/step - loss: 0.3924 - accuracy: 0.8578\n",
            "Epoch 1/5\n",
            "2700/2700 [==============================] - 7s 2ms/step - loss: 0.5514 - accuracy: 0.8064 - val_loss: 0.4438 - val_accuracy: 0.8427\n",
            "Epoch 2/5\n",
            "2700/2700 [==============================] - 6s 2ms/step - loss: 0.4144 - accuracy: 0.8516 - val_loss: 0.4192 - val_accuracy: 0.8484\n",
            "Epoch 3/5\n",
            "2700/2700 [==============================] - 6s 2ms/step - loss: 0.3949 - accuracy: 0.8566 - val_loss: 0.4105 - val_accuracy: 0.8501\n",
            "Epoch 4/5\n",
            "2700/2700 [==============================] - 6s 2ms/step - loss: 0.3843 - accuracy: 0.8596 - val_loss: 0.4078 - val_accuracy: 0.8515\n",
            "Epoch 5/5\n",
            "2700/2700 [==============================] - 6s 2ms/step - loss: 0.3771 - accuracy: 0.8615 - val_loss: 0.4080 - val_accuracy: 0.8503\n",
            "675/675 [==============================] - 1s 2ms/step - loss: 0.4118 - accuracy: 0.8528\n",
            "Epoch 1/5\n",
            "2700/2700 [==============================] - 6s 2ms/step - loss: 0.4974 - accuracy: 0.8215 - val_loss: 0.4367 - val_accuracy: 0.8461\n",
            "Epoch 2/5\n",
            "2700/2700 [==============================] - 6s 2ms/step - loss: 0.4064 - accuracy: 0.8530 - val_loss: 0.4065 - val_accuracy: 0.8521\n",
            "Epoch 3/5\n",
            "2700/2700 [==============================] - 6s 2ms/step - loss: 0.3848 - accuracy: 0.8591 - val_loss: 0.4033 - val_accuracy: 0.8553\n",
            "Epoch 4/5\n",
            "2700/2700 [==============================] - 6s 2ms/step - loss: 0.3688 - accuracy: 0.8650 - val_loss: 0.3992 - val_accuracy: 0.8565\n",
            "Epoch 5/5\n",
            "2700/2700 [==============================] - 6s 2ms/step - loss: 0.3555 - accuracy: 0.8695 - val_loss: 0.4002 - val_accuracy: 0.8567\n",
            "675/675 [==============================] - 1s 2ms/step - loss: 0.3882 - accuracy: 0.8583\n",
            "Epoch 1/5\n",
            "2700/2700 [==============================] - 7s 2ms/step - loss: 0.4988 - accuracy: 0.8201 - val_loss: 0.4300 - val_accuracy: 0.8489\n",
            "Epoch 2/5\n",
            "2700/2700 [==============================] - 6s 2ms/step - loss: 0.4014 - accuracy: 0.8549 - val_loss: 0.4122 - val_accuracy: 0.8518\n",
            "Epoch 3/5\n",
            "2700/2700 [==============================] - 6s 2ms/step - loss: 0.3828 - accuracy: 0.8592 - val_loss: 0.4109 - val_accuracy: 0.8521\n",
            "Epoch 4/5\n",
            "2700/2700 [==============================] - 6s 2ms/step - loss: 0.3680 - accuracy: 0.8651 - val_loss: 0.4059 - val_accuracy: 0.8526\n",
            "Epoch 5/5\n",
            "2700/2700 [==============================] - 6s 2ms/step - loss: 0.3545 - accuracy: 0.8694 - val_loss: 0.4048 - val_accuracy: 0.8537\n",
            "675/675 [==============================] - 1s 1ms/step - loss: 0.4004 - accuracy: 0.8516\n",
            "Epoch 1/5\n",
            "2700/2700 [==============================] - 7s 2ms/step - loss: 0.4931 - accuracy: 0.8234 - val_loss: 0.4333 - val_accuracy: 0.8465\n",
            "Epoch 2/5\n",
            "2700/2700 [==============================] - 6s 2ms/step - loss: 0.4017 - accuracy: 0.8547 - val_loss: 0.4106 - val_accuracy: 0.8513\n",
            "Epoch 3/5\n",
            "2700/2700 [==============================] - 6s 2ms/step - loss: 0.3836 - accuracy: 0.8601 - val_loss: 0.4031 - val_accuracy: 0.8537\n",
            "Epoch 4/5\n",
            "2700/2700 [==============================] - 6s 2ms/step - loss: 0.3686 - accuracy: 0.8657 - val_loss: 0.4054 - val_accuracy: 0.8515\n",
            "Epoch 5/5\n",
            "2700/2700 [==============================] - 6s 2ms/step - loss: 0.3560 - accuracy: 0.8705 - val_loss: 0.3991 - val_accuracy: 0.8567\n",
            "675/675 [==============================] - 1s 1ms/step - loss: 0.4053 - accuracy: 0.8505\n",
            "Epoch 1/5\n",
            "2700/2700 [==============================] - 6s 2ms/step - loss: 0.4987 - accuracy: 0.8202 - val_loss: 0.4268 - val_accuracy: 0.8468\n",
            "Epoch 2/5\n",
            "2700/2700 [==============================] - 6s 2ms/step - loss: 0.4047 - accuracy: 0.8532 - val_loss: 0.4120 - val_accuracy: 0.8515\n",
            "Epoch 3/5\n",
            "2700/2700 [==============================] - 6s 2ms/step - loss: 0.3862 - accuracy: 0.8580 - val_loss: 0.4043 - val_accuracy: 0.8537\n",
            "Epoch 4/5\n",
            "2700/2700 [==============================] - 6s 2ms/step - loss: 0.3716 - accuracy: 0.8644 - val_loss: 0.4054 - val_accuracy: 0.8531\n",
            "Epoch 5/5\n",
            "2700/2700 [==============================] - 6s 2ms/step - loss: 0.3584 - accuracy: 0.8675 - val_loss: 0.3977 - val_accuracy: 0.8549\n",
            "675/675 [==============================] - 1s 1ms/step - loss: 0.3887 - accuracy: 0.8589\n",
            "Epoch 1/5\n",
            "2700/2700 [==============================] - 7s 2ms/step - loss: 0.4879 - accuracy: 0.8264 - val_loss: 0.4245 - val_accuracy: 0.8522\n",
            "Epoch 2/5\n",
            "2700/2700 [==============================] - 6s 2ms/step - loss: 0.4021 - accuracy: 0.8536 - val_loss: 0.4117 - val_accuracy: 0.8529\n",
            "Epoch 3/5\n",
            "2700/2700 [==============================] - 6s 2ms/step - loss: 0.3833 - accuracy: 0.8590 - val_loss: 0.4054 - val_accuracy: 0.8541\n",
            "Epoch 4/5\n",
            "2700/2700 [==============================] - 6s 2ms/step - loss: 0.3674 - accuracy: 0.8647 - val_loss: 0.4025 - val_accuracy: 0.8546\n",
            "Epoch 5/5\n",
            "2700/2700 [==============================] - 6s 2ms/step - loss: 0.3530 - accuracy: 0.8690 - val_loss: 0.4045 - val_accuracy: 0.8522\n",
            "675/675 [==============================] - 1s 2ms/step - loss: 0.4052 - accuracy: 0.8555\n",
            "Epoch 1/5\n",
            "2700/2700 [==============================] - 7s 2ms/step - loss: 0.4855 - accuracy: 0.8246 - val_loss: 0.4310 - val_accuracy: 0.8456\n",
            "Epoch 2/5\n",
            "2700/2700 [==============================] - 6s 2ms/step - loss: 0.3990 - accuracy: 0.8550 - val_loss: 0.4033 - val_accuracy: 0.8537\n",
            "Epoch 3/5\n",
            "2700/2700 [==============================] - 6s 2ms/step - loss: 0.3743 - accuracy: 0.8630 - val_loss: 0.4020 - val_accuracy: 0.8531\n",
            "Epoch 4/5\n",
            "2700/2700 [==============================] - 6s 2ms/step - loss: 0.3541 - accuracy: 0.8709 - val_loss: 0.3995 - val_accuracy: 0.8558\n",
            "Epoch 5/5\n",
            "2700/2700 [==============================] - 6s 2ms/step - loss: 0.3355 - accuracy: 0.8775 - val_loss: 0.4038 - val_accuracy: 0.8533\n",
            "675/675 [==============================] - 1s 2ms/step - loss: 0.3898 - accuracy: 0.8584\n",
            "Epoch 1/5\n",
            "2700/2700 [==============================] - 7s 2ms/step - loss: 0.4849 - accuracy: 0.8259 - val_loss: 0.4287 - val_accuracy: 0.8474\n",
            "Epoch 2/5\n",
            "2700/2700 [==============================] - 6s 2ms/step - loss: 0.3955 - accuracy: 0.8561 - val_loss: 0.4058 - val_accuracy: 0.8536\n",
            "Epoch 3/5\n",
            "2700/2700 [==============================] - 6s 2ms/step - loss: 0.3711 - accuracy: 0.8628 - val_loss: 0.4051 - val_accuracy: 0.8561\n",
            "Epoch 4/5\n",
            "2700/2700 [==============================] - 7s 2ms/step - loss: 0.3509 - accuracy: 0.8705 - val_loss: 0.4075 - val_accuracy: 0.8562\n",
            "Epoch 5/5\n",
            "2700/2700 [==============================] - 6s 2ms/step - loss: 0.3326 - accuracy: 0.8771 - val_loss: 0.4087 - val_accuracy: 0.8545\n",
            "675/675 [==============================] - 1s 2ms/step - loss: 0.4027 - accuracy: 0.8538\n",
            "Epoch 1/5\n",
            "2700/2700 [==============================] - 7s 2ms/step - loss: 0.4783 - accuracy: 0.8292 - val_loss: 0.4281 - val_accuracy: 0.8472\n",
            "Epoch 2/5\n",
            "2700/2700 [==============================] - 6s 2ms/step - loss: 0.3949 - accuracy: 0.8563 - val_loss: 0.4063 - val_accuracy: 0.8507\n",
            "Epoch 3/5\n",
            "2700/2700 [==============================] - 6s 2ms/step - loss: 0.3726 - accuracy: 0.8629 - val_loss: 0.3977 - val_accuracy: 0.8540\n",
            "Epoch 4/5\n",
            "2700/2700 [==============================] - 6s 2ms/step - loss: 0.3524 - accuracy: 0.8702 - val_loss: 0.4003 - val_accuracy: 0.8542\n",
            "Epoch 5/5\n",
            "2700/2700 [==============================] - 6s 2ms/step - loss: 0.3336 - accuracy: 0.8765 - val_loss: 0.3964 - val_accuracy: 0.8564\n",
            "675/675 [==============================] - 1s 2ms/step - loss: 0.4037 - accuracy: 0.8544\n",
            "Epoch 1/5\n",
            "2700/2700 [==============================] - 7s 3ms/step - loss: 0.4860 - accuracy: 0.8256 - val_loss: 0.4184 - val_accuracy: 0.8499\n",
            "Epoch 2/5\n",
            "2700/2700 [==============================] - 6s 2ms/step - loss: 0.3997 - accuracy: 0.8536 - val_loss: 0.4062 - val_accuracy: 0.8522\n",
            "Epoch 3/5\n",
            "2700/2700 [==============================] - 6s 2ms/step - loss: 0.3755 - accuracy: 0.8610 - val_loss: 0.3998 - val_accuracy: 0.8537\n",
            "Epoch 4/5\n",
            "2700/2700 [==============================] - 6s 2ms/step - loss: 0.3551 - accuracy: 0.8689 - val_loss: 0.4021 - val_accuracy: 0.8543\n",
            "Epoch 5/5\n",
            "2700/2700 [==============================] - 6s 2ms/step - loss: 0.3361 - accuracy: 0.8754 - val_loss: 0.4001 - val_accuracy: 0.8548\n",
            "675/675 [==============================] - 1s 2ms/step - loss: 0.3890 - accuracy: 0.8621\n",
            "Epoch 1/5\n",
            "2700/2700 [==============================] - 7s 2ms/step - loss: 0.4818 - accuracy: 0.8282 - val_loss: 0.4170 - val_accuracy: 0.8518\n",
            "Epoch 2/5\n",
            "2700/2700 [==============================] - 6s 2ms/step - loss: 0.3947 - accuracy: 0.8554 - val_loss: 0.4078 - val_accuracy: 0.8522\n",
            "Epoch 3/5\n",
            "2700/2700 [==============================] - 6s 2ms/step - loss: 0.3729 - accuracy: 0.8625 - val_loss: 0.4001 - val_accuracy: 0.8562\n",
            "Epoch 4/5\n",
            "2700/2700 [==============================] - 6s 2ms/step - loss: 0.3529 - accuracy: 0.8701 - val_loss: 0.3969 - val_accuracy: 0.8577\n",
            "Epoch 5/5\n",
            "2700/2700 [==============================] - 6s 2ms/step - loss: 0.3342 - accuracy: 0.8768 - val_loss: 0.4021 - val_accuracy: 0.8577\n",
            "675/675 [==============================] - 1s 2ms/step - loss: 0.4065 - accuracy: 0.8549\n",
            "Epoch 1/5\n",
            "2700/2700 [==============================] - 7s 2ms/step - loss: 0.4787 - accuracy: 0.8279 - val_loss: 0.4590 - val_accuracy: 0.8371\n",
            "Epoch 2/5\n",
            "2700/2700 [==============================] - 6s 2ms/step - loss: 0.4196 - accuracy: 0.8486 - val_loss: 0.4232 - val_accuracy: 0.8504\n",
            "Epoch 3/5\n",
            "2700/2700 [==============================] - 6s 2ms/step - loss: 0.4016 - accuracy: 0.8540 - val_loss: 0.4380 - val_accuracy: 0.8441\n",
            "Epoch 4/5\n",
            "2700/2700 [==============================] - 6s 2ms/step - loss: 0.3928 - accuracy: 0.8580 - val_loss: 0.4240 - val_accuracy: 0.8495\n",
            "Epoch 5/5\n",
            "2700/2700 [==============================] - 6s 2ms/step - loss: 0.3846 - accuracy: 0.8608 - val_loss: 0.4365 - val_accuracy: 0.8454\n",
            "675/675 [==============================] - 1s 1ms/step - loss: 0.4289 - accuracy: 0.8491\n",
            "Epoch 1/5\n",
            "2700/2700 [==============================] - 6s 2ms/step - loss: 0.4788 - accuracy: 0.8278 - val_loss: 0.4462 - val_accuracy: 0.8412\n",
            "Epoch 2/5\n",
            "2700/2700 [==============================] - 6s 2ms/step - loss: 0.4242 - accuracy: 0.8479 - val_loss: 0.4401 - val_accuracy: 0.8439\n",
            "Epoch 3/5\n",
            "2700/2700 [==============================] - 6s 2ms/step - loss: 0.4082 - accuracy: 0.8533 - val_loss: 0.4364 - val_accuracy: 0.8471\n",
            "Epoch 4/5\n",
            "2700/2700 [==============================] - 6s 2ms/step - loss: 0.3983 - accuracy: 0.8561 - val_loss: 0.4343 - val_accuracy: 0.8481\n",
            "Epoch 5/5\n",
            "2700/2700 [==============================] - 6s 2ms/step - loss: 0.3883 - accuracy: 0.8602 - val_loss: 0.4465 - val_accuracy: 0.8467\n",
            "675/675 [==============================] - 1s 1ms/step - loss: 0.4419 - accuracy: 0.8448\n",
            "Epoch 1/5\n",
            "2700/2700 [==============================] - 6s 2ms/step - loss: 0.4797 - accuracy: 0.8275 - val_loss: 0.4456 - val_accuracy: 0.8418\n",
            "Epoch 2/5\n",
            "2700/2700 [==============================] - 6s 2ms/step - loss: 0.4206 - accuracy: 0.8494 - val_loss: 0.4265 - val_accuracy: 0.8475\n",
            "Epoch 3/5\n",
            "2700/2700 [==============================] - 6s 2ms/step - loss: 0.4064 - accuracy: 0.8546 - val_loss: 0.4239 - val_accuracy: 0.8504\n",
            "Epoch 4/5\n",
            "2700/2700 [==============================] - 6s 2ms/step - loss: 0.3975 - accuracy: 0.8578 - val_loss: 0.4342 - val_accuracy: 0.8462\n",
            "Epoch 5/5\n",
            "2700/2700 [==============================] - 6s 2ms/step - loss: 0.3889 - accuracy: 0.8605 - val_loss: 0.4363 - val_accuracy: 0.8500\n",
            "675/675 [==============================] - 1s 1ms/step - loss: 0.4423 - accuracy: 0.8441\n",
            "Epoch 1/5\n",
            "2700/2700 [==============================] - 7s 2ms/step - loss: 0.4811 - accuracy: 0.8264 - val_loss: 0.4427 - val_accuracy: 0.8445\n",
            "Epoch 2/5\n",
            "2700/2700 [==============================] - 6s 2ms/step - loss: 0.4215 - accuracy: 0.8473 - val_loss: 0.4249 - val_accuracy: 0.8506\n",
            "Epoch 3/5\n",
            "2700/2700 [==============================] - 6s 2ms/step - loss: 0.4045 - accuracy: 0.8532 - val_loss: 0.4241 - val_accuracy: 0.8484\n",
            "Epoch 4/5\n",
            "2700/2700 [==============================] - 6s 2ms/step - loss: 0.3930 - accuracy: 0.8570 - val_loss: 0.4306 - val_accuracy: 0.8481\n",
            "Epoch 5/5\n",
            "2700/2700 [==============================] - 6s 2ms/step - loss: 0.3852 - accuracy: 0.8588 - val_loss: 0.4236 - val_accuracy: 0.8488\n",
            "675/675 [==============================] - 1s 1ms/step - loss: 0.4143 - accuracy: 0.8514\n",
            "Epoch 1/5\n",
            "2700/2700 [==============================] - 6s 2ms/step - loss: 0.4777 - accuracy: 0.8257 - val_loss: 0.4416 - val_accuracy: 0.8413\n",
            "Epoch 2/5\n",
            "2700/2700 [==============================] - 6s 2ms/step - loss: 0.4164 - accuracy: 0.8476 - val_loss: 0.4243 - val_accuracy: 0.8478\n",
            "Epoch 3/5\n",
            "2700/2700 [==============================] - 6s 2ms/step - loss: 0.4024 - accuracy: 0.8534 - val_loss: 0.4162 - val_accuracy: 0.8497\n",
            "Epoch 4/5\n",
            "2700/2700 [==============================] - 6s 2ms/step - loss: 0.3936 - accuracy: 0.8552 - val_loss: 0.4247 - val_accuracy: 0.8471\n",
            "Epoch 5/5\n",
            "2700/2700 [==============================] - 6s 2ms/step - loss: 0.3857 - accuracy: 0.8581 - val_loss: 0.4169 - val_accuracy: 0.8478\n",
            "675/675 [==============================] - 1s 2ms/step - loss: 0.4255 - accuracy: 0.8477\n",
            "Epoch 1/5\n",
            "2700/2700 [==============================] - 7s 2ms/step - loss: 0.4751 - accuracy: 0.8278 - val_loss: 0.4566 - val_accuracy: 0.8413\n",
            "Epoch 2/5\n",
            "2700/2700 [==============================] - 6s 2ms/step - loss: 0.4166 - accuracy: 0.8487 - val_loss: 0.4218 - val_accuracy: 0.8504\n",
            "Epoch 3/5\n",
            "2700/2700 [==============================] - 6s 2ms/step - loss: 0.3946 - accuracy: 0.8562 - val_loss: 0.4275 - val_accuracy: 0.8499\n",
            "Epoch 4/5\n",
            "2700/2700 [==============================] - 7s 2ms/step - loss: 0.3795 - accuracy: 0.8615 - val_loss: 0.4291 - val_accuracy: 0.8517\n",
            "Epoch 5/5\n",
            "2700/2700 [==============================] - 6s 2ms/step - loss: 0.3662 - accuracy: 0.8669 - val_loss: 0.4320 - val_accuracy: 0.8466\n",
            "675/675 [==============================] - 1s 2ms/step - loss: 0.4189 - accuracy: 0.8506\n",
            "Epoch 1/5\n",
            "2700/2700 [==============================] - 7s 2ms/step - loss: 0.4701 - accuracy: 0.8293 - val_loss: 0.4320 - val_accuracy: 0.8430\n",
            "Epoch 2/5\n",
            "2700/2700 [==============================] - 7s 2ms/step - loss: 0.4109 - accuracy: 0.8505 - val_loss: 0.4345 - val_accuracy: 0.8451\n",
            "Epoch 3/5\n",
            "2700/2700 [==============================] - 6s 2ms/step - loss: 0.3904 - accuracy: 0.8569 - val_loss: 0.4298 - val_accuracy: 0.8462\n",
            "Epoch 4/5\n",
            "2700/2700 [==============================] - 6s 2ms/step - loss: 0.3754 - accuracy: 0.8644 - val_loss: 0.4256 - val_accuracy: 0.8506\n",
            "Epoch 5/5\n",
            "2700/2700 [==============================] - 6s 2ms/step - loss: 0.3596 - accuracy: 0.8702 - val_loss: 0.4471 - val_accuracy: 0.8446\n",
            "675/675 [==============================] - 1s 2ms/step - loss: 0.4390 - accuracy: 0.8432\n",
            "Epoch 1/5\n",
            "2700/2700 [==============================] - 7s 2ms/step - loss: 0.4677 - accuracy: 0.8315 - val_loss: 0.4368 - val_accuracy: 0.8467\n",
            "Epoch 2/5\n",
            "2700/2700 [==============================] - 6s 2ms/step - loss: 0.4055 - accuracy: 0.8531 - val_loss: 0.4135 - val_accuracy: 0.8525\n",
            "Epoch 3/5\n",
            "2700/2700 [==============================] - 6s 2ms/step - loss: 0.3830 - accuracy: 0.8617 - val_loss: 0.4125 - val_accuracy: 0.8533\n",
            "Epoch 4/5\n",
            "2700/2700 [==============================] - 6s 2ms/step - loss: 0.3667 - accuracy: 0.8672 - val_loss: 0.4158 - val_accuracy: 0.8556\n",
            "Epoch 5/5\n",
            "2700/2700 [==============================] - 6s 2ms/step - loss: 0.3518 - accuracy: 0.8724 - val_loss: 0.4302 - val_accuracy: 0.8500\n",
            "675/675 [==============================] - 1s 1ms/step - loss: 0.4474 - accuracy: 0.8430\n",
            "Epoch 1/5\n",
            "2700/2700 [==============================] - 7s 2ms/step - loss: 0.4727 - accuracy: 0.8283 - val_loss: 0.4507 - val_accuracy: 0.8385\n",
            "Epoch 2/5\n",
            "2700/2700 [==============================] - 6s 2ms/step - loss: 0.4126 - accuracy: 0.8493 - val_loss: 0.4210 - val_accuracy: 0.8498\n",
            "Epoch 3/5\n",
            "2700/2700 [==============================] - 6s 2ms/step - loss: 0.3916 - accuracy: 0.8569 - val_loss: 0.4258 - val_accuracy: 0.8469\n",
            "Epoch 4/5\n",
            "2700/2700 [==============================] - 6s 2ms/step - loss: 0.3751 - accuracy: 0.8642 - val_loss: 0.4241 - val_accuracy: 0.8493\n",
            "Epoch 5/5\n",
            "2700/2700 [==============================] - 6s 2ms/step - loss: 0.3600 - accuracy: 0.8697 - val_loss: 0.4193 - val_accuracy: 0.8511\n",
            "675/675 [==============================] - 1s 2ms/step - loss: 0.4143 - accuracy: 0.8520\n",
            "Epoch 1/5\n",
            "2700/2700 [==============================] - 8s 3ms/step - loss: 0.4709 - accuracy: 0.8295 - val_loss: 0.4425 - val_accuracy: 0.8449\n",
            "Epoch 2/5\n",
            "2700/2700 [==============================] - 6s 2ms/step - loss: 0.4097 - accuracy: 0.8503 - val_loss: 0.4230 - val_accuracy: 0.8482\n",
            "Epoch 3/5\n",
            "2700/2700 [==============================] - 6s 2ms/step - loss: 0.3866 - accuracy: 0.8593 - val_loss: 0.4183 - val_accuracy: 0.8543\n",
            "Epoch 4/5\n",
            "2700/2700 [==============================] - 6s 2ms/step - loss: 0.3702 - accuracy: 0.8655 - val_loss: 0.4242 - val_accuracy: 0.8488\n",
            "Epoch 5/5\n",
            "2700/2700 [==============================] - 6s 2ms/step - loss: 0.3546 - accuracy: 0.8712 - val_loss: 0.4291 - val_accuracy: 0.8462\n",
            "675/675 [==============================] - 1s 2ms/step - loss: 0.4364 - accuracy: 0.8454\n",
            "Epoch 1/5\n",
            "2700/2700 [==============================] - 7s 2ms/step - loss: 0.4744 - accuracy: 0.8272 - val_loss: 0.4467 - val_accuracy: 0.8394\n",
            "Epoch 2/5\n",
            "2700/2700 [==============================] - 7s 3ms/step - loss: 0.4098 - accuracy: 0.8515 - val_loss: 0.4229 - val_accuracy: 0.8488\n",
            "Epoch 3/5\n",
            "2700/2700 [==============================] - 7s 3ms/step - loss: 0.3817 - accuracy: 0.8609 - val_loss: 0.4282 - val_accuracy: 0.8511\n",
            "Epoch 4/5\n",
            "2700/2700 [==============================] - 7s 2ms/step - loss: 0.3593 - accuracy: 0.8683 - val_loss: 0.4293 - val_accuracy: 0.8499\n",
            "Epoch 5/5\n",
            "2700/2700 [==============================] - 7s 3ms/step - loss: 0.3393 - accuracy: 0.8751 - val_loss: 0.4453 - val_accuracy: 0.8508\n",
            "675/675 [==============================] - 1s 2ms/step - loss: 0.4286 - accuracy: 0.8509\n",
            "Epoch 1/5\n",
            "2700/2700 [==============================] - 7s 3ms/step - loss: 0.4735 - accuracy: 0.8283 - val_loss: 0.4325 - val_accuracy: 0.8438\n",
            "Epoch 2/5\n",
            "2700/2700 [==============================] - 7s 3ms/step - loss: 0.4070 - accuracy: 0.8530 - val_loss: 0.4311 - val_accuracy: 0.8480\n",
            "Epoch 3/5\n",
            "2700/2700 [==============================] - 7s 3ms/step - loss: 0.3793 - accuracy: 0.8615 - val_loss: 0.4306 - val_accuracy: 0.8512\n",
            "Epoch 4/5\n",
            "2700/2700 [==============================] - 6s 2ms/step - loss: 0.3581 - accuracy: 0.8713 - val_loss: 0.4285 - val_accuracy: 0.8536\n",
            "Epoch 5/5\n",
            "2700/2700 [==============================] - 6s 2ms/step - loss: 0.3392 - accuracy: 0.8779 - val_loss: 0.4390 - val_accuracy: 0.8486\n",
            "675/675 [==============================] - 1s 2ms/step - loss: 0.4312 - accuracy: 0.8460\n",
            "Epoch 1/5\n",
            "2700/2700 [==============================] - 7s 2ms/step - loss: 0.4704 - accuracy: 0.8299 - val_loss: 0.4316 - val_accuracy: 0.8447\n",
            "Epoch 2/5\n",
            "2700/2700 [==============================] - 6s 2ms/step - loss: 0.4036 - accuracy: 0.8538 - val_loss: 0.4188 - val_accuracy: 0.8508\n",
            "Epoch 3/5\n",
            "2700/2700 [==============================] - 7s 2ms/step - loss: 0.3759 - accuracy: 0.8634 - val_loss: 0.4231 - val_accuracy: 0.8507\n",
            "Epoch 4/5\n",
            "2700/2700 [==============================] - 7s 2ms/step - loss: 0.3523 - accuracy: 0.8720 - val_loss: 0.4301 - val_accuracy: 0.8498\n",
            "Epoch 5/5\n",
            "2700/2700 [==============================] - 6s 2ms/step - loss: 0.3326 - accuracy: 0.8801 - val_loss: 0.4499 - val_accuracy: 0.8469\n",
            "675/675 [==============================] - 1s 2ms/step - loss: 0.4682 - accuracy: 0.8422\n",
            "Epoch 1/5\n",
            "2700/2700 [==============================] - 7s 3ms/step - loss: 0.4745 - accuracy: 0.8276 - val_loss: 0.4589 - val_accuracy: 0.8330\n",
            "Epoch 2/5\n",
            "2700/2700 [==============================] - 7s 2ms/step - loss: 0.4098 - accuracy: 0.8507 - val_loss: 0.4248 - val_accuracy: 0.8474\n",
            "Epoch 3/5\n",
            "2700/2700 [==============================] - 6s 2ms/step - loss: 0.3822 - accuracy: 0.8617 - val_loss: 0.4258 - val_accuracy: 0.8495\n",
            "Epoch 4/5\n",
            "2700/2700 [==============================] - 7s 2ms/step - loss: 0.3603 - accuracy: 0.8702 - val_loss: 0.4308 - val_accuracy: 0.8487\n",
            "Epoch 5/5\n",
            "2700/2700 [==============================] - 7s 3ms/step - loss: 0.3429 - accuracy: 0.8764 - val_loss: 0.4344 - val_accuracy: 0.8488\n",
            "675/675 [==============================] - 1s 2ms/step - loss: 0.4320 - accuracy: 0.8498\n",
            "Epoch 1/5\n",
            "2700/2700 [==============================] - 7s 3ms/step - loss: 0.4691 - accuracy: 0.8302 - val_loss: 0.4438 - val_accuracy: 0.8393\n",
            "Epoch 2/5\n",
            "2700/2700 [==============================] - 7s 3ms/step - loss: 0.4058 - accuracy: 0.8526 - val_loss: 0.4231 - val_accuracy: 0.8478\n",
            "Epoch 3/5\n",
            "2700/2700 [==============================] - 7s 3ms/step - loss: 0.3794 - accuracy: 0.8606 - val_loss: 0.4180 - val_accuracy: 0.8512\n",
            "Epoch 4/5\n",
            "2700/2700 [==============================] - 7s 2ms/step - loss: 0.3581 - accuracy: 0.8698 - val_loss: 0.4229 - val_accuracy: 0.8486\n",
            "Epoch 5/5\n",
            "2700/2700 [==============================] - 7s 3ms/step - loss: 0.3402 - accuracy: 0.8747 - val_loss: 0.4316 - val_accuracy: 0.8479\n",
            "675/675 [==============================] - 1s 2ms/step - loss: 0.4394 - accuracy: 0.8485\n",
            "Epoch 1/5\n",
            "3375/3375 [==============================] - 8s 2ms/step - loss: 0.4780 - accuracy: 0.8282 - val_loss: 0.4208 - val_accuracy: 0.8496\n",
            "Epoch 2/5\n",
            "3375/3375 [==============================] - 8s 2ms/step - loss: 0.3981 - accuracy: 0.8556 - val_loss: 0.4110 - val_accuracy: 0.8517\n",
            "Epoch 3/5\n",
            "3375/3375 [==============================] - 8s 2ms/step - loss: 0.3782 - accuracy: 0.8617 - val_loss: 0.4038 - val_accuracy: 0.8547\n",
            "Epoch 4/5\n",
            "3375/3375 [==============================] - 8s 2ms/step - loss: 0.3628 - accuracy: 0.8664 - val_loss: 0.3965 - val_accuracy: 0.8551\n",
            "Epoch 5/5\n",
            "3375/3375 [==============================] - 8s 2ms/step - loss: 0.3504 - accuracy: 0.8711 - val_loss: 0.3969 - val_accuracy: 0.8533\n"
          ]
        },
        {
          "data": {
            "text/plain": [
              "GridSearchCV(estimator=<keras.wrappers.scikit_learn.KerasRegressor object at 0x7f10065bc610>,\n",
              "             param_grid={'learning_rate': [0.0001, 0.001, 0.01],\n",
              "                         'n_units': [8, 16, 24]})"
            ]
          },
          "execution_count": 27,
          "metadata": {},
          "output_type": "execute_result"
        }
      ],
      "source": [
        "\n",
        "grid_search.fit(X_train.numpy(), y_train.numpy(), epochs=5,#The number of epochs can be modified (check what happens by increasing it)\n",
        "                validation_data=(X_valid.numpy(), y_valid.numpy()))"
      ]
    },
    {
      "cell_type": "markdown",
      "metadata": {
        "id": "aadmkiOoyM94"
      },
      "source": [
        "Print the best hyper-parameters, and evealuate the best model on the test set."
      ]
    },
    {
      "cell_type": "code",
      "execution_count": 28,
      "metadata": {
        "colab": {
          "base_uri": "https://localhost:8080/"
        },
        "id": "b0nL5OZkylNX",
        "outputId": "dcc367aa-d4ad-4386-aa80-b50d852af5cb"
      },
      "outputs": [
        {
          "name": "stdout",
          "output_type": "stream",
          "text": [
            "{'learning_rate': 0.001, 'n_units': 16}\n",
            "238/238 [==============================] - 1s 2ms/step - loss: 0.4012 - accuracy: 0.8528\n"
          ]
        },
        {
          "data": {
            "text/plain": [
              "[0.40117231011390686, 0.8527631759643555]"
            ]
          },
          "execution_count": 28,
          "metadata": {},
          "output_type": "execute_result"
        }
      ],
      "source": [
        "print(grid_search.best_params_)\n",
        "\n",
        "model = grid_search.best_estimator_.model\n",
        "model.evaluate(X_test, y_test)"
      ]
    }
  ],
  "metadata": {
    "colab": {
      "collapsed_sections": [],
      "name": "HW2.ipynb",
      "provenance": []
    },
    "kernelspec": {
      "display_name": "Python 3",
      "name": "python3"
    },
    "language_info": {
      "name": "python",
      "version": "3.8.8"
    },
    "widgets": {
      "application/vnd.jupyter.widget-state+json": {
        "0028e2cb58524756a6a5ed611033601d": {
          "model_module": "@jupyter-widgets/controls",
          "model_module_version": "1.5.0",
          "model_name": "HTMLModel",
          "state": {
            "_dom_classes": [],
            "_model_module": "@jupyter-widgets/controls",
            "_model_module_version": "1.5.0",
            "_model_name": "HTMLModel",
            "_view_count": null,
            "_view_module": "@jupyter-widgets/controls",
            "_view_module_version": "1.5.0",
            "_view_name": "HTMLView",
            "description": "",
            "description_tooltip": null,
            "layout": "IPY_MODEL_8b021d21f42041508ddde19db40509ef",
            "placeholder": "​",
            "style": "IPY_MODEL_c731875c4a9c4fdf9d74402895f882c7",
            "value": "Dl Size...: "
          }
        },
        "04795229f632492f8cbf0a2d1becee3b": {
          "model_module": "@jupyter-widgets/controls",
          "model_module_version": "1.5.0",
          "model_name": "HBoxModel",
          "state": {
            "_dom_classes": [],
            "_model_module": "@jupyter-widgets/controls",
            "_model_module_version": "1.5.0",
            "_model_name": "HBoxModel",
            "_view_count": null,
            "_view_module": "@jupyter-widgets/controls",
            "_view_module_version": "1.5.0",
            "_view_name": "HBoxView",
            "box_style": "",
            "children": [
              "IPY_MODEL_1fbaf5cc76e74ba59200fed4306e81fb",
              "IPY_MODEL_a402411e14b04363b3c0e6fa6d4ef4d0",
              "IPY_MODEL_d8a9313d67fc4afc97a41d38ca4be7f1"
            ],
            "layout": "IPY_MODEL_c955c7ab6d294487b0c061dcff6ab8ce"
          }
        },
        "09add4f54e37411b9d7e5be54e385dc6": {
          "model_module": "@jupyter-widgets/base",
          "model_module_version": "1.2.0",
          "model_name": "LayoutModel",
          "state": {
            "_model_module": "@jupyter-widgets/base",
            "_model_module_version": "1.2.0",
            "_model_name": "LayoutModel",
            "_view_count": null,
            "_view_module": "@jupyter-widgets/base",
            "_view_module_version": "1.2.0",
            "_view_name": "LayoutView",
            "align_content": null,
            "align_items": null,
            "align_self": null,
            "border": null,
            "bottom": null,
            "display": null,
            "flex": null,
            "flex_flow": null,
            "grid_area": null,
            "grid_auto_columns": null,
            "grid_auto_flow": null,
            "grid_auto_rows": null,
            "grid_column": null,
            "grid_gap": null,
            "grid_row": null,
            "grid_template_areas": null,
            "grid_template_columns": null,
            "grid_template_rows": null,
            "height": null,
            "justify_content": null,
            "justify_items": null,
            "left": null,
            "margin": null,
            "max_height": null,
            "max_width": null,
            "min_height": null,
            "min_width": null,
            "object_fit": null,
            "object_position": null,
            "order": null,
            "overflow": null,
            "overflow_x": null,
            "overflow_y": null,
            "padding": null,
            "right": null,
            "top": null,
            "visibility": null,
            "width": "20px"
          }
        },
        "0ec50a9b43b741ab80e04c5b6db4ccba": {
          "model_module": "@jupyter-widgets/base",
          "model_module_version": "1.2.0",
          "model_name": "LayoutModel",
          "state": {
            "_model_module": "@jupyter-widgets/base",
            "_model_module_version": "1.2.0",
            "_model_name": "LayoutModel",
            "_view_count": null,
            "_view_module": "@jupyter-widgets/base",
            "_view_module_version": "1.2.0",
            "_view_name": "LayoutView",
            "align_content": null,
            "align_items": null,
            "align_self": null,
            "border": null,
            "bottom": null,
            "display": null,
            "flex": null,
            "flex_flow": null,
            "grid_area": null,
            "grid_auto_columns": null,
            "grid_auto_flow": null,
            "grid_auto_rows": null,
            "grid_column": null,
            "grid_gap": null,
            "grid_row": null,
            "grid_template_areas": null,
            "grid_template_columns": null,
            "grid_template_rows": null,
            "height": null,
            "justify_content": null,
            "justify_items": null,
            "left": null,
            "margin": null,
            "max_height": null,
            "max_width": null,
            "min_height": null,
            "min_width": null,
            "object_fit": null,
            "object_position": null,
            "order": null,
            "overflow": null,
            "overflow_x": null,
            "overflow_y": null,
            "padding": null,
            "right": null,
            "top": null,
            "visibility": null,
            "width": null
          }
        },
        "1050b9195f494c799c869a56d87f8110": {
          "model_module": "@jupyter-widgets/controls",
          "model_module_version": "1.5.0",
          "model_name": "DescriptionStyleModel",
          "state": {
            "_model_module": "@jupyter-widgets/controls",
            "_model_module_version": "1.5.0",
            "_model_name": "DescriptionStyleModel",
            "_view_count": null,
            "_view_module": "@jupyter-widgets/base",
            "_view_module_version": "1.2.0",
            "_view_name": "StyleView",
            "description_width": ""
          }
        },
        "19f271b783984b86ad249b19e21661ec": {
          "model_module": "@jupyter-widgets/base",
          "model_module_version": "1.2.0",
          "model_name": "LayoutModel",
          "state": {
            "_model_module": "@jupyter-widgets/base",
            "_model_module_version": "1.2.0",
            "_model_name": "LayoutModel",
            "_view_count": null,
            "_view_module": "@jupyter-widgets/base",
            "_view_module_version": "1.2.0",
            "_view_name": "LayoutView",
            "align_content": null,
            "align_items": null,
            "align_self": null,
            "border": null,
            "bottom": null,
            "display": null,
            "flex": null,
            "flex_flow": null,
            "grid_area": null,
            "grid_auto_columns": null,
            "grid_auto_flow": null,
            "grid_auto_rows": null,
            "grid_column": null,
            "grid_gap": null,
            "grid_row": null,
            "grid_template_areas": null,
            "grid_template_columns": null,
            "grid_template_rows": null,
            "height": null,
            "justify_content": null,
            "justify_items": null,
            "left": null,
            "margin": null,
            "max_height": null,
            "max_width": null,
            "min_height": null,
            "min_width": null,
            "object_fit": null,
            "object_position": null,
            "order": null,
            "overflow": null,
            "overflow_x": null,
            "overflow_y": null,
            "padding": null,
            "right": null,
            "top": null,
            "visibility": null,
            "width": null
          }
        },
        "1be60c6751f4423bb8f90ac3052202f2": {
          "model_module": "@jupyter-widgets/base",
          "model_module_version": "1.2.0",
          "model_name": "LayoutModel",
          "state": {
            "_model_module": "@jupyter-widgets/base",
            "_model_module_version": "1.2.0",
            "_model_name": "LayoutModel",
            "_view_count": null,
            "_view_module": "@jupyter-widgets/base",
            "_view_module_version": "1.2.0",
            "_view_name": "LayoutView",
            "align_content": null,
            "align_items": null,
            "align_self": null,
            "border": null,
            "bottom": null,
            "display": null,
            "flex": null,
            "flex_flow": null,
            "grid_area": null,
            "grid_auto_columns": null,
            "grid_auto_flow": null,
            "grid_auto_rows": null,
            "grid_column": null,
            "grid_gap": null,
            "grid_row": null,
            "grid_template_areas": null,
            "grid_template_columns": null,
            "grid_template_rows": null,
            "height": null,
            "justify_content": null,
            "justify_items": null,
            "left": null,
            "margin": null,
            "max_height": null,
            "max_width": null,
            "min_height": null,
            "min_width": null,
            "object_fit": null,
            "object_position": null,
            "order": null,
            "overflow": null,
            "overflow_x": null,
            "overflow_y": null,
            "padding": null,
            "right": null,
            "top": null,
            "visibility": null,
            "width": null
          }
        },
        "1d53c07a03604f7b8e1a5a13d0fae4b8": {
          "model_module": "@jupyter-widgets/controls",
          "model_module_version": "1.5.0",
          "model_name": "HTMLModel",
          "state": {
            "_dom_classes": [],
            "_model_module": "@jupyter-widgets/controls",
            "_model_module_version": "1.5.0",
            "_model_name": "HTMLModel",
            "_view_count": null,
            "_view_module": "@jupyter-widgets/controls",
            "_view_module_version": "1.5.0",
            "_view_name": "HTMLView",
            "description": "",
            "description_tooltip": null,
            "layout": "IPY_MODEL_c065bb3dca564e4898665d61dadfb4e7",
            "placeholder": "​",
            "style": "IPY_MODEL_dc1b69073390473cb91871c431b7f2b0",
            "value": ""
          }
        },
        "1fbaf5cc76e74ba59200fed4306e81fb": {
          "model_module": "@jupyter-widgets/controls",
          "model_module_version": "1.5.0",
          "model_name": "HTMLModel",
          "state": {
            "_dom_classes": [],
            "_model_module": "@jupyter-widgets/controls",
            "_model_module_version": "1.5.0",
            "_model_name": "HTMLModel",
            "_view_count": null,
            "_view_module": "@jupyter-widgets/controls",
            "_view_module_version": "1.5.0",
            "_view_name": "HTMLView",
            "description": "",
            "description_tooltip": null,
            "layout": "IPY_MODEL_acd5f702001f4f6b8685d22446bb725e",
            "placeholder": "​",
            "style": "IPY_MODEL_9ba758d4319f40fa9ee877ffaba31ff7",
            "value": "Dl Completed...: "
          }
        },
        "2224751bc7c14e7782874b08a7dcb9a5": {
          "model_module": "@jupyter-widgets/base",
          "model_module_version": "1.2.0",
          "model_name": "LayoutModel",
          "state": {
            "_model_module": "@jupyter-widgets/base",
            "_model_module_version": "1.2.0",
            "_model_name": "LayoutModel",
            "_view_count": null,
            "_view_module": "@jupyter-widgets/base",
            "_view_module_version": "1.2.0",
            "_view_name": "LayoutView",
            "align_content": null,
            "align_items": null,
            "align_self": null,
            "border": null,
            "bottom": null,
            "display": null,
            "flex": null,
            "flex_flow": null,
            "grid_area": null,
            "grid_auto_columns": null,
            "grid_auto_flow": null,
            "grid_auto_rows": null,
            "grid_column": null,
            "grid_gap": null,
            "grid_row": null,
            "grid_template_areas": null,
            "grid_template_columns": null,
            "grid_template_rows": null,
            "height": null,
            "justify_content": null,
            "justify_items": null,
            "left": null,
            "margin": null,
            "max_height": null,
            "max_width": null,
            "min_height": null,
            "min_width": null,
            "object_fit": null,
            "object_position": null,
            "order": null,
            "overflow": null,
            "overflow_x": null,
            "overflow_y": null,
            "padding": null,
            "right": null,
            "top": null,
            "visibility": null,
            "width": null
          }
        },
        "23d622aa50004da3b1e2e236350cba2b": {
          "model_module": "@jupyter-widgets/base",
          "model_module_version": "1.2.0",
          "model_name": "LayoutModel",
          "state": {
            "_model_module": "@jupyter-widgets/base",
            "_model_module_version": "1.2.0",
            "_model_name": "LayoutModel",
            "_view_count": null,
            "_view_module": "@jupyter-widgets/base",
            "_view_module_version": "1.2.0",
            "_view_name": "LayoutView",
            "align_content": null,
            "align_items": null,
            "align_self": null,
            "border": null,
            "bottom": null,
            "display": null,
            "flex": null,
            "flex_flow": null,
            "grid_area": null,
            "grid_auto_columns": null,
            "grid_auto_flow": null,
            "grid_auto_rows": null,
            "grid_column": null,
            "grid_gap": null,
            "grid_row": null,
            "grid_template_areas": null,
            "grid_template_columns": null,
            "grid_template_rows": null,
            "height": null,
            "justify_content": null,
            "justify_items": null,
            "left": null,
            "margin": null,
            "max_height": null,
            "max_width": null,
            "min_height": null,
            "min_width": null,
            "object_fit": null,
            "object_position": null,
            "order": null,
            "overflow": null,
            "overflow_x": null,
            "overflow_y": null,
            "padding": null,
            "right": null,
            "top": null,
            "visibility": null,
            "width": null
          }
        },
        "25a789e2082240e38841785a0ac9f08f": {
          "model_module": "@jupyter-widgets/controls",
          "model_module_version": "1.5.0",
          "model_name": "HTMLModel",
          "state": {
            "_dom_classes": [],
            "_model_module": "@jupyter-widgets/controls",
            "_model_module_version": "1.5.0",
            "_model_name": "HTMLModel",
            "_view_count": null,
            "_view_module": "@jupyter-widgets/controls",
            "_view_module_version": "1.5.0",
            "_view_name": "HTMLView",
            "description": "",
            "description_tooltip": null,
            "layout": "IPY_MODEL_1be60c6751f4423bb8f90ac3052202f2",
            "placeholder": "​",
            "style": "IPY_MODEL_1050b9195f494c799c869a56d87f8110",
            "value": "100%"
          }
        },
        "27e6099115b549d5a36480918d740e2e": {
          "model_module": "@jupyter-widgets/controls",
          "model_module_version": "1.5.0",
          "model_name": "HTMLModel",
          "state": {
            "_dom_classes": [],
            "_model_module": "@jupyter-widgets/controls",
            "_model_module_version": "1.5.0",
            "_model_name": "HTMLModel",
            "_view_count": null,
            "_view_module": "@jupyter-widgets/controls",
            "_view_module_version": "1.5.0",
            "_view_name": "HTMLView",
            "description": "",
            "description_tooltip": null,
            "layout": "IPY_MODEL_96429ca842d44fcb97604ce82a62f6ad",
            "placeholder": "​",
            "style": "IPY_MODEL_920b54aad20a40c29025dcd28755db7e",
            "value": " 7484/0 [00:02&lt;00:00, 4020.47 examples/s]"
          }
        },
        "2ac2dcc8d8764b1e9c4ecf3f5be26de1": {
          "model_module": "@jupyter-widgets/base",
          "model_module_version": "1.2.0",
          "model_name": "LayoutModel",
          "state": {
            "_model_module": "@jupyter-widgets/base",
            "_model_module_version": "1.2.0",
            "_model_name": "LayoutModel",
            "_view_count": null,
            "_view_module": "@jupyter-widgets/base",
            "_view_module_version": "1.2.0",
            "_view_name": "LayoutView",
            "align_content": null,
            "align_items": null,
            "align_self": null,
            "border": null,
            "bottom": null,
            "display": null,
            "flex": null,
            "flex_flow": null,
            "grid_area": null,
            "grid_auto_columns": null,
            "grid_auto_flow": null,
            "grid_auto_rows": null,
            "grid_column": null,
            "grid_gap": null,
            "grid_row": null,
            "grid_template_areas": null,
            "grid_template_columns": null,
            "grid_template_rows": null,
            "height": null,
            "justify_content": null,
            "justify_items": null,
            "left": null,
            "margin": null,
            "max_height": null,
            "max_width": null,
            "min_height": null,
            "min_width": null,
            "object_fit": null,
            "object_position": null,
            "order": null,
            "overflow": null,
            "overflow_x": null,
            "overflow_y": null,
            "padding": null,
            "right": null,
            "top": null,
            "visibility": null,
            "width": "20px"
          }
        },
        "30b7882053a245b1b5426255d1c19097": {
          "model_module": "@jupyter-widgets/controls",
          "model_module_version": "1.5.0",
          "model_name": "DescriptionStyleModel",
          "state": {
            "_model_module": "@jupyter-widgets/controls",
            "_model_module_version": "1.5.0",
            "_model_name": "DescriptionStyleModel",
            "_view_count": null,
            "_view_module": "@jupyter-widgets/base",
            "_view_module_version": "1.2.0",
            "_view_name": "StyleView",
            "description_width": ""
          }
        },
        "3383cad306fc4b38b9d6ef0442be889a": {
          "model_module": "@jupyter-widgets/controls",
          "model_module_version": "1.5.0",
          "model_name": "HTMLModel",
          "state": {
            "_dom_classes": [],
            "_model_module": "@jupyter-widgets/controls",
            "_model_module_version": "1.5.0",
            "_model_name": "HTMLModel",
            "_view_count": null,
            "_view_module": "@jupyter-widgets/controls",
            "_view_module_version": "1.5.0",
            "_view_name": "HTMLView",
            "description": "",
            "description_tooltip": null,
            "layout": "IPY_MODEL_7cca7dd7742c4317b2ca7a4dd4913473",
            "placeholder": "​",
            "style": "IPY_MODEL_b5e2dcb159dd4336b1ef6690d6a89fab",
            "value": " 1/1 [00:00&lt;00:00,  2.04 file/s]"
          }
        },
        "33a922d3903f45dfb64c07648c1ae02a": {
          "model_module": "@jupyter-widgets/controls",
          "model_module_version": "1.5.0",
          "model_name": "DescriptionStyleModel",
          "state": {
            "_model_module": "@jupyter-widgets/controls",
            "_model_module_version": "1.5.0",
            "_model_name": "DescriptionStyleModel",
            "_view_count": null,
            "_view_module": "@jupyter-widgets/base",
            "_view_module_version": "1.2.0",
            "_view_name": "StyleView",
            "description_width": ""
          }
        },
        "3a811fda6f814ffdbb812ff52aae1f94": {
          "model_module": "@jupyter-widgets/controls",
          "model_module_version": "1.5.0",
          "model_name": "FloatProgressModel",
          "state": {
            "_dom_classes": [],
            "_model_module": "@jupyter-widgets/controls",
            "_model_module_version": "1.5.0",
            "_model_name": "FloatProgressModel",
            "_view_count": null,
            "_view_module": "@jupyter-widgets/controls",
            "_view_module_version": "1.5.0",
            "_view_name": "ProgressView",
            "bar_style": "success",
            "description": "",
            "description_tooltip": null,
            "layout": "IPY_MODEL_e7b37fd6c6a44e629069ef70a983fea9",
            "max": 1,
            "min": 0,
            "orientation": "horizontal",
            "style": "IPY_MODEL_f1e735f8a3ed42688097af2e5b35232d",
            "value": 1
          }
        },
        "406d172ce3c741d1961c2ce31bee93e1": {
          "model_module": "@jupyter-widgets/base",
          "model_module_version": "1.2.0",
          "model_name": "LayoutModel",
          "state": {
            "_model_module": "@jupyter-widgets/base",
            "_model_module_version": "1.2.0",
            "_model_name": "LayoutModel",
            "_view_count": null,
            "_view_module": "@jupyter-widgets/base",
            "_view_module_version": "1.2.0",
            "_view_name": "LayoutView",
            "align_content": null,
            "align_items": null,
            "align_self": null,
            "border": null,
            "bottom": null,
            "display": null,
            "flex": null,
            "flex_flow": null,
            "grid_area": null,
            "grid_auto_columns": null,
            "grid_auto_flow": null,
            "grid_auto_rows": null,
            "grid_column": null,
            "grid_gap": null,
            "grid_row": null,
            "grid_template_areas": null,
            "grid_template_columns": null,
            "grid_template_rows": null,
            "height": null,
            "justify_content": null,
            "justify_items": null,
            "left": null,
            "margin": null,
            "max_height": null,
            "max_width": null,
            "min_height": null,
            "min_width": null,
            "object_fit": null,
            "object_position": null,
            "order": null,
            "overflow": null,
            "overflow_x": null,
            "overflow_y": null,
            "padding": null,
            "right": null,
            "top": null,
            "visibility": null,
            "width": null
          }
        },
        "46ed9cb354334886bf8bc30706bd4e5c": {
          "model_module": "@jupyter-widgets/base",
          "model_module_version": "1.2.0",
          "model_name": "LayoutModel",
          "state": {
            "_model_module": "@jupyter-widgets/base",
            "_model_module_version": "1.2.0",
            "_model_name": "LayoutModel",
            "_view_count": null,
            "_view_module": "@jupyter-widgets/base",
            "_view_module_version": "1.2.0",
            "_view_name": "LayoutView",
            "align_content": null,
            "align_items": null,
            "align_self": null,
            "border": null,
            "bottom": null,
            "display": null,
            "flex": null,
            "flex_flow": null,
            "grid_area": null,
            "grid_auto_columns": null,
            "grid_auto_flow": null,
            "grid_auto_rows": null,
            "grid_column": null,
            "grid_gap": null,
            "grid_row": null,
            "grid_template_areas": null,
            "grid_template_columns": null,
            "grid_template_rows": null,
            "height": null,
            "justify_content": null,
            "justify_items": null,
            "left": null,
            "margin": null,
            "max_height": null,
            "max_width": null,
            "min_height": null,
            "min_width": null,
            "object_fit": null,
            "object_position": null,
            "order": null,
            "overflow": null,
            "overflow_x": null,
            "overflow_y": null,
            "padding": null,
            "right": null,
            "top": null,
            "visibility": null,
            "width": null
          }
        },
        "4bb0b16fc92548e287599ccb224124a9": {
          "model_module": "@jupyter-widgets/controls",
          "model_module_version": "1.5.0",
          "model_name": "DescriptionStyleModel",
          "state": {
            "_model_module": "@jupyter-widgets/controls",
            "_model_module_version": "1.5.0",
            "_model_name": "DescriptionStyleModel",
            "_view_count": null,
            "_view_module": "@jupyter-widgets/base",
            "_view_module_version": "1.2.0",
            "_view_name": "StyleView",
            "description_width": ""
          }
        },
        "4ccc854f8a9f44e1b4bf71458b66ba15": {
          "model_module": "@jupyter-widgets/controls",
          "model_module_version": "1.5.0",
          "model_name": "HBoxModel",
          "state": {
            "_dom_classes": [],
            "_model_module": "@jupyter-widgets/controls",
            "_model_module_version": "1.5.0",
            "_model_name": "HBoxModel",
            "_view_count": null,
            "_view_module": "@jupyter-widgets/controls",
            "_view_module_version": "1.5.0",
            "_view_name": "HBoxView",
            "box_style": "",
            "children": [
              "IPY_MODEL_25a789e2082240e38841785a0ac9f08f",
              "IPY_MODEL_771849a2505c4fdd8a986b72efd56d86",
              "IPY_MODEL_90638b4f73564113903d1998b375e1a4"
            ],
            "layout": "IPY_MODEL_bcb1bdd1b12846e3b2ae3a1d7c654787"
          }
        },
        "4f76b04e38c4474c86ea000bc5ccd548": {
          "model_module": "@jupyter-widgets/base",
          "model_module_version": "1.2.0",
          "model_name": "LayoutModel",
          "state": {
            "_model_module": "@jupyter-widgets/base",
            "_model_module_version": "1.2.0",
            "_model_name": "LayoutModel",
            "_view_count": null,
            "_view_module": "@jupyter-widgets/base",
            "_view_module_version": "1.2.0",
            "_view_name": "LayoutView",
            "align_content": null,
            "align_items": null,
            "align_self": null,
            "border": null,
            "bottom": null,
            "display": null,
            "flex": null,
            "flex_flow": null,
            "grid_area": null,
            "grid_auto_columns": null,
            "grid_auto_flow": null,
            "grid_auto_rows": null,
            "grid_column": null,
            "grid_gap": null,
            "grid_row": null,
            "grid_template_areas": null,
            "grid_template_columns": null,
            "grid_template_rows": null,
            "height": null,
            "justify_content": null,
            "justify_items": null,
            "left": null,
            "margin": null,
            "max_height": null,
            "max_width": null,
            "min_height": null,
            "min_width": null,
            "object_fit": null,
            "object_position": null,
            "order": null,
            "overflow": null,
            "overflow_x": null,
            "overflow_y": null,
            "padding": null,
            "right": null,
            "top": null,
            "visibility": null,
            "width": null
          }
        },
        "50ca49c0ef394296a5bb42bdc7986d7a": {
          "model_module": "@jupyter-widgets/base",
          "model_module_version": "1.2.0",
          "model_name": "LayoutModel",
          "state": {
            "_model_module": "@jupyter-widgets/base",
            "_model_module_version": "1.2.0",
            "_model_name": "LayoutModel",
            "_view_count": null,
            "_view_module": "@jupyter-widgets/base",
            "_view_module_version": "1.2.0",
            "_view_name": "LayoutView",
            "align_content": null,
            "align_items": null,
            "align_self": null,
            "border": null,
            "bottom": null,
            "display": null,
            "flex": null,
            "flex_flow": null,
            "grid_area": null,
            "grid_auto_columns": null,
            "grid_auto_flow": null,
            "grid_auto_rows": null,
            "grid_column": null,
            "grid_gap": null,
            "grid_row": null,
            "grid_template_areas": null,
            "grid_template_columns": null,
            "grid_template_rows": null,
            "height": null,
            "justify_content": null,
            "justify_items": null,
            "left": null,
            "margin": null,
            "max_height": null,
            "max_width": null,
            "min_height": null,
            "min_width": null,
            "object_fit": null,
            "object_position": null,
            "order": null,
            "overflow": null,
            "overflow_x": null,
            "overflow_y": null,
            "padding": null,
            "right": null,
            "top": null,
            "visibility": null,
            "width": "20px"
          }
        },
        "52b667405d894c2b8c8e2b252f015a43": {
          "model_module": "@jupyter-widgets/controls",
          "model_module_version": "1.5.0",
          "model_name": "HBoxModel",
          "state": {
            "_dom_classes": [],
            "_model_module": "@jupyter-widgets/controls",
            "_model_module_version": "1.5.0",
            "_model_name": "HBoxModel",
            "_view_count": null,
            "_view_module": "@jupyter-widgets/controls",
            "_view_module_version": "1.5.0",
            "_view_name": "HBoxView",
            "box_style": "",
            "children": [
              "IPY_MODEL_9c6001d336ab4159bcc5e8d0b9d2b08e",
              "IPY_MODEL_6d1f6ae6e2744f789a2287954bf718a2",
              "IPY_MODEL_ef9769cf4c684cc497299bc7f7454ce9"
            ],
            "layout": "IPY_MODEL_64e80c976da94a159e2db4a621f99bb7"
          }
        },
        "535e5ad0df6449c5b7f3adc479e84f1e": {
          "model_module": "@jupyter-widgets/base",
          "model_module_version": "1.2.0",
          "model_name": "LayoutModel",
          "state": {
            "_model_module": "@jupyter-widgets/base",
            "_model_module_version": "1.2.0",
            "_model_name": "LayoutModel",
            "_view_count": null,
            "_view_module": "@jupyter-widgets/base",
            "_view_module_version": "1.2.0",
            "_view_name": "LayoutView",
            "align_content": null,
            "align_items": null,
            "align_self": null,
            "border": null,
            "bottom": null,
            "display": null,
            "flex": null,
            "flex_flow": null,
            "grid_area": null,
            "grid_auto_columns": null,
            "grid_auto_flow": null,
            "grid_auto_rows": null,
            "grid_column": null,
            "grid_gap": null,
            "grid_row": null,
            "grid_template_areas": null,
            "grid_template_columns": null,
            "grid_template_rows": null,
            "height": null,
            "justify_content": null,
            "justify_items": null,
            "left": null,
            "margin": null,
            "max_height": null,
            "max_width": null,
            "min_height": null,
            "min_width": null,
            "object_fit": null,
            "object_position": null,
            "order": null,
            "overflow": null,
            "overflow_x": null,
            "overflow_y": null,
            "padding": null,
            "right": null,
            "top": null,
            "visibility": null,
            "width": "20px"
          }
        },
        "542bfdf46d694f9db1a5d79038fe1379": {
          "model_module": "@jupyter-widgets/controls",
          "model_module_version": "1.5.0",
          "model_name": "HTMLModel",
          "state": {
            "_dom_classes": [],
            "_model_module": "@jupyter-widgets/controls",
            "_model_module_version": "1.5.0",
            "_model_name": "HTMLModel",
            "_view_count": null,
            "_view_module": "@jupyter-widgets/controls",
            "_view_module_version": "1.5.0",
            "_view_name": "HTMLView",
            "description": "",
            "description_tooltip": null,
            "layout": "IPY_MODEL_0ec50a9b43b741ab80e04c5b6db4ccba",
            "placeholder": "​",
            "style": "IPY_MODEL_f7e485c83e3046888476c7af3c6c4deb",
            "value": " 0/0 [00:00&lt;?, ? MiB/s]"
          }
        },
        "550ed7e135e9468588ab4e0ac558cb1b": {
          "model_module": "@jupyter-widgets/controls",
          "model_module_version": "1.5.0",
          "model_name": "ProgressStyleModel",
          "state": {
            "_model_module": "@jupyter-widgets/controls",
            "_model_module_version": "1.5.0",
            "_model_name": "ProgressStyleModel",
            "_view_count": null,
            "_view_module": "@jupyter-widgets/base",
            "_view_module_version": "1.2.0",
            "_view_name": "StyleView",
            "bar_color": null,
            "description_width": ""
          }
        },
        "55956ac110c64982ae5460f6014cab68": {
          "model_module": "@jupyter-widgets/controls",
          "model_module_version": "1.5.0",
          "model_name": "DescriptionStyleModel",
          "state": {
            "_model_module": "@jupyter-widgets/controls",
            "_model_module_version": "1.5.0",
            "_model_name": "DescriptionStyleModel",
            "_view_count": null,
            "_view_module": "@jupyter-widgets/base",
            "_view_module_version": "1.2.0",
            "_view_name": "StyleView",
            "description_width": ""
          }
        },
        "567a27466d85457b9a1195fd78aec874": {
          "model_module": "@jupyter-widgets/controls",
          "model_module_version": "1.5.0",
          "model_name": "DescriptionStyleModel",
          "state": {
            "_model_module": "@jupyter-widgets/controls",
            "_model_module_version": "1.5.0",
            "_model_name": "DescriptionStyleModel",
            "_view_count": null,
            "_view_module": "@jupyter-widgets/base",
            "_view_module_version": "1.2.0",
            "_view_name": "StyleView",
            "description_width": ""
          }
        },
        "5c95e59b95ee4733892eaec96d4ac862": {
          "model_module": "@jupyter-widgets/base",
          "model_module_version": "1.2.0",
          "model_name": "LayoutModel",
          "state": {
            "_model_module": "@jupyter-widgets/base",
            "_model_module_version": "1.2.0",
            "_model_name": "LayoutModel",
            "_view_count": null,
            "_view_module": "@jupyter-widgets/base",
            "_view_module_version": "1.2.0",
            "_view_name": "LayoutView",
            "align_content": null,
            "align_items": null,
            "align_self": null,
            "border": null,
            "bottom": null,
            "display": null,
            "flex": null,
            "flex_flow": null,
            "grid_area": null,
            "grid_auto_columns": null,
            "grid_auto_flow": null,
            "grid_auto_rows": null,
            "grid_column": null,
            "grid_gap": null,
            "grid_row": null,
            "grid_template_areas": null,
            "grid_template_columns": null,
            "grid_template_rows": null,
            "height": null,
            "justify_content": null,
            "justify_items": null,
            "left": null,
            "margin": null,
            "max_height": null,
            "max_width": null,
            "min_height": null,
            "min_width": null,
            "object_fit": null,
            "object_position": null,
            "order": null,
            "overflow": null,
            "overflow_x": null,
            "overflow_y": null,
            "padding": null,
            "right": null,
            "top": null,
            "visibility": null,
            "width": null
          }
        },
        "602f4db5c7cb4654bdb81c29fa153c3f": {
          "model_module": "@jupyter-widgets/controls",
          "model_module_version": "1.5.0",
          "model_name": "HBoxModel",
          "state": {
            "_dom_classes": [],
            "_model_module": "@jupyter-widgets/controls",
            "_model_module_version": "1.5.0",
            "_model_name": "HBoxModel",
            "_view_count": null,
            "_view_module": "@jupyter-widgets/controls",
            "_view_module_version": "1.5.0",
            "_view_name": "HBoxView",
            "box_style": "",
            "children": [
              "IPY_MODEL_b6e2ac31cc7a4349b970ee9657d7b5e3",
              "IPY_MODEL_3a811fda6f814ffdbb812ff52aae1f94",
              "IPY_MODEL_3383cad306fc4b38b9d6ef0442be889a"
            ],
            "layout": "IPY_MODEL_ddeb3188d620452a96378a243d508c7e"
          }
        },
        "64e80c976da94a159e2db4a621f99bb7": {
          "model_module": "@jupyter-widgets/base",
          "model_module_version": "1.2.0",
          "model_name": "LayoutModel",
          "state": {
            "_model_module": "@jupyter-widgets/base",
            "_model_module_version": "1.2.0",
            "_model_name": "LayoutModel",
            "_view_count": null,
            "_view_module": "@jupyter-widgets/base",
            "_view_module_version": "1.2.0",
            "_view_name": "LayoutView",
            "align_content": null,
            "align_items": null,
            "align_self": null,
            "border": null,
            "bottom": null,
            "display": null,
            "flex": null,
            "flex_flow": null,
            "grid_area": null,
            "grid_auto_columns": null,
            "grid_auto_flow": null,
            "grid_auto_rows": null,
            "grid_column": null,
            "grid_gap": null,
            "grid_row": null,
            "grid_template_areas": null,
            "grid_template_columns": null,
            "grid_template_rows": null,
            "height": null,
            "justify_content": null,
            "justify_items": null,
            "left": null,
            "margin": null,
            "max_height": null,
            "max_width": null,
            "min_height": null,
            "min_width": null,
            "object_fit": null,
            "object_position": null,
            "order": null,
            "overflow": null,
            "overflow_x": null,
            "overflow_y": null,
            "padding": null,
            "right": null,
            "top": null,
            "visibility": null,
            "width": null
          }
        },
        "6d1f6ae6e2744f789a2287954bf718a2": {
          "model_module": "@jupyter-widgets/controls",
          "model_module_version": "1.5.0",
          "model_name": "FloatProgressModel",
          "state": {
            "_dom_classes": [],
            "_model_module": "@jupyter-widgets/controls",
            "_model_module_version": "1.5.0",
            "_model_name": "FloatProgressModel",
            "_view_count": null,
            "_view_module": "@jupyter-widgets/controls",
            "_view_module_version": "1.5.0",
            "_view_name": "ProgressView",
            "bar_style": "info",
            "description": "",
            "description_tooltip": null,
            "layout": "IPY_MODEL_2ac2dcc8d8764b1e9c4ecf3f5be26de1",
            "max": 1,
            "min": 0,
            "orientation": "horizontal",
            "style": "IPY_MODEL_550ed7e135e9468588ab4e0ac558cb1b",
            "value": 1
          }
        },
        "6fb1b52061214279b172c849c96d4083": {
          "model_module": "@jupyter-widgets/controls",
          "model_module_version": "1.5.0",
          "model_name": "FloatProgressModel",
          "state": {
            "_dom_classes": [],
            "_model_module": "@jupyter-widgets/controls",
            "_model_module_version": "1.5.0",
            "_model_name": "FloatProgressModel",
            "_view_count": null,
            "_view_module": "@jupyter-widgets/controls",
            "_view_module_version": "1.5.0",
            "_view_name": "ProgressView",
            "bar_style": "danger",
            "description": "",
            "description_tooltip": null,
            "layout": "IPY_MODEL_f09cec286fec4970b07d72e1b33a0338",
            "max": 120000,
            "min": 0,
            "orientation": "horizontal",
            "style": "IPY_MODEL_f61d00b20c7c4923a6d7b22a3f34da9d",
            "value": 119999
          }
        },
        "75b45115637042518ca5193705339bef": {
          "model_module": "@jupyter-widgets/controls",
          "model_module_version": "1.5.0",
          "model_name": "FloatProgressModel",
          "state": {
            "_dom_classes": [],
            "_model_module": "@jupyter-widgets/controls",
            "_model_module_version": "1.5.0",
            "_model_name": "FloatProgressModel",
            "_view_count": null,
            "_view_module": "@jupyter-widgets/controls",
            "_view_module_version": "1.5.0",
            "_view_name": "ProgressView",
            "bar_style": "info",
            "description": "",
            "description_tooltip": null,
            "layout": "IPY_MODEL_535e5ad0df6449c5b7f3adc479e84f1e",
            "max": 1,
            "min": 0,
            "orientation": "horizontal",
            "style": "IPY_MODEL_93190797c7e044b7b94580d2f37fde10",
            "value": 1
          }
        },
        "771849a2505c4fdd8a986b72efd56d86": {
          "model_module": "@jupyter-widgets/controls",
          "model_module_version": "1.5.0",
          "model_name": "FloatProgressModel",
          "state": {
            "_dom_classes": [],
            "_model_module": "@jupyter-widgets/controls",
            "_model_module_version": "1.5.0",
            "_model_name": "FloatProgressModel",
            "_view_count": null,
            "_view_module": "@jupyter-widgets/controls",
            "_view_module_version": "1.5.0",
            "_view_name": "ProgressView",
            "bar_style": "danger",
            "description": "",
            "description_tooltip": null,
            "layout": "IPY_MODEL_d0636ae6a10144d7944ddb0917d0dd4f",
            "max": 7600,
            "min": 0,
            "orientation": "horizontal",
            "style": "IPY_MODEL_92472e5a396a445f993b167b302d8b5f",
            "value": 7599
          }
        },
        "784c675cdf9746f488e6fc8a7db0441b": {
          "model_module": "@jupyter-widgets/controls",
          "model_module_version": "1.5.0",
          "model_name": "FloatProgressModel",
          "state": {
            "_dom_classes": [],
            "_model_module": "@jupyter-widgets/controls",
            "_model_module_version": "1.5.0",
            "_model_name": "FloatProgressModel",
            "_view_count": null,
            "_view_module": "@jupyter-widgets/controls",
            "_view_module_version": "1.5.0",
            "_view_name": "ProgressView",
            "bar_style": "success",
            "description": "",
            "description_tooltip": null,
            "layout": "IPY_MODEL_50ca49c0ef394296a5bb42bdc7986d7a",
            "max": 1,
            "min": 0,
            "orientation": "horizontal",
            "style": "IPY_MODEL_bfb6d44848ba43acb73fb6344300f8c7",
            "value": 0
          }
        },
        "7cca7dd7742c4317b2ca7a4dd4913473": {
          "model_module": "@jupyter-widgets/base",
          "model_module_version": "1.2.0",
          "model_name": "LayoutModel",
          "state": {
            "_model_module": "@jupyter-widgets/base",
            "_model_module_version": "1.2.0",
            "_model_name": "LayoutModel",
            "_view_count": null,
            "_view_module": "@jupyter-widgets/base",
            "_view_module_version": "1.2.0",
            "_view_name": "LayoutView",
            "align_content": null,
            "align_items": null,
            "align_self": null,
            "border": null,
            "bottom": null,
            "display": null,
            "flex": null,
            "flex_flow": null,
            "grid_area": null,
            "grid_auto_columns": null,
            "grid_auto_flow": null,
            "grid_auto_rows": null,
            "grid_column": null,
            "grid_gap": null,
            "grid_row": null,
            "grid_template_areas": null,
            "grid_template_columns": null,
            "grid_template_rows": null,
            "height": null,
            "justify_content": null,
            "justify_items": null,
            "left": null,
            "margin": null,
            "max_height": null,
            "max_width": null,
            "min_height": null,
            "min_width": null,
            "object_fit": null,
            "object_position": null,
            "order": null,
            "overflow": null,
            "overflow_x": null,
            "overflow_y": null,
            "padding": null,
            "right": null,
            "top": null,
            "visibility": null,
            "width": null
          }
        },
        "7feb9ce154a84f2fa9ca1f2e427a92cb": {
          "model_module": "@jupyter-widgets/controls",
          "model_module_version": "1.5.0",
          "model_name": "HBoxModel",
          "state": {
            "_dom_classes": [],
            "_model_module": "@jupyter-widgets/controls",
            "_model_module_version": "1.5.0",
            "_model_name": "HBoxModel",
            "_view_count": null,
            "_view_module": "@jupyter-widgets/controls",
            "_view_module_version": "1.5.0",
            "_view_name": "HBoxView",
            "box_style": "",
            "children": [
              "IPY_MODEL_1d53c07a03604f7b8e1a5a13d0fae4b8",
              "IPY_MODEL_75b45115637042518ca5193705339bef",
              "IPY_MODEL_27e6099115b549d5a36480918d740e2e"
            ],
            "layout": "IPY_MODEL_c7541037409f4021b4d84ea712513a63"
          }
        },
        "855c65e228684e78803ccdf4962b30fd": {
          "model_module": "@jupyter-widgets/controls",
          "model_module_version": "1.5.0",
          "model_name": "HTMLModel",
          "state": {
            "_dom_classes": [],
            "_model_module": "@jupyter-widgets/controls",
            "_model_module_version": "1.5.0",
            "_model_name": "HTMLModel",
            "_view_count": null,
            "_view_module": "@jupyter-widgets/controls",
            "_view_module_version": "1.5.0",
            "_view_name": "HTMLView",
            "description": "",
            "description_tooltip": null,
            "layout": "IPY_MODEL_5c95e59b95ee4733892eaec96d4ac862",
            "placeholder": "​",
            "style": "IPY_MODEL_33a922d3903f45dfb64c07648c1ae02a",
            "value": "100%"
          }
        },
        "8b021d21f42041508ddde19db40509ef": {
          "model_module": "@jupyter-widgets/base",
          "model_module_version": "1.2.0",
          "model_name": "LayoutModel",
          "state": {
            "_model_module": "@jupyter-widgets/base",
            "_model_module_version": "1.2.0",
            "_model_name": "LayoutModel",
            "_view_count": null,
            "_view_module": "@jupyter-widgets/base",
            "_view_module_version": "1.2.0",
            "_view_name": "LayoutView",
            "align_content": null,
            "align_items": null,
            "align_self": null,
            "border": null,
            "bottom": null,
            "display": null,
            "flex": null,
            "flex_flow": null,
            "grid_area": null,
            "grid_auto_columns": null,
            "grid_auto_flow": null,
            "grid_auto_rows": null,
            "grid_column": null,
            "grid_gap": null,
            "grid_row": null,
            "grid_template_areas": null,
            "grid_template_columns": null,
            "grid_template_rows": null,
            "height": null,
            "justify_content": null,
            "justify_items": null,
            "left": null,
            "margin": null,
            "max_height": null,
            "max_width": null,
            "min_height": null,
            "min_width": null,
            "object_fit": null,
            "object_position": null,
            "order": null,
            "overflow": null,
            "overflow_x": null,
            "overflow_y": null,
            "padding": null,
            "right": null,
            "top": null,
            "visibility": null,
            "width": null
          }
        },
        "90638b4f73564113903d1998b375e1a4": {
          "model_module": "@jupyter-widgets/controls",
          "model_module_version": "1.5.0",
          "model_name": "HTMLModel",
          "state": {
            "_dom_classes": [],
            "_model_module": "@jupyter-widgets/controls",
            "_model_module_version": "1.5.0",
            "_model_name": "HTMLModel",
            "_view_count": null,
            "_view_module": "@jupyter-widgets/controls",
            "_view_module_version": "1.5.0",
            "_view_name": "HTMLView",
            "description": "",
            "description_tooltip": null,
            "layout": "IPY_MODEL_23d622aa50004da3b1e2e236350cba2b",
            "placeholder": "​",
            "style": "IPY_MODEL_30b7882053a245b1b5426255d1c19097",
            "value": " 7599/7600 [00:00&lt;00:00, 81824.90 examples/s]"
          }
        },
        "920b54aad20a40c29025dcd28755db7e": {
          "model_module": "@jupyter-widgets/controls",
          "model_module_version": "1.5.0",
          "model_name": "DescriptionStyleModel",
          "state": {
            "_model_module": "@jupyter-widgets/controls",
            "_model_module_version": "1.5.0",
            "_model_name": "DescriptionStyleModel",
            "_view_count": null,
            "_view_module": "@jupyter-widgets/base",
            "_view_module_version": "1.2.0",
            "_view_name": "StyleView",
            "description_width": ""
          }
        },
        "92472e5a396a445f993b167b302d8b5f": {
          "model_module": "@jupyter-widgets/controls",
          "model_module_version": "1.5.0",
          "model_name": "ProgressStyleModel",
          "state": {
            "_model_module": "@jupyter-widgets/controls",
            "_model_module_version": "1.5.0",
            "_model_name": "ProgressStyleModel",
            "_view_count": null,
            "_view_module": "@jupyter-widgets/base",
            "_view_module_version": "1.2.0",
            "_view_name": "StyleView",
            "bar_color": null,
            "description_width": ""
          }
        },
        "93190797c7e044b7b94580d2f37fde10": {
          "model_module": "@jupyter-widgets/controls",
          "model_module_version": "1.5.0",
          "model_name": "ProgressStyleModel",
          "state": {
            "_model_module": "@jupyter-widgets/controls",
            "_model_module_version": "1.5.0",
            "_model_name": "ProgressStyleModel",
            "_view_count": null,
            "_view_module": "@jupyter-widgets/base",
            "_view_module_version": "1.2.0",
            "_view_name": "StyleView",
            "bar_color": null,
            "description_width": ""
          }
        },
        "96429ca842d44fcb97604ce82a62f6ad": {
          "model_module": "@jupyter-widgets/base",
          "model_module_version": "1.2.0",
          "model_name": "LayoutModel",
          "state": {
            "_model_module": "@jupyter-widgets/base",
            "_model_module_version": "1.2.0",
            "_model_name": "LayoutModel",
            "_view_count": null,
            "_view_module": "@jupyter-widgets/base",
            "_view_module_version": "1.2.0",
            "_view_name": "LayoutView",
            "align_content": null,
            "align_items": null,
            "align_self": null,
            "border": null,
            "bottom": null,
            "display": null,
            "flex": null,
            "flex_flow": null,
            "grid_area": null,
            "grid_auto_columns": null,
            "grid_auto_flow": null,
            "grid_auto_rows": null,
            "grid_column": null,
            "grid_gap": null,
            "grid_row": null,
            "grid_template_areas": null,
            "grid_template_columns": null,
            "grid_template_rows": null,
            "height": null,
            "justify_content": null,
            "justify_items": null,
            "left": null,
            "margin": null,
            "max_height": null,
            "max_width": null,
            "min_height": null,
            "min_width": null,
            "object_fit": null,
            "object_position": null,
            "order": null,
            "overflow": null,
            "overflow_x": null,
            "overflow_y": null,
            "padding": null,
            "right": null,
            "top": null,
            "visibility": null,
            "width": null
          }
        },
        "9ad73e6094da4c81a96215a270659b64": {
          "model_module": "@jupyter-widgets/controls",
          "model_module_version": "1.5.0",
          "model_name": "HBoxModel",
          "state": {
            "_dom_classes": [],
            "_model_module": "@jupyter-widgets/controls",
            "_model_module_version": "1.5.0",
            "_model_name": "HBoxModel",
            "_view_count": null,
            "_view_module": "@jupyter-widgets/controls",
            "_view_module_version": "1.5.0",
            "_view_name": "HBoxView",
            "box_style": "",
            "children": [
              "IPY_MODEL_0028e2cb58524756a6a5ed611033601d",
              "IPY_MODEL_784c675cdf9746f488e6fc8a7db0441b",
              "IPY_MODEL_542bfdf46d694f9db1a5d79038fe1379"
            ],
            "layout": "IPY_MODEL_fb66bbf6d35346e9bbc75b77f8c8a73e"
          }
        },
        "9ba758d4319f40fa9ee877ffaba31ff7": {
          "model_module": "@jupyter-widgets/controls",
          "model_module_version": "1.5.0",
          "model_name": "DescriptionStyleModel",
          "state": {
            "_model_module": "@jupyter-widgets/controls",
            "_model_module_version": "1.5.0",
            "_model_name": "DescriptionStyleModel",
            "_view_count": null,
            "_view_module": "@jupyter-widgets/base",
            "_view_module_version": "1.2.0",
            "_view_name": "StyleView",
            "description_width": ""
          }
        },
        "9c6001d336ab4159bcc5e8d0b9d2b08e": {
          "model_module": "@jupyter-widgets/controls",
          "model_module_version": "1.5.0",
          "model_name": "HTMLModel",
          "state": {
            "_dom_classes": [],
            "_model_module": "@jupyter-widgets/controls",
            "_model_module_version": "1.5.0",
            "_model_name": "HTMLModel",
            "_view_count": null,
            "_view_module": "@jupyter-widgets/controls",
            "_view_module_version": "1.5.0",
            "_view_name": "HTMLView",
            "description": "",
            "description_tooltip": null,
            "layout": "IPY_MODEL_46ed9cb354334886bf8bc30706bd4e5c",
            "placeholder": "​",
            "style": "IPY_MODEL_bae7550f90ac43f8a4425b975156ef99",
            "value": ""
          }
        },
        "a402411e14b04363b3c0e6fa6d4ef4d0": {
          "model_module": "@jupyter-widgets/controls",
          "model_module_version": "1.5.0",
          "model_name": "FloatProgressModel",
          "state": {
            "_dom_classes": [],
            "_model_module": "@jupyter-widgets/controls",
            "_model_module_version": "1.5.0",
            "_model_name": "FloatProgressModel",
            "_view_count": null,
            "_view_module": "@jupyter-widgets/controls",
            "_view_module_version": "1.5.0",
            "_view_name": "ProgressView",
            "bar_style": "success",
            "description": "",
            "description_tooltip": null,
            "layout": "IPY_MODEL_09add4f54e37411b9d7e5be54e385dc6",
            "max": 1,
            "min": 0,
            "orientation": "horizontal",
            "style": "IPY_MODEL_dfdb959acda340ce851d35369548c6fd",
            "value": 0
          }
        },
        "acd5f702001f4f6b8685d22446bb725e": {
          "model_module": "@jupyter-widgets/base",
          "model_module_version": "1.2.0",
          "model_name": "LayoutModel",
          "state": {
            "_model_module": "@jupyter-widgets/base",
            "_model_module_version": "1.2.0",
            "_model_name": "LayoutModel",
            "_view_count": null,
            "_view_module": "@jupyter-widgets/base",
            "_view_module_version": "1.2.0",
            "_view_name": "LayoutView",
            "align_content": null,
            "align_items": null,
            "align_self": null,
            "border": null,
            "bottom": null,
            "display": null,
            "flex": null,
            "flex_flow": null,
            "grid_area": null,
            "grid_auto_columns": null,
            "grid_auto_flow": null,
            "grid_auto_rows": null,
            "grid_column": null,
            "grid_gap": null,
            "grid_row": null,
            "grid_template_areas": null,
            "grid_template_columns": null,
            "grid_template_rows": null,
            "height": null,
            "justify_content": null,
            "justify_items": null,
            "left": null,
            "margin": null,
            "max_height": null,
            "max_width": null,
            "min_height": null,
            "min_width": null,
            "object_fit": null,
            "object_position": null,
            "order": null,
            "overflow": null,
            "overflow_x": null,
            "overflow_y": null,
            "padding": null,
            "right": null,
            "top": null,
            "visibility": null,
            "width": null
          }
        },
        "af1bb8ef02964978af68513c50aff9ec": {
          "model_module": "@jupyter-widgets/controls",
          "model_module_version": "1.5.0",
          "model_name": "HTMLModel",
          "state": {
            "_dom_classes": [],
            "_model_module": "@jupyter-widgets/controls",
            "_model_module_version": "1.5.0",
            "_model_name": "HTMLModel",
            "_view_count": null,
            "_view_module": "@jupyter-widgets/controls",
            "_view_module_version": "1.5.0",
            "_view_name": "HTMLView",
            "description": "",
            "description_tooltip": null,
            "layout": "IPY_MODEL_e6d49556c4ff4845ae2653e9cd4137ce",
            "placeholder": "​",
            "style": "IPY_MODEL_f8a89c9530ea4a9e9430d9275edccc95",
            "value": " 119999/120000 [00:00&lt;00:00, 231841.35 examples/s]"
          }
        },
        "b5e2dcb159dd4336b1ef6690d6a89fab": {
          "model_module": "@jupyter-widgets/controls",
          "model_module_version": "1.5.0",
          "model_name": "DescriptionStyleModel",
          "state": {
            "_model_module": "@jupyter-widgets/controls",
            "_model_module_version": "1.5.0",
            "_model_name": "DescriptionStyleModel",
            "_view_count": null,
            "_view_module": "@jupyter-widgets/base",
            "_view_module_version": "1.2.0",
            "_view_name": "StyleView",
            "description_width": ""
          }
        },
        "b6e2ac31cc7a4349b970ee9657d7b5e3": {
          "model_module": "@jupyter-widgets/controls",
          "model_module_version": "1.5.0",
          "model_name": "HTMLModel",
          "state": {
            "_dom_classes": [],
            "_model_module": "@jupyter-widgets/controls",
            "_model_module_version": "1.5.0",
            "_model_name": "HTMLModel",
            "_view_count": null,
            "_view_module": "@jupyter-widgets/controls",
            "_view_module_version": "1.5.0",
            "_view_name": "HTMLView",
            "description": "",
            "description_tooltip": null,
            "layout": "IPY_MODEL_19f271b783984b86ad249b19e21661ec",
            "placeholder": "​",
            "style": "IPY_MODEL_4bb0b16fc92548e287599ccb224124a9",
            "value": "Extraction completed...: 100%"
          }
        },
        "b7193cad16c84193bbcbf26567cba9c4": {
          "model_module": "@jupyter-widgets/controls",
          "model_module_version": "1.5.0",
          "model_name": "HBoxModel",
          "state": {
            "_dom_classes": [],
            "_model_module": "@jupyter-widgets/controls",
            "_model_module_version": "1.5.0",
            "_model_name": "HBoxModel",
            "_view_count": null,
            "_view_module": "@jupyter-widgets/controls",
            "_view_module_version": "1.5.0",
            "_view_name": "HBoxView",
            "box_style": "",
            "children": [
              "IPY_MODEL_855c65e228684e78803ccdf4962b30fd",
              "IPY_MODEL_6fb1b52061214279b172c849c96d4083",
              "IPY_MODEL_af1bb8ef02964978af68513c50aff9ec"
            ],
            "layout": "IPY_MODEL_4f76b04e38c4474c86ea000bc5ccd548"
          }
        },
        "bae7550f90ac43f8a4425b975156ef99": {
          "model_module": "@jupyter-widgets/controls",
          "model_module_version": "1.5.0",
          "model_name": "DescriptionStyleModel",
          "state": {
            "_model_module": "@jupyter-widgets/controls",
            "_model_module_version": "1.5.0",
            "_model_name": "DescriptionStyleModel",
            "_view_count": null,
            "_view_module": "@jupyter-widgets/base",
            "_view_module_version": "1.2.0",
            "_view_name": "StyleView",
            "description_width": ""
          }
        },
        "bcb1bdd1b12846e3b2ae3a1d7c654787": {
          "model_module": "@jupyter-widgets/base",
          "model_module_version": "1.2.0",
          "model_name": "LayoutModel",
          "state": {
            "_model_module": "@jupyter-widgets/base",
            "_model_module_version": "1.2.0",
            "_model_name": "LayoutModel",
            "_view_count": null,
            "_view_module": "@jupyter-widgets/base",
            "_view_module_version": "1.2.0",
            "_view_name": "LayoutView",
            "align_content": null,
            "align_items": null,
            "align_self": null,
            "border": null,
            "bottom": null,
            "display": null,
            "flex": null,
            "flex_flow": null,
            "grid_area": null,
            "grid_auto_columns": null,
            "grid_auto_flow": null,
            "grid_auto_rows": null,
            "grid_column": null,
            "grid_gap": null,
            "grid_row": null,
            "grid_template_areas": null,
            "grid_template_columns": null,
            "grid_template_rows": null,
            "height": null,
            "justify_content": null,
            "justify_items": null,
            "left": null,
            "margin": null,
            "max_height": null,
            "max_width": null,
            "min_height": null,
            "min_width": null,
            "object_fit": null,
            "object_position": null,
            "order": null,
            "overflow": null,
            "overflow_x": null,
            "overflow_y": null,
            "padding": null,
            "right": null,
            "top": null,
            "visibility": null,
            "width": null
          }
        },
        "bfb6d44848ba43acb73fb6344300f8c7": {
          "model_module": "@jupyter-widgets/controls",
          "model_module_version": "1.5.0",
          "model_name": "ProgressStyleModel",
          "state": {
            "_model_module": "@jupyter-widgets/controls",
            "_model_module_version": "1.5.0",
            "_model_name": "ProgressStyleModel",
            "_view_count": null,
            "_view_module": "@jupyter-widgets/base",
            "_view_module_version": "1.2.0",
            "_view_name": "StyleView",
            "bar_color": null,
            "description_width": ""
          }
        },
        "c065bb3dca564e4898665d61dadfb4e7": {
          "model_module": "@jupyter-widgets/base",
          "model_module_version": "1.2.0",
          "model_name": "LayoutModel",
          "state": {
            "_model_module": "@jupyter-widgets/base",
            "_model_module_version": "1.2.0",
            "_model_name": "LayoutModel",
            "_view_count": null,
            "_view_module": "@jupyter-widgets/base",
            "_view_module_version": "1.2.0",
            "_view_name": "LayoutView",
            "align_content": null,
            "align_items": null,
            "align_self": null,
            "border": null,
            "bottom": null,
            "display": null,
            "flex": null,
            "flex_flow": null,
            "grid_area": null,
            "grid_auto_columns": null,
            "grid_auto_flow": null,
            "grid_auto_rows": null,
            "grid_column": null,
            "grid_gap": null,
            "grid_row": null,
            "grid_template_areas": null,
            "grid_template_columns": null,
            "grid_template_rows": null,
            "height": null,
            "justify_content": null,
            "justify_items": null,
            "left": null,
            "margin": null,
            "max_height": null,
            "max_width": null,
            "min_height": null,
            "min_width": null,
            "object_fit": null,
            "object_position": null,
            "order": null,
            "overflow": null,
            "overflow_x": null,
            "overflow_y": null,
            "padding": null,
            "right": null,
            "top": null,
            "visibility": null,
            "width": null
          }
        },
        "c731875c4a9c4fdf9d74402895f882c7": {
          "model_module": "@jupyter-widgets/controls",
          "model_module_version": "1.5.0",
          "model_name": "DescriptionStyleModel",
          "state": {
            "_model_module": "@jupyter-widgets/controls",
            "_model_module_version": "1.5.0",
            "_model_name": "DescriptionStyleModel",
            "_view_count": null,
            "_view_module": "@jupyter-widgets/base",
            "_view_module_version": "1.2.0",
            "_view_name": "StyleView",
            "description_width": ""
          }
        },
        "c7541037409f4021b4d84ea712513a63": {
          "model_module": "@jupyter-widgets/base",
          "model_module_version": "1.2.0",
          "model_name": "LayoutModel",
          "state": {
            "_model_module": "@jupyter-widgets/base",
            "_model_module_version": "1.2.0",
            "_model_name": "LayoutModel",
            "_view_count": null,
            "_view_module": "@jupyter-widgets/base",
            "_view_module_version": "1.2.0",
            "_view_name": "LayoutView",
            "align_content": null,
            "align_items": null,
            "align_self": null,
            "border": null,
            "bottom": null,
            "display": null,
            "flex": null,
            "flex_flow": null,
            "grid_area": null,
            "grid_auto_columns": null,
            "grid_auto_flow": null,
            "grid_auto_rows": null,
            "grid_column": null,
            "grid_gap": null,
            "grid_row": null,
            "grid_template_areas": null,
            "grid_template_columns": null,
            "grid_template_rows": null,
            "height": null,
            "justify_content": null,
            "justify_items": null,
            "left": null,
            "margin": null,
            "max_height": null,
            "max_width": null,
            "min_height": null,
            "min_width": null,
            "object_fit": null,
            "object_position": null,
            "order": null,
            "overflow": null,
            "overflow_x": null,
            "overflow_y": null,
            "padding": null,
            "right": null,
            "top": null,
            "visibility": null,
            "width": null
          }
        },
        "c955c7ab6d294487b0c061dcff6ab8ce": {
          "model_module": "@jupyter-widgets/base",
          "model_module_version": "1.2.0",
          "model_name": "LayoutModel",
          "state": {
            "_model_module": "@jupyter-widgets/base",
            "_model_module_version": "1.2.0",
            "_model_name": "LayoutModel",
            "_view_count": null,
            "_view_module": "@jupyter-widgets/base",
            "_view_module_version": "1.2.0",
            "_view_name": "LayoutView",
            "align_content": null,
            "align_items": null,
            "align_self": null,
            "border": null,
            "bottom": null,
            "display": null,
            "flex": null,
            "flex_flow": null,
            "grid_area": null,
            "grid_auto_columns": null,
            "grid_auto_flow": null,
            "grid_auto_rows": null,
            "grid_column": null,
            "grid_gap": null,
            "grid_row": null,
            "grid_template_areas": null,
            "grid_template_columns": null,
            "grid_template_rows": null,
            "height": null,
            "justify_content": null,
            "justify_items": null,
            "left": null,
            "margin": null,
            "max_height": null,
            "max_width": null,
            "min_height": null,
            "min_width": null,
            "object_fit": null,
            "object_position": null,
            "order": null,
            "overflow": null,
            "overflow_x": null,
            "overflow_y": null,
            "padding": null,
            "right": null,
            "top": null,
            "visibility": null,
            "width": null
          }
        },
        "d0636ae6a10144d7944ddb0917d0dd4f": {
          "model_module": "@jupyter-widgets/base",
          "model_module_version": "1.2.0",
          "model_name": "LayoutModel",
          "state": {
            "_model_module": "@jupyter-widgets/base",
            "_model_module_version": "1.2.0",
            "_model_name": "LayoutModel",
            "_view_count": null,
            "_view_module": "@jupyter-widgets/base",
            "_view_module_version": "1.2.0",
            "_view_name": "LayoutView",
            "align_content": null,
            "align_items": null,
            "align_self": null,
            "border": null,
            "bottom": null,
            "display": null,
            "flex": null,
            "flex_flow": null,
            "grid_area": null,
            "grid_auto_columns": null,
            "grid_auto_flow": null,
            "grid_auto_rows": null,
            "grid_column": null,
            "grid_gap": null,
            "grid_row": null,
            "grid_template_areas": null,
            "grid_template_columns": null,
            "grid_template_rows": null,
            "height": null,
            "justify_content": null,
            "justify_items": null,
            "left": null,
            "margin": null,
            "max_height": null,
            "max_width": null,
            "min_height": null,
            "min_width": null,
            "object_fit": null,
            "object_position": null,
            "order": null,
            "overflow": null,
            "overflow_x": null,
            "overflow_y": null,
            "padding": null,
            "right": null,
            "top": null,
            "visibility": null,
            "width": null
          }
        },
        "d8a9313d67fc4afc97a41d38ca4be7f1": {
          "model_module": "@jupyter-widgets/controls",
          "model_module_version": "1.5.0",
          "model_name": "HTMLModel",
          "state": {
            "_dom_classes": [],
            "_model_module": "@jupyter-widgets/controls",
            "_model_module_version": "1.5.0",
            "_model_name": "HTMLModel",
            "_view_count": null,
            "_view_module": "@jupyter-widgets/controls",
            "_view_module_version": "1.5.0",
            "_view_name": "HTMLView",
            "description": "",
            "description_tooltip": null,
            "layout": "IPY_MODEL_406d172ce3c741d1961c2ce31bee93e1",
            "placeholder": "​",
            "style": "IPY_MODEL_567a27466d85457b9a1195fd78aec874",
            "value": " 0/0 [00:00&lt;?, ? url/s]"
          }
        },
        "dc1b69073390473cb91871c431b7f2b0": {
          "model_module": "@jupyter-widgets/controls",
          "model_module_version": "1.5.0",
          "model_name": "DescriptionStyleModel",
          "state": {
            "_model_module": "@jupyter-widgets/controls",
            "_model_module_version": "1.5.0",
            "_model_name": "DescriptionStyleModel",
            "_view_count": null,
            "_view_module": "@jupyter-widgets/base",
            "_view_module_version": "1.2.0",
            "_view_name": "StyleView",
            "description_width": ""
          }
        },
        "ddeb3188d620452a96378a243d508c7e": {
          "model_module": "@jupyter-widgets/base",
          "model_module_version": "1.2.0",
          "model_name": "LayoutModel",
          "state": {
            "_model_module": "@jupyter-widgets/base",
            "_model_module_version": "1.2.0",
            "_model_name": "LayoutModel",
            "_view_count": null,
            "_view_module": "@jupyter-widgets/base",
            "_view_module_version": "1.2.0",
            "_view_name": "LayoutView",
            "align_content": null,
            "align_items": null,
            "align_self": null,
            "border": null,
            "bottom": null,
            "display": null,
            "flex": null,
            "flex_flow": null,
            "grid_area": null,
            "grid_auto_columns": null,
            "grid_auto_flow": null,
            "grid_auto_rows": null,
            "grid_column": null,
            "grid_gap": null,
            "grid_row": null,
            "grid_template_areas": null,
            "grid_template_columns": null,
            "grid_template_rows": null,
            "height": null,
            "justify_content": null,
            "justify_items": null,
            "left": null,
            "margin": null,
            "max_height": null,
            "max_width": null,
            "min_height": null,
            "min_width": null,
            "object_fit": null,
            "object_position": null,
            "order": null,
            "overflow": null,
            "overflow_x": null,
            "overflow_y": null,
            "padding": null,
            "right": null,
            "top": null,
            "visibility": null,
            "width": null
          }
        },
        "dfdb959acda340ce851d35369548c6fd": {
          "model_module": "@jupyter-widgets/controls",
          "model_module_version": "1.5.0",
          "model_name": "ProgressStyleModel",
          "state": {
            "_model_module": "@jupyter-widgets/controls",
            "_model_module_version": "1.5.0",
            "_model_name": "ProgressStyleModel",
            "_view_count": null,
            "_view_module": "@jupyter-widgets/base",
            "_view_module_version": "1.2.0",
            "_view_name": "StyleView",
            "bar_color": null,
            "description_width": ""
          }
        },
        "e6d49556c4ff4845ae2653e9cd4137ce": {
          "model_module": "@jupyter-widgets/base",
          "model_module_version": "1.2.0",
          "model_name": "LayoutModel",
          "state": {
            "_model_module": "@jupyter-widgets/base",
            "_model_module_version": "1.2.0",
            "_model_name": "LayoutModel",
            "_view_count": null,
            "_view_module": "@jupyter-widgets/base",
            "_view_module_version": "1.2.0",
            "_view_name": "LayoutView",
            "align_content": null,
            "align_items": null,
            "align_self": null,
            "border": null,
            "bottom": null,
            "display": null,
            "flex": null,
            "flex_flow": null,
            "grid_area": null,
            "grid_auto_columns": null,
            "grid_auto_flow": null,
            "grid_auto_rows": null,
            "grid_column": null,
            "grid_gap": null,
            "grid_row": null,
            "grid_template_areas": null,
            "grid_template_columns": null,
            "grid_template_rows": null,
            "height": null,
            "justify_content": null,
            "justify_items": null,
            "left": null,
            "margin": null,
            "max_height": null,
            "max_width": null,
            "min_height": null,
            "min_width": null,
            "object_fit": null,
            "object_position": null,
            "order": null,
            "overflow": null,
            "overflow_x": null,
            "overflow_y": null,
            "padding": null,
            "right": null,
            "top": null,
            "visibility": null,
            "width": null
          }
        },
        "e7b37fd6c6a44e629069ef70a983fea9": {
          "model_module": "@jupyter-widgets/base",
          "model_module_version": "1.2.0",
          "model_name": "LayoutModel",
          "state": {
            "_model_module": "@jupyter-widgets/base",
            "_model_module_version": "1.2.0",
            "_model_name": "LayoutModel",
            "_view_count": null,
            "_view_module": "@jupyter-widgets/base",
            "_view_module_version": "1.2.0",
            "_view_name": "LayoutView",
            "align_content": null,
            "align_items": null,
            "align_self": null,
            "border": null,
            "bottom": null,
            "display": null,
            "flex": null,
            "flex_flow": null,
            "grid_area": null,
            "grid_auto_columns": null,
            "grid_auto_flow": null,
            "grid_auto_rows": null,
            "grid_column": null,
            "grid_gap": null,
            "grid_row": null,
            "grid_template_areas": null,
            "grid_template_columns": null,
            "grid_template_rows": null,
            "height": null,
            "justify_content": null,
            "justify_items": null,
            "left": null,
            "margin": null,
            "max_height": null,
            "max_width": null,
            "min_height": null,
            "min_width": null,
            "object_fit": null,
            "object_position": null,
            "order": null,
            "overflow": null,
            "overflow_x": null,
            "overflow_y": null,
            "padding": null,
            "right": null,
            "top": null,
            "visibility": null,
            "width": "20px"
          }
        },
        "ef9769cf4c684cc497299bc7f7454ce9": {
          "model_module": "@jupyter-widgets/controls",
          "model_module_version": "1.5.0",
          "model_name": "HTMLModel",
          "state": {
            "_dom_classes": [],
            "_model_module": "@jupyter-widgets/controls",
            "_model_module_version": "1.5.0",
            "_model_name": "HTMLModel",
            "_view_count": null,
            "_view_module": "@jupyter-widgets/controls",
            "_view_module_version": "1.5.0",
            "_view_name": "HTMLView",
            "description": "",
            "description_tooltip": null,
            "layout": "IPY_MODEL_2224751bc7c14e7782874b08a7dcb9a5",
            "placeholder": "​",
            "style": "IPY_MODEL_55956ac110c64982ae5460f6014cab68",
            "value": " 119839/0 [00:35&lt;00:00, 3638.18 examples/s]"
          }
        },
        "f09cec286fec4970b07d72e1b33a0338": {
          "model_module": "@jupyter-widgets/base",
          "model_module_version": "1.2.0",
          "model_name": "LayoutModel",
          "state": {
            "_model_module": "@jupyter-widgets/base",
            "_model_module_version": "1.2.0",
            "_model_name": "LayoutModel",
            "_view_count": null,
            "_view_module": "@jupyter-widgets/base",
            "_view_module_version": "1.2.0",
            "_view_name": "LayoutView",
            "align_content": null,
            "align_items": null,
            "align_self": null,
            "border": null,
            "bottom": null,
            "display": null,
            "flex": null,
            "flex_flow": null,
            "grid_area": null,
            "grid_auto_columns": null,
            "grid_auto_flow": null,
            "grid_auto_rows": null,
            "grid_column": null,
            "grid_gap": null,
            "grid_row": null,
            "grid_template_areas": null,
            "grid_template_columns": null,
            "grid_template_rows": null,
            "height": null,
            "justify_content": null,
            "justify_items": null,
            "left": null,
            "margin": null,
            "max_height": null,
            "max_width": null,
            "min_height": null,
            "min_width": null,
            "object_fit": null,
            "object_position": null,
            "order": null,
            "overflow": null,
            "overflow_x": null,
            "overflow_y": null,
            "padding": null,
            "right": null,
            "top": null,
            "visibility": null,
            "width": null
          }
        },
        "f1e735f8a3ed42688097af2e5b35232d": {
          "model_module": "@jupyter-widgets/controls",
          "model_module_version": "1.5.0",
          "model_name": "ProgressStyleModel",
          "state": {
            "_model_module": "@jupyter-widgets/controls",
            "_model_module_version": "1.5.0",
            "_model_name": "ProgressStyleModel",
            "_view_count": null,
            "_view_module": "@jupyter-widgets/base",
            "_view_module_version": "1.2.0",
            "_view_name": "StyleView",
            "bar_color": null,
            "description_width": ""
          }
        },
        "f61d00b20c7c4923a6d7b22a3f34da9d": {
          "model_module": "@jupyter-widgets/controls",
          "model_module_version": "1.5.0",
          "model_name": "ProgressStyleModel",
          "state": {
            "_model_module": "@jupyter-widgets/controls",
            "_model_module_version": "1.5.0",
            "_model_name": "ProgressStyleModel",
            "_view_count": null,
            "_view_module": "@jupyter-widgets/base",
            "_view_module_version": "1.2.0",
            "_view_name": "StyleView",
            "bar_color": null,
            "description_width": ""
          }
        },
        "f7e485c83e3046888476c7af3c6c4deb": {
          "model_module": "@jupyter-widgets/controls",
          "model_module_version": "1.5.0",
          "model_name": "DescriptionStyleModel",
          "state": {
            "_model_module": "@jupyter-widgets/controls",
            "_model_module_version": "1.5.0",
            "_model_name": "DescriptionStyleModel",
            "_view_count": null,
            "_view_module": "@jupyter-widgets/base",
            "_view_module_version": "1.2.0",
            "_view_name": "StyleView",
            "description_width": ""
          }
        },
        "f8a89c9530ea4a9e9430d9275edccc95": {
          "model_module": "@jupyter-widgets/controls",
          "model_module_version": "1.5.0",
          "model_name": "DescriptionStyleModel",
          "state": {
            "_model_module": "@jupyter-widgets/controls",
            "_model_module_version": "1.5.0",
            "_model_name": "DescriptionStyleModel",
            "_view_count": null,
            "_view_module": "@jupyter-widgets/base",
            "_view_module_version": "1.2.0",
            "_view_name": "StyleView",
            "description_width": ""
          }
        },
        "fb66bbf6d35346e9bbc75b77f8c8a73e": {
          "model_module": "@jupyter-widgets/base",
          "model_module_version": "1.2.0",
          "model_name": "LayoutModel",
          "state": {
            "_model_module": "@jupyter-widgets/base",
            "_model_module_version": "1.2.0",
            "_model_name": "LayoutModel",
            "_view_count": null,
            "_view_module": "@jupyter-widgets/base",
            "_view_module_version": "1.2.0",
            "_view_name": "LayoutView",
            "align_content": null,
            "align_items": null,
            "align_self": null,
            "border": null,
            "bottom": null,
            "display": null,
            "flex": null,
            "flex_flow": null,
            "grid_area": null,
            "grid_auto_columns": null,
            "grid_auto_flow": null,
            "grid_auto_rows": null,
            "grid_column": null,
            "grid_gap": null,
            "grid_row": null,
            "grid_template_areas": null,
            "grid_template_columns": null,
            "grid_template_rows": null,
            "height": null,
            "justify_content": null,
            "justify_items": null,
            "left": null,
            "margin": null,
            "max_height": null,
            "max_width": null,
            "min_height": null,
            "min_width": null,
            "object_fit": null,
            "object_position": null,
            "order": null,
            "overflow": null,
            "overflow_x": null,
            "overflow_y": null,
            "padding": null,
            "right": null,
            "top": null,
            "visibility": null,
            "width": null
          }
        }
      }
    }
  },
  "nbformat": 4,
  "nbformat_minor": 0
}
